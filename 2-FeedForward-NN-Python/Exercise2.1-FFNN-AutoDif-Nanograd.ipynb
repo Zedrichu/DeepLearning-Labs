{
  "cells": [
    {
      "cell_type": "markdown",
      "metadata": {
        "id": "HAva8TnYFtFu"
      },
      "source": [
        "# Contents and why we need this lab\n",
        "\n",
        "This lab is about implementing neural networks yourself before we start using other frameworks that hide some of the computation from you. It builds on the first lab, where you derived the equations for neural network forward and backward propagation and gradient descent parameter updates.\n",
        "\n",
        "All the frameworks for deep learning you will meet from now on use automatic differentiation (autodiff), so you do not have to code the backward step yourself. In this version of this lab, you will develop your own autodif implementation. We also have an optional [version](https://github.com/DeepLearningDTU/02456-deep-learning-with-PyTorch/blob/master/2_Feedforward_Python/2.2-FNN-NumPy.ipynb) of this lab where you have to code the backward pass explicitly in Numpy."
      ]
    },
    {
      "cell_type": "markdown",
      "metadata": {
        "id": "sCa7HzwpFtFy"
      },
      "source": [
        "# External sources of information\n",
        "\n",
        "1. Jupyter notebook. You can find more information about Jupyter notebooks [here](https://jupyter.org/). It will come as part of the [Anaconda](https://www.anaconda.com/) Python installation.\n",
        "2. [NumPy](https://numpy.org/). Part of Anaconda distribution.  If you already know how to program, most things about Python and NumPy can be found with Google searches.\n",
        "3. [Nanograd](https://github.com/rasmusbergpalm/nanograd) is a minimalistic version of autodiff developed by Rasmus Berg Palm that we use for our framework.\n"
      ]
    },
    {
      "cell_type": "markdown",
      "metadata": {
        "id": "1SjiIp-TFtF0"
      },
      "source": [
        "# This notebook will follow the next steps:\n",
        "\n",
        "1. Nanograd automatic differentiation framework\n",
        "2. Finite difference method\n",
        "3. Data generation\n",
        "4. Defining and initializing the network\n",
        "5. Forward pass\n",
        "6. Training loop\n",
        "7. Testing your model\n",
        "8. Further extensions"
      ]
    },
    {
      "cell_type": "markdown",
      "metadata": {
        "id": "OyXeAA-HuT7s"
      },
      "source": [
        "# Nanograd automatic differention framework"
      ]
    },
    {
      "cell_type": "markdown",
      "metadata": {
        "id": "k6UWKCLKubgA"
      },
      "source": [
        "The [Nanograd](https://github.com/rasmusbergpalm/nanograd) framework defines a class Var which both holds a value and gradient value that we can use to store the intermediate values when we apply the chain rule of differentiation."
      ]
    },
    {
      "cell_type": "code",
      "execution_count": 2,
      "metadata": {
        "id": "Jd4CoEBNzNWS"
      },
      "outputs": [],
      "source": [
        "# Copy and pasted from https://github.com/rasmusbergpalm/nanograd/blob/3a1bf9e9e724da813bfccf91a6f309abdade9f39/nanograd.py\n",
        "\n",
        "from math import exp, log, tanh\n",
        "\n",
        "class Var:\n",
        "    \"\"\"\n",
        "    A variable which holds a float and enables gradient computations.\n",
        "    \"\"\"\n",
        "\n",
        "    def __init__(self, val: float, grad_fn=lambda: []):\n",
        "        assert type(val) == float\n",
        "        self.v = val\n",
        "        self.grad_fn = grad_fn\n",
        "        self.grad = 0.0\n",
        "\n",
        "    def backprop(self, bp):\n",
        "        self.grad += bp\n",
        "        for input, grad in self.grad_fn():\n",
        "            input.backprop(grad * bp)\n",
        "\n",
        "    def backward(self):\n",
        "        self.backprop(1.0)\n",
        "\n",
        "    def __add__(self: 'Var', other: 'Var') -> 'Var':\n",
        "        return Var(self.v + other.v, lambda: [(self, 1.0), (other, 1.0)])\n",
        "\n",
        "    def __mul__(self: 'Var', other: 'Var') -> 'Var':\n",
        "        return Var(self.v * other.v, lambda: [(self, other.v), (other, self.v)])\n",
        "\n",
        "    def __pow__(self, power):\n",
        "        assert type(power) in {float, int}, \"power must be float or int\"\n",
        "        return Var(self.v ** power, lambda: [(self, power * self.v ** (power - 1))])\n",
        "\n",
        "    def __neg__(self: 'Var') -> 'Var':\n",
        "        return Var(-1.0) * self\n",
        "\n",
        "    def __sub__(self: 'Var', other: 'Var') -> 'Var':\n",
        "        return self + (-other)\n",
        "\n",
        "    def __truediv__(self: 'Var', other: 'Var') -> 'Var':\n",
        "        return self * other ** -1\n",
        "\n",
        "    def __repr__(self):\n",
        "        return \"Var(v=%.4f, grad=%.4f)\" % (self.v, self.grad)\n",
        "\n",
        "    def exp(self):\n",
        "        return Var(exp(self.v), lambda: [(self, exp(self.v))])\n",
        "\n",
        "    def log(self):\n",
        "        return Var(log(self.v), lambda: [(self, self.v ** -1)])\n",
        "\n",
        "    def relu(self):\n",
        "        return Var(self.v if self.v > 0.0 else 0.0, lambda: [(self, 1.0 if self.v > 0.0 else 0.0)])\n",
        "\n",
        "    def identity(self):\n",
        "        return Var(self.v, lambda: [(self, 1.0)])\n",
        "\n",
        "    def tanh(self):\n",
        "        return Var(tanh(self.v), lambda: [(self, 1 - tanh(self.v) ** 2)])\n",
        "\n",
        "    def sigmoid(self):\n",
        "        sigmoid = 1.0 / (1.0 + exp(-self.v))\n",
        "        return Var(1.0 / (1.0 + exp(-self.v)), lambda: [(self, sigmoid * (1.0 - sigmoid))])"
      ]
    },
    {
      "cell_type": "markdown",
      "metadata": {
        "id": "yDX67D6jzcte"
      },
      "source": [
        "A few examples illustrate how we can use this:"
      ]
    },
    {
      "cell_type": "code",
      "execution_count": 3,
      "metadata": {
        "colab": {
          "base_uri": "https://localhost:8080/"
        },
        "id": "xk6PeLc3zwPT",
        "outputId": "4ce46933-0207-48aa-a19c-8939a6ed12f0"
      },
      "outputs": [
        {
          "name": "stdout",
          "output_type": "stream",
          "text": [
            "Var(v=3.0000, grad=5.0000)\n",
            "Var(v=5.0000, grad=3.0000)\n",
            "Var(v=15.0000, grad=1.0000)\n"
          ]
        }
      ],
      "source": [
        "a = Var(3.0)\n",
        "b = Var(5.0)\n",
        "f = a * b\n",
        "\n",
        "f.backward()\n",
        "\n",
        "for v in [a, b, f]:\n",
        "    print(v)"
      ]
    },
    {
      "cell_type": "code",
      "execution_count": 4,
      "metadata": {
        "colab": {
          "base_uri": "https://localhost:8080/"
        },
        "id": "JmKhYgsY0g_o",
        "outputId": "5d52bdfe-b008-4a27-d98d-f4ce0df6d3ee"
      },
      "outputs": [
        {
          "name": "stdout",
          "output_type": "stream",
          "text": [
            "Var(v=3.0000, grad=14.0000)\n",
            "Var(v=5.0000, grad=3.0000)\n",
            "Var(v=15.0000, grad=1.0000)\n",
            "Var(v=9.0000, grad=3.0000)\n",
            "Var(v=27.0000, grad=1.0000)\n",
            "Var(v=42.0000, grad=1.0000)\n"
          ]
        }
      ],
      "source": [
        "a = Var(3.0)\n",
        "b = Var(5.0)\n",
        "c = a * b\n",
        "d = Var(9.0)\n",
        "e = a * d\n",
        "f = c + e\n",
        "\n",
        "f.backward()\n",
        "\n",
        "for v in [a, b, c, d, e, f]:\n",
        "    print(v)"
      ]
    },
    {
      "cell_type": "markdown",
      "metadata": {
        "id": "Fe3B6uEH140p"
      },
      "source": [
        "## Exercise a) What is being calculated?\n",
        "\n",
        "Explain briefly the output of the code? What is the expression we differentiate and with respect to what variables?"
      ]
    },
    {
      "cell_type": "markdown",
      "metadata": {
        "id": "eGMJP2w1fvis"
      },
      "source": [
        "\n",
        "$\\rule{100cm}{0.4pt}$\n",
        "\n",
        "We compute the partial derivatives of the final computed variable with respect to each of the variables encountered in the computation. The differentiated expressions:\n",
        "$$ \\frac{\\partial f}{\\partial x}, \\text{for } x \\in \\{\\text{all involved variables}\\} $$\n",
        "where \n",
        "$$\n",
        "c = a \\cdot b, e = a\\cdot d, f = c + e = a \\cdot b + a \\cdot d\n",
        "$$\n",
        "Hence the gradients computed are:\n",
        "$$\n",
        "\\frac{\\partial f}{\\partial a} = b + d = 14.0, \\frac{\\partial f}{\\partial b} = a = 3.0, \\frac{\\partial f}{\\partial d} = a = 3.0\n",
        "$$"
      ]
    },
    {
      "cell_type": "markdown",
      "metadata": {
        "id": "q8_Q0t2I3Ruj"
      },
      "source": [
        "## Exercise b) How does the backward function work?\n",
        "\n",
        "You need to understand how the backward function calculates the gradients. We can use the two examples above to help with that.\n",
        "\n",
        "Go through the following four steps and answer the questions on the way:\n",
        "\n",
        "1. We represent the two expressions as graphs as shown below. Fill in the missing expressions for the different derivatives.\n",
        "\n",
        "2. In the remainder consider the first expression. Make a schematic of the data structure which is generated when we define the expression for f.\n",
        "\n",
        "3. Then execute the backward function by hand to convince yourself that it indeed calculates the gradients with respect to the variables.\n",
        "\n",
        "4. Write down the sequence of calls to backprop."
      ]
    },
    {
      "cell_type": "code",
      "execution_count": 5,
      "metadata": {
        "id": "idGr71jYXl26"
      },
      "outputs": [],
      "source": [
        "# import logging\n",
        "import graphviz\n",
        "\n",
        "#logging.basicConfig(format='[%(levelname)s@%(name)s] %(message)s', level=logging.DEBUG)\n",
        "\n",
        "#graphviz.__version__, graphviz.version()"
      ]
    },
    {
      "cell_type": "code",
      "execution_count": 6,
      "metadata": {
        "colab": {
          "base_uri": "https://localhost:8080/",
          "height": 152
        },
        "id": "KPe30Q2QXzeG",
        "outputId": "c0ed4824-dc00-45e3-eaf9-f9a05b5010a9"
      },
      "outputs": [
        {
          "data": {
            "image/svg+xml": [
              "<?xml version=\"1.0\" encoding=\"UTF-8\" standalone=\"no\"?>\n",
              "<!DOCTYPE svg PUBLIC \"-//W3C//DTD SVG 1.1//EN\"\n",
              " \"http://www.w3.org/Graphics/SVG/1.1/DTD/svg11.dtd\">\n",
              "<!-- Generated by graphviz version 11.0.0 (20240428.1522)\n",
              " -->\n",
              "<!-- Title: first expression Pages: 1 -->\n",
              "<svg width=\"159pt\" height=\"98pt\"\n",
              " viewBox=\"0.00 0.00 158.75 98.00\" xmlns=\"http://www.w3.org/2000/svg\" xmlns:xlink=\"http://www.w3.org/1999/xlink\">\n",
              "<g id=\"graph0\" class=\"graph\" transform=\"scale(1 1) rotate(0) translate(4 94)\">\n",
              "<title>first expression</title>\n",
              "<polygon fill=\"white\" stroke=\"none\" points=\"-4,4 -4,-94 154.75,-94 154.75,4 -4,4\"/>\n",
              "<!-- a -->\n",
              "<g id=\"node1\" class=\"node\">\n",
              "<title>a</title>\n",
              "<ellipse fill=\"none\" stroke=\"black\" cx=\"18\" cy=\"-72\" rx=\"18\" ry=\"18\"/>\n",
              "<text text-anchor=\"middle\" x=\"18\" y=\"-66.95\" font-family=\"Times,serif\" font-size=\"14.00\">a</text>\n",
              "</g>\n",
              "<!-- f -->\n",
              "<g id=\"node2\" class=\"node\">\n",
              "<title>f</title>\n",
              "<ellipse fill=\"none\" stroke=\"black\" cx=\"132.75\" cy=\"-45\" rx=\"18\" ry=\"18\"/>\n",
              "<text text-anchor=\"middle\" x=\"132.75\" y=\"-39.95\" font-family=\"Times,serif\" font-size=\"14.00\">f</text>\n",
              "</g>\n",
              "<!-- a&#45;&gt;f -->\n",
              "<g id=\"edge1\" class=\"edge\">\n",
              "<title>a&#45;&gt;f</title>\n",
              "<path fill=\"none\" stroke=\"black\" d=\"M35.64,-68.02C53.62,-63.71 82.59,-56.77 104.03,-51.64\"/>\n",
              "<polygon fill=\"black\" stroke=\"black\" points=\"104.66,-55.09 113.57,-49.35 103.03,-48.28 104.66,-55.09\"/>\n",
              "<text text-anchor=\"middle\" x=\"75.38\" y=\"-66.2\" font-family=\"Times,serif\" font-size=\"14.00\">df/da=b</text>\n",
              "</g>\n",
              "<!-- b -->\n",
              "<g id=\"node3\" class=\"node\">\n",
              "<title>b</title>\n",
              "<ellipse fill=\"none\" stroke=\"black\" cx=\"18\" cy=\"-18\" rx=\"18\" ry=\"18\"/>\n",
              "<text text-anchor=\"middle\" x=\"18\" y=\"-12.95\" font-family=\"Times,serif\" font-size=\"14.00\">b</text>\n",
              "</g>\n",
              "<!-- b&#45;&gt;f -->\n",
              "<g id=\"edge2\" class=\"edge\">\n",
              "<title>b&#45;&gt;f</title>\n",
              "<path fill=\"none\" stroke=\"black\" d=\"M36.16,-20.4C52.03,-22.81 76.2,-26.95 96.75,-32.5 99.38,-33.21 102.09,-34.02 104.79,-34.89\"/>\n",
              "<polygon fill=\"black\" stroke=\"black\" points=\"103.51,-38.15 114.11,-38.11 105.8,-31.54 103.51,-38.15\"/>\n",
              "<text text-anchor=\"middle\" x=\"75.38\" y=\"-35.2\" font-family=\"Times,serif\" font-size=\"14.00\">df/db=a</text>\n",
              "</g>\n",
              "</g>\n",
              "</svg>\n"
            ],
            "text/plain": [
              "<graphviz.graphs.Digraph at 0x1280fbf50>"
            ]
          },
          "execution_count": 6,
          "metadata": {},
          "output_type": "execute_result"
        }
      ],
      "source": [
        "e1 = graphviz.Digraph('first expression', filename='fsm.gv')\n",
        "\n",
        "e1.attr(rankdir='LR', size='8,5')\n",
        "\n",
        "e1.attr('node', shape='circle')\n",
        "e1.edge('a', 'f', label='df/da=b')\n",
        "e1.edge('b', 'f', label='df/db=a')\n",
        "\n",
        "e1"
      ]
    },
    {
      "cell_type": "markdown",
      "metadata": {
        "id": "NINLe5Pufvit"
      },
      "source": [
        "$$ \\rule{100cm}{0.4pt} $$\n",
        "Data structure schematic generated when expression for `f` is defined:\n",
        "- ```python\n",
        "    a = Var(val=3.0, grad=0.0)\n",
        "  ```\n",
        "- ```python\n",
        "    b = Var(val=5.0, grad=0.0)\n",
        "  ```\n",
        "- ```python\n",
        "    f = a * b = Var(val=3.0, grad=0.0) __mul__ Var(val=5.0, grad=0.0) = Var(3.0 * 5.0 = 15.0, grad_fn=[(a, b.v = 5.0), (b, a.v = 3.0)])\n",
        "  ```\n",
        "\n",
        "Execution of backward function and sequence of `backprop` calls:\n",
        "```python\n",
        "f.backward() = f.backprop(1.0) -> f.grad += 1.0 = 1.0,\n",
        "                                  a.backprop(b.v * bp = 5.0 * 1.0 = 5.0) -> a.grad += 5.0 = 5.0\n",
        "                                  b.backprop(a.v * bp = 3.0 * 1.0 = 3.0) -> b.grad += 3.0 = 3.0\n",
        "```"
      ]
    },
    {
      "cell_type": "code",
      "execution_count": 7,
      "metadata": {
        "colab": {
          "base_uri": "https://localhost:8080/",
          "height": 232
        },
        "id": "0nittR-mZFeX",
        "outputId": "da2f066c-aa49-47f4-9c18-5c25fcc2399b"
      },
      "outputs": [
        {
          "data": {
            "image/svg+xml": [
              "<?xml version=\"1.0\" encoding=\"UTF-8\" standalone=\"no\"?>\n",
              "<!DOCTYPE svg PUBLIC \"-//W3C//DTD SVG 1.1//EN\"\n",
              " \"http://www.w3.org/Graphics/SVG/1.1/DTD/svg11.dtd\">\n",
              "<!-- Generated by graphviz version 11.0.0 (20240428.1522)\n",
              " -->\n",
              "<!-- Title: second expression Pages: 1 -->\n",
              "<svg width=\"275pt\" height=\"164pt\"\n",
              " viewBox=\"0.00 0.00 275.00 164.00\" xmlns=\"http://www.w3.org/2000/svg\" xmlns:xlink=\"http://www.w3.org/1999/xlink\">\n",
              "<g id=\"graph0\" class=\"graph\" transform=\"scale(1 1) rotate(0) translate(4 160)\">\n",
              "<title>second expression</title>\n",
              "<polygon fill=\"white\" stroke=\"none\" points=\"-4,4 -4,-160 271,-160 271,4 -4,4\"/>\n",
              "<!-- a -->\n",
              "<g id=\"node1\" class=\"node\">\n",
              "<title>a</title>\n",
              "<ellipse fill=\"none\" stroke=\"black\" cx=\"18\" cy=\"-78\" rx=\"18\" ry=\"18\"/>\n",
              "<text text-anchor=\"middle\" x=\"18\" y=\"-72.95\" font-family=\"Times,serif\" font-size=\"14.00\">a</text>\n",
              "</g>\n",
              "<!-- c -->\n",
              "<g id=\"node2\" class=\"node\">\n",
              "<title>c</title>\n",
              "<ellipse fill=\"none\" stroke=\"black\" cx=\"134.25\" cy=\"-105\" rx=\"18\" ry=\"18\"/>\n",
              "<text text-anchor=\"middle\" x=\"134.25\" y=\"-99.95\" font-family=\"Times,serif\" font-size=\"14.00\">c</text>\n",
              "</g>\n",
              "<!-- a&#45;&gt;c -->\n",
              "<g id=\"edge1\" class=\"edge\">\n",
              "<title>a&#45;&gt;c</title>\n",
              "<path fill=\"none\" stroke=\"black\" d=\"M35.86,-81.98C54.08,-86.29 83.44,-93.23 105.16,-98.36\"/>\n",
              "<polygon fill=\"black\" stroke=\"black\" points=\"104.31,-101.76 114.85,-100.65 105.92,-94.95 104.31,-101.76\"/>\n",
              "<text text-anchor=\"middle\" x=\"76.12\" y=\"-99.2\" font-family=\"Times,serif\" font-size=\"14.00\">dc/da=b</text>\n",
              "</g>\n",
              "<!-- e -->\n",
              "<g id=\"node4\" class=\"node\">\n",
              "<title>e</title>\n",
              "<ellipse fill=\"none\" stroke=\"black\" cx=\"134.25\" cy=\"-51\" rx=\"18\" ry=\"18\"/>\n",
              "<text text-anchor=\"middle\" x=\"134.25\" y=\"-45.95\" font-family=\"Times,serif\" font-size=\"14.00\">e</text>\n",
              "</g>\n",
              "<!-- a&#45;&gt;e -->\n",
              "<g id=\"edge3\" class=\"edge\">\n",
              "<title>a&#45;&gt;e</title>\n",
              "<path fill=\"none\" stroke=\"black\" d=\"M35.21,-71.59C41.06,-69.44 47.77,-67.17 54,-65.5 70.63,-61.04 89.59,-57.52 104.79,-55.06\"/>\n",
              "<polygon fill=\"black\" stroke=\"black\" points=\"105.22,-58.54 114.57,-53.55 104.15,-51.62 105.22,-58.54\"/>\n",
              "<text text-anchor=\"middle\" x=\"76.12\" y=\"-68.2\" font-family=\"Times,serif\" font-size=\"14.00\">de/da=d</text>\n",
              "</g>\n",
              "<!-- f -->\n",
              "<g id=\"node6\" class=\"node\">\n",
              "<title>f</title>\n",
              "<ellipse fill=\"none\" stroke=\"black\" cx=\"249\" cy=\"-78\" rx=\"18\" ry=\"18\"/>\n",
              "<text text-anchor=\"middle\" x=\"249\" y=\"-72.95\" font-family=\"Times,serif\" font-size=\"14.00\">f</text>\n",
              "</g>\n",
              "<!-- c&#45;&gt;f -->\n",
              "<g id=\"edge5\" class=\"edge\">\n",
              "<title>c&#45;&gt;f</title>\n",
              "<path fill=\"none\" stroke=\"black\" d=\"M151.89,-101.02C169.87,-96.71 198.84,-89.77 220.28,-84.64\"/>\n",
              "<polygon fill=\"black\" stroke=\"black\" points=\"220.91,-88.09 229.82,-82.35 219.28,-81.28 220.91,-88.09\"/>\n",
              "<text text-anchor=\"middle\" x=\"191.62\" y=\"-99.2\" font-family=\"Times,serif\" font-size=\"14.00\">df/dc=1</text>\n",
              "</g>\n",
              "<!-- b -->\n",
              "<g id=\"node3\" class=\"node\">\n",
              "<title>b</title>\n",
              "<ellipse fill=\"none\" stroke=\"black\" cx=\"18\" cy=\"-138\" rx=\"18\" ry=\"18\"/>\n",
              "<text text-anchor=\"middle\" x=\"18\" y=\"-132.95\" font-family=\"Times,serif\" font-size=\"14.00\">b</text>\n",
              "</g>\n",
              "<!-- b&#45;&gt;c -->\n",
              "<g id=\"edge2\" class=\"edge\">\n",
              "<title>b&#45;&gt;c</title>\n",
              "<path fill=\"none\" stroke=\"black\" d=\"M35.74,-133.53C51.82,-129.19 76.75,-122.36 98.25,-116 100.68,-115.28 103.2,-114.52 105.73,-113.75\"/>\n",
              "<polygon fill=\"black\" stroke=\"black\" points=\"106.6,-117.14 115.11,-110.82 104.52,-110.46 106.6,-117.14\"/>\n",
              "<text text-anchor=\"middle\" x=\"76.12\" y=\"-131.2\" font-family=\"Times,serif\" font-size=\"14.00\">dc/db=a</text>\n",
              "</g>\n",
              "<!-- e&#45;&gt;f -->\n",
              "<g id=\"edge6\" class=\"edge\">\n",
              "<title>e&#45;&gt;f</title>\n",
              "<path fill=\"none\" stroke=\"black\" d=\"M152.41,-53.4C168.28,-55.81 192.45,-59.95 213,-65.5 215.63,-66.21 218.34,-67.02 221.04,-67.89\"/>\n",
              "<polygon fill=\"black\" stroke=\"black\" points=\"219.76,-71.15 230.36,-71.11 222.05,-64.54 219.76,-71.15\"/>\n",
              "<text text-anchor=\"middle\" x=\"191.62\" y=\"-68.2\" font-family=\"Times,serif\" font-size=\"14.00\">df/de=1</text>\n",
              "</g>\n",
              "<!-- d -->\n",
              "<g id=\"node5\" class=\"node\">\n",
              "<title>d</title>\n",
              "<ellipse fill=\"none\" stroke=\"black\" cx=\"18\" cy=\"-18\" rx=\"18\" ry=\"18\"/>\n",
              "<text text-anchor=\"middle\" x=\"18\" y=\"-12.95\" font-family=\"Times,serif\" font-size=\"14.00\">d</text>\n",
              "</g>\n",
              "<!-- d&#45;&gt;e -->\n",
              "<g id=\"edge4\" class=\"edge\">\n",
              "<title>d&#45;&gt;e</title>\n",
              "<path fill=\"none\" stroke=\"black\" d=\"M36.27,-20.79C52.51,-23.65 77.37,-28.65 98.25,-35.5 101.17,-36.46 104.17,-37.57 107.14,-38.76\"/>\n",
              "<polygon fill=\"black\" stroke=\"black\" points=\"105.52,-41.88 116.09,-42.62 108.29,-35.45 105.52,-41.88\"/>\n",
              "<text text-anchor=\"middle\" x=\"76.12\" y=\"-38.2\" font-family=\"Times,serif\" font-size=\"14.00\">de/dd=a</text>\n",
              "</g>\n",
              "</g>\n",
              "</svg>\n"
            ],
            "text/plain": [
              "<graphviz.graphs.Digraph at 0x12811c1d0>"
            ]
          },
          "execution_count": 7,
          "metadata": {},
          "output_type": "execute_result"
        }
      ],
      "source": [
        "e2 = graphviz.Digraph('second expression', filename='fsm.gv')\n",
        "\n",
        "e2.attr(rankdir='LR', size='8,5')\n",
        "\n",
        "e2.attr('node', shape='circle')\n",
        "e2.edge('a', 'c', label='dc/da=b')\n",
        "e2.edge('b', 'c', label='dc/db=a')\n",
        "e2.edge('a', 'e', label='de/da=d')\n",
        "e2.edge('d', 'e', label='de/dd=a')\n",
        "e2.edge('c', 'f', label='df/dc=1')\n",
        "e2.edge('e', 'f', label='df/de=1')\n",
        "\n",
        "e2"
      ]
    },
    {
      "cell_type": "markdown",
      "metadata": {
        "id": "A5oi21W4gpeM"
      },
      "source": [
        "## Exercise c) What happens if we run backward again?\n",
        "\n",
        "Try to execute the code below. Explain what happens."
      ]
    },
    {
      "cell_type": "code",
      "execution_count": 18,
      "metadata": {
        "colab": {
          "base_uri": "https://localhost:8080/"
        },
        "id": "DCtpJyr-gyX1",
        "outputId": "afc630de-03af-4179-ec5d-874c4c30edd4"
      },
      "outputs": [
        {
          "name": "stdout",
          "output_type": "stream",
          "text": [
            "Var(v=3.0000, grad=28.0000)\n",
            "Var(v=5.0000, grad=6.0000)\n",
            "Var(v=15.0000, grad=2.0000)\n",
            "Var(v=9.0000, grad=6.0000)\n",
            "Var(v=27.0000, grad=2.0000)\n",
            "Var(v=42.0000, grad=2.0000)\n"
          ]
        }
      ],
      "source": [
        "f.backward()\n",
        "\n",
        "for v in [a, b, c, d, e, f]:\n",
        "    print(v)"
      ]
    },
    {
      "cell_type": "markdown",
      "metadata": {
        "id": "S9OEOni_fvit"
      },
      "source": [
        "$\\rule{100cm}{0.4pt}$\n",
        "The `f.grad` gets incremented by 1 on the\n",
        "```python\n",
        "f.backward() = f.backprop(1.0)\n",
        "```\n",
        "call, hence it back-propagates to all inner variables to double their `grad` as the derivative $ \\frac{\\partial f}{\\partial x} \\rightarrow$ the new gradients are added upon the existing and such all derivatives are doubled."
      ]
    },
    {
      "cell_type": "markdown",
      "metadata": {
        "id": "e8bPVq2VhsP-"
      },
      "source": [
        "## Exercise d) Zero gradient\n",
        "\n",
        "We can zero the gradient by backpropagating a -1.0 as is shown in the example below. (If you have run backward multiple time then you also have to run the cell below an equal amount of times.) Explain what is going on."
      ]
    },
    {
      "cell_type": "code",
      "execution_count": 19,
      "metadata": {
        "colab": {
          "base_uri": "https://localhost:8080/"
        },
        "id": "OnyPDQx9lJe0",
        "outputId": "ee523fa7-8565-4e45-ae06-3af67c4d8c48"
      },
      "outputs": [
        {
          "name": "stdout",
          "output_type": "stream",
          "text": [
            "Var(v=2.0000, grad=0.0000)\n",
            "Var(v=5.0000, grad=6.0000)\n",
            "Var(v=15.0000, grad=2.0000)\n",
            "Var(v=9.0000, grad=6.0000)\n",
            "Var(v=27.0000, grad=2.0000)\n",
            "Var(v=42.0000, grad=2.0000)\n",
            "\n",
            "Var(v=2.0000, grad=0.0000)\n",
            "Var(v=5.0000, grad=3.0000)\n",
            "Var(v=15.0000, grad=1.0000)\n",
            "Var(v=9.0000, grad=3.0000)\n",
            "Var(v=27.0000, grad=1.0000)\n",
            "Var(v=42.0000, grad=1.0000)\n"
          ]
        }
      ],
      "source": [
        "a = Var(2.0)\n",
        "\n",
        "for v in [a, b, c, d, e, f]:\n",
        "    print(v)\n",
        "print()\n",
        "\n",
        "f.backprop(-1.0)\n",
        "\n",
        "for v in [a, b, c, d, e, f]:\n",
        "    print(v)"
      ]
    },
    {
      "cell_type": "markdown",
      "metadata": {
        "id": "BesenbEIfvit"
      },
      "source": [
        "$\\rule{100cm}{0.4pt}$\n",
        "Every time the back-propagation is run with `-1`, we subtract the corresponding derivative value from the current `grad` of the variable. Since `a` was freshly declared it has no relation to `f` and it is not modified. The other variables require `2` runs to zero out the gradient, since in the previous block we doubled all derivatives."
      ]
    },
    {
      "cell_type": "markdown",
      "metadata": {
        "id": "U4057_ljNvWB"
      },
      "source": [
        "## Exercise e) Test correctness of derivatives with the finite difference method\n",
        "\n",
        "Write a small function that uses [the finite difference method](https://en.wikipedia.org/wiki/Finite_difference_method) to numerically test that backpropation implementation is working. In short we will use\n",
        "$$\n",
        "\\frac{\\partial f(a)}{\\partial a} \\approx \\frac{f(a+da)-f(a)}{da}\n",
        "$$\n",
        "for $da \\ll 1$.\n",
        "\n",
        "As an example, we could approximate the derivative of the function $f(a)=a^2$ in e.g. the value $a=4$ using the finite difference method. This amounts to inserting the relevant values and approximating the gradient $f'(4)$ with the fraction above.\n"
      ]
    },
    {
      "cell_type": "code",
      "execution_count": 11,
      "metadata": {
        "colab": {
          "base_uri": "https://localhost:8080/"
        },
        "id": "9TGil92lSXDN",
        "outputId": "a7eac4da-3ea9-4ad1-a7af-06d618f0d644"
      },
      "outputs": [
        {
          "name": "stdout",
          "output_type": "stream",
          "text": [
            "Var(v=3.0000, grad=5.0000)\n",
            "Var(v=5.0000, grad=7.0000)\n",
            "Var(v=7.0000, grad=5.0000)\n",
            "Var(v=41.0000, grad=1.0000)\n",
            "\n",
            "6.999982815614203 == f'(4)) = 2a - 1\n"
          ]
        }
      ],
      "source": [
        "# f function - try to change the code to test other types of functions as well (such as different polynomials etc.)\n",
        "def f_function(a):\n",
        "  a = Var(a)\n",
        "  b = Var(5.0)\n",
        "  c = Var(7.0)\n",
        "  # f = a * a + b # -> f' = 2 * a\n",
        "  f = a ** 2 - a + b * c # -> f' = 2 * a - 1\n",
        "  f.backward()\n",
        "  return a,b,c,f\n",
        "\n",
        "for v in f_function(3.0):\n",
        "  print(v)\n",
        "print()\n",
        "\n",
        "# Insert your finite difference code here\n",
        "def finite_difference(da=1e-10):\n",
        "    \"\"\"\n",
        "    This function compute the finite difference between\n",
        "\n",
        "    Input:\n",
        "    da:          The finite difference                           (float)\n",
        "\n",
        "    Output:\n",
        "    finite_difference: numerical approximation to the derivative (float)\n",
        "    \"\"\"\n",
        "    a = 4.0 # <- Select a point value\n",
        "\n",
        "    fa_da = f_function(a + da)[-1].v       # <- Insert correct expression\n",
        "    fa = f_function(a)[-1].v               # <- Insert correct expression\n",
        "\n",
        "    finite_difference = (fa_da - fa) / da  # <- Compute Finite Difference for derivative\n",
        "\n",
        "    return finite_difference\n",
        "\n",
        "print(f\"{finite_difference()} == f'(4)) = 2a - 1\")"
      ]
    },
    {
      "cell_type": "markdown",
      "metadata": {
        "id": "6pZar5RKaUkg"
      },
      "source": [
        "# Create an artificial dataset to play with\n",
        "\n",
        "We create a non-linear 1d regression task. The generator supports various noise levels and it creates train, validation and test sets. You can modify it yourself if you want more or less challenging tasks."
      ]
    },
    {
      "cell_type": "code",
      "execution_count": 12,
      "metadata": {
        "id": "Y6yfMAQ8aduj"
      },
      "outputs": [],
      "source": [
        "import numpy as np\n",
        "import matplotlib.pyplot as plt\n",
        "\n",
        "np.random.seed(42)"
      ]
    },
    {
      "cell_type": "code",
      "execution_count": 13,
      "metadata": {
        "id": "4YabfD43ajNh"
      },
      "outputs": [],
      "source": [
        "def data_generator(noise=0.1, n_samples=300, D1=True):\n",
        "    # Create covariates and response variable\n",
        "    if D1:\n",
        "        X = np.linspace(-3, 3, num=n_samples).reshape(-1,1) # 1-D\n",
        "        np.random.shuffle(X)\n",
        "        y = np.random.normal((0.5*np.sin(X[:,0]*3) + X[:,0]), noise) # 1-D with trend\n",
        "    else:\n",
        "        X = np.random.multivariate_normal(np.zeros(3), noise*np.eye(3), size = n_samples) # 3-D\n",
        "        np.random.shuffle(X)\n",
        "        y = np.sin(X[:,0]) - 5*(X[:,1]**2) + 0.5*X[:,2] # 3-D\n",
        "\n",
        "    # Stack them together vertically to split data set\n",
        "    data_set = np.vstack((X.T,y)).T\n",
        "\n",
        "    train, validation, test = np.split(data_set, [int(0.35*n_samples), int(0.7*n_samples)], axis=0)\n",
        "\n",
        "    # Standardization of the data, remember we do the standardization with the training set mean and standard deviation\n",
        "    train_mu = np.mean(train, axis=0)\n",
        "    train_sigma = np.std(train, axis=0)\n",
        "\n",
        "    train = (train-train_mu)/train_sigma\n",
        "    validation = (validation-train_mu)/train_sigma\n",
        "    test = (test-train_mu)/train_sigma\n",
        "\n",
        "    x_train, x_validation, x_test = train[:,:-1], validation[:,:-1], test[:,:-1]\n",
        "    y_train, y_validation, y_test = train[:,-1], validation[:,-1], test[:,-1]\n",
        "\n",
        "    return x_train, y_train,  x_validation, y_validation, x_test, y_test"
      ]
    },
    {
      "cell_type": "code",
      "execution_count": 14,
      "metadata": {
        "id": "u1oDngHLapIz"
      },
      "outputs": [],
      "source": [
        "D1 = True\n",
        "x_train, y_train,  x_validation, y_validation, x_test, y_test = data_generator(noise=0.5, D1=D1)"
      ]
    },
    {
      "cell_type": "code",
      "execution_count": 15,
      "metadata": {
        "colab": {
          "base_uri": "https://localhost:8080/",
          "height": 430
        },
        "id": "Ysfa3FsBavlm",
        "outputId": "991a612f-1568-4b79-d29b-dfea9572cece"
      },
      "outputs": [
        {
          "data": {
            "image/png": "[encoded data removed]",
            "text/plain": [
              "<Figure size 640x480 with 1 Axes>"
            ]
          },
          "metadata": {},
          "output_type": "display_data"
        }
      ],
      "source": [
        "if D1:\n",
        "    plt.scatter(x_train[:,0], y_train);\n",
        "    plt.scatter(x_validation[:,0], y_validation);\n",
        "    plt.scatter(x_test[:,0], y_test);\n",
        "else:\n",
        "    plt.scatter(x_train[:,1], y_train);\n",
        "    plt.scatter(x_validation[:,1], y_validation);\n",
        "    plt.scatter(x_test[:,1], y_test);\n",
        "plt.show()"
      ]
    },
    {
      "cell_type": "code",
      "execution_count": 16,
      "metadata": {
        "id": "zac2HHNlgbpm"
      },
      "outputs": [],
      "source": [
        "# convert from nparray to Var\n",
        "def nparray_to_Var(x):\n",
        "  if x.ndim==1:\n",
        "    y = [[Var(float(x[i]))] for i in range(x.shape[0])] # always work with list of list\n",
        "  else:\n",
        "    y = [[Var(float(x[i,j])) for j in range(x.shape[1])] for i in range(x.shape[0])]\n",
        "  return y\n",
        "\n",
        "x_train = nparray_to_Var(x_train)\n",
        "y_train = nparray_to_Var(y_train)\n",
        "x_validation = nparray_to_Var(x_validation)\n",
        "y_validation = nparray_to_Var(y_validation)\n",
        "x_test = nparray_to_Var(x_test)\n",
        "y_test = nparray_to_Var(y_test)\n"
      ]
    },
    {
      "cell_type": "markdown",
      "metadata": {
        "id": "VbjrqcpVFtGe"
      },
      "source": [
        "# Defining and initializing the network\n",
        "\n",
        "The steps to create a feed forward neural network are the following:\n",
        "\n",
        "1. **Number of hidden layer and hidden units**. We have to define the number of hidden units in each layer. The number of features in X and the output dimensionality (the size of Y) are given but the numbers in between are set by the researcher. Remember that for each unit in each layer beside in the input has a bias term.\n",
        "2. **Activation functions** for each hidden layer. Each hidden layer in your list must have an activation function (it can also be the linear activation which is equivalent to identity function). The power of neural networks comes from non-linear activation functions that learn representations (features) from the data allowing us to learn from it.\n",
        "3. **Parameter initialization**. We will initialize the weights to have random values. This is done in practice by drawing pseudo random numbers from a Gaussian or uniform distribution. It turns out that for deeper models we have to be careful about how we scale the random numbers. This will be the topic of the exercise below. For now we will just use unit variance Gaussians.  \n",
        "\n",
        "In order to make life easier for ourselves we define a DenseLayer class that takes care of initialization and the forward pass. We can also extend it later with print and advanced initialization capabilities. For the latter we have introduced a Initializer class.\n",
        "\n",
        "Note that we use Sequence in the code below. A Sequence is an ordered list. This means the order we insert and access items are the same."
      ]
    },
    {
      "cell_type": "code",
      "execution_count": 17,
      "metadata": {
        "id": "ij_ieRsAt7Xt"
      },
      "outputs": [],
      "source": [
        "class Initializer:\n",
        "\n",
        "  def init_weights(self, n_in, n_out):\n",
        "    raise NotImplementedError\n",
        "\n",
        "  def init_bias(self, n_out):\n",
        "    raise NotImplementedError"
      ]
    },
    {
      "cell_type": "code",
      "execution_count": 26,
      "metadata": {
        "id": "eb18N5phuIha"
      },
      "outputs": [],
      "source": [
        "import random\n",
        "\n",
        "class NormalInitializer(Initializer):\n",
        "\n",
        "  def __init__(self, mean=0, std=0.1):\n",
        "    self.mean = mean\n",
        "    self.std = std\n",
        "\n",
        "  def init_weights(self, n_in, n_out):\n",
        "    return [[Var(random.gauss(self.mean, self.std)) for _ in range(n_out)] for _ in range(n_in)]\n",
        "\n",
        "  def init_bias(self, n_out):\n",
        "    return [Var(0.0) for _ in range(n_out)]\n",
        "\n",
        "class ConstantInitializer(Initializer):\n",
        "\n",
        "  def __init__(self, weight=1.0, bias=0.0):\n",
        "    self.weight = weight\n",
        "    self.bias = bias\n",
        "\n",
        "  def init_weights(self, n_in, n_out):\n",
        "    return [[Var(self.weight) for _ in range(n_out)] for _ in range(n_in)]\n",
        "\n",
        "  def init_bias(self, n_out):\n",
        "    return [Var(self.bias) for _ in range(n_out)]"
      ]
    },
    {
      "cell_type": "code",
      "execution_count": 27,
      "metadata": {
        "id": "jOLYGnZKuM6W"
      },
      "outputs": [],
      "source": [
        "from typing import Sequence\n",
        "\n",
        "class DenseLayer:\n",
        "    def __init__(self, n_in: int, n_out: int, act_fn, initializer = NormalInitializer()):\n",
        "        self.weights = initializer.init_weights(n_in, n_out)\n",
        "        self.bias = initializer.init_bias(n_out)\n",
        "        self.act_fn = act_fn\n",
        "\n",
        "    def __repr__(self):\n",
        "        return '\\n\\tWeights: ' + repr(self.weights) + '\\n\\tBiases: ' + repr(self.bias)\n",
        "\n",
        "    def parameters(self) -> Sequence[Var]:\n",
        "      params = []\n",
        "      for r in self.weights:\n",
        "        params += r\n",
        "\n",
        "      return params + self.bias\n",
        "\n",
        "    def forward(self, single_input: Sequence[Var]) -> Sequence[Var]:\n",
        "        # self.weights is a matrix with dimension n_in x n_out. We check that the dimensionality of the input\n",
        "        # to the current layer matches the number of nodes in the current layer\n",
        "        assert len(self.weights) == len(single_input), \"weights and single_input must match in first dimension\"\n",
        "        weights = self.weights\n",
        "        out = []\n",
        "        # For some given data point single_input, we now want to calculate the resulting value in each node in the current layer\n",
        "        # We therefore loop over the (number of) nodes in the current layer:\n",
        "        for j in range(len(weights[0])):\n",
        "            # Initialize the node value depending on its corresponding parameters.\n",
        "            node = self.bias[j] # <- Insert code\n",
        "            # Affine transformation: dot product between input and weights + bias (Ax + b)\n",
        "            # We now finish the linear transformation corresponding to the parameters of the currently considered node.\n",
        "            for i in range(len(single_input)):\n",
        "                node += single_input[i] * self.weights[i][j]  # <- Insert code\n",
        "            node = self.act_fn(node)\n",
        "            out.append(node)\n",
        "\n",
        "        return out"
      ]
    },
    {
      "cell_type": "markdown",
      "metadata": {
        "id": "jpIZPBpNI0pO"
      },
      "source": [
        "## Exercise f) Add more activation functions\n",
        "\n",
        "To have a full definition of the neural network, we must define an activation function for every layer. Several activation functions have been proposed and have different characteristics. In the Var class we have already defined the rectified linear init (relu).\n",
        "\n",
        "Implement the following activation functions in the Var class:\n",
        "\n",
        "* Identity: $$\\mathrm{identity}(x) = x$$\n",
        "* Hyperbolic tangent: $$\\tanh(x)$$\n",
        "* Sigmoid (or logistic function): $$\\mathrm{sigmoid}(x) = \\frac{1}{1.0 + \\exp(-x ) }$$  Hint: $\\mathrm{sigmoid}'(x)= \\mathrm{sigmoid}(x)(1-\\mathrm{sigmoid}(x))$.  \n",
        "\n",
        "Hint: You can seek inspiration in the relu method in the Var class. See `Var` class much above."
      ]
    },
    {
      "cell_type": "markdown",
      "metadata": {},
      "source": [
        "```python\n",
        "def relu(self):\n",
        "    return Var(self.v if self.v > 0.0 else 0.0, lambda: [(self, 1.0 if self.v > 0.0 else 0.0)])\n",
        "\n",
        "def identity(self):\n",
        "    return Var(self.v, lambda: [(self, 1.0)])\n",
        "\n",
        "def tanh(self):\n",
        "    return Var(tanh(self.v), lambda: [(self, 1 - tanh(self.v) ** 2)])\n",
        "\n",
        "def sigmoid(self):\n",
        "    sigmoid = 1 / (1 + exp(-self.v))\n",
        "    return Var(sigmoid, lambda: [(self, sigmoid * (1 - sigmoid))])\n",
        "```"
      ]
    },
    {
      "cell_type": "markdown",
      "metadata": {
        "id": "p_8n_SKnIW2F"
      },
      "source": [
        "## Exercise g) Complete the forward pass\n",
        "\n",
        "In the code below we initialize a 1-5-1 network and pass the training set through it. *The forward method in DenseLayer is **not** complete*. It just outputs zeros right now. The method forward should perform an [affine transformation](https://en.wikipedia.org/wiki/Affine_transformation) on the input followed by an application of the activation function."
      ]
    },
    {
      "cell_type": "code",
      "execution_count": 21,
      "metadata": {
        "colab": {
          "base_uri": "https://localhost:8080/"
        },
        "id": "xDEjtePxE7Mv",
        "outputId": "5b1f6e93-72de-4400-f18a-1491737bf859"
      },
      "outputs": [
        {
          "name": "stdout",
          "output_type": "stream",
          "text": [
            "[[Var(v=0.0008, grad=0.0000)], [Var(v=0.0016, grad=0.0000)], [Var(v=0.0001, grad=0.0000)], [Var(v=0.0266, grad=0.0000)], [Var(v=0.0012, grad=0.0000)], [Var(v=0.0011, grad=0.0000)], [Var(v=0.0007, grad=0.0000)], [Var(v=0.0064, grad=0.0000)], [Var(v=0.0274, grad=0.0000)], [Var(v=0.0004, grad=0.0000)], [Var(v=0.0012, grad=0.0000)], [Var(v=0.0169, grad=0.0000)], [Var(v=0.0010, grad=0.0000)], [Var(v=0.0193, grad=0.0000)], [Var(v=0.0005, grad=0.0000)], [Var(v=0.0010, grad=0.0000)], [Var(v=0.0019, grad=0.0000)], [Var(v=0.0009, grad=0.0000)], [Var(v=0.0001, grad=0.0000)], [Var(v=0.0003, grad=0.0000)], [Var(v=0.0127, grad=0.0000)], [Var(v=0.0056, grad=0.0000)], [Var(v=0.0014, grad=0.0000)], [Var(v=0.0014, grad=0.0000)], [Var(v=0.0074, grad=0.0000)], [Var(v=0.0199, grad=0.0000)], [Var(v=0.0018, grad=0.0000)], [Var(v=0.0020, grad=0.0000)], [Var(v=0.0002, grad=0.0000)], [Var(v=0.0012, grad=0.0000)], [Var(v=0.0250, grad=0.0000)], [Var(v=0.0003, grad=0.0000)], [Var(v=0.0218, grad=0.0000)], [Var(v=0.0236, grad=0.0000)], [Var(v=0.0010, grad=0.0000)], [Var(v=0.0044, grad=0.0000)], [Var(v=0.0270, grad=0.0000)], [Var(v=0.0102, grad=0.0000)], [Var(v=0.0191, grad=0.0000)], [Var(v=0.0137, grad=0.0000)], [Var(v=0.0096, grad=0.0000)], [Var(v=0.0131, grad=0.0000)], [Var(v=0.0019, grad=0.0000)], [Var(v=0.0163, grad=0.0000)], [Var(v=0.0129, grad=0.0000)], [Var(v=0.0157, grad=0.0000)], [Var(v=0.0012, grad=0.0000)], [Var(v=0.0011, grad=0.0000)], [Var(v=0.0060, grad=0.0000)], [Var(v=0.0012, grad=0.0000)], [Var(v=0.0005, grad=0.0000)], [Var(v=0.0000, grad=0.0000)], [Var(v=0.0013, grad=0.0000)], [Var(v=0.0133, grad=0.0000)], [Var(v=0.0020, grad=0.0000)], [Var(v=0.0018, grad=0.0000)], [Var(v=0.0088, grad=0.0000)], [Var(v=0.0098, grad=0.0000)], [Var(v=0.0007, grad=0.0000)], [Var(v=0.0234, grad=0.0000)], [Var(v=0.0012, grad=0.0000)], [Var(v=0.0165, grad=0.0000)], [Var(v=0.0272, grad=0.0000)], [Var(v=0.0006, grad=0.0000)], [Var(v=0.0004, grad=0.0000)], [Var(v=0.0224, grad=0.0000)], [Var(v=0.0240, grad=0.0000)], [Var(v=0.0015, grad=0.0000)], [Var(v=0.0171, grad=0.0000)], [Var(v=0.0006, grad=0.0000)], [Var(v=0.0066, grad=0.0000)], [Var(v=0.0030, grad=0.0000)], [Var(v=0.0011, grad=0.0000)], [Var(v=0.0007, grad=0.0000)], [Var(v=0.0023, grad=0.0000)], [Var(v=0.0018, grad=0.0000)], [Var(v=0.0119, grad=0.0000)], [Var(v=0.0115, grad=0.0000)], [Var(v=0.0151, grad=0.0000)], [Var(v=0.0019, grad=0.0000)], [Var(v=0.0003, grad=0.0000)], [Var(v=0.0002, grad=0.0000)], [Var(v=0.0246, grad=0.0000)], [Var(v=0.0034, grad=0.0000)], [Var(v=0.0125, grad=0.0000)], [Var(v=0.0054, grad=0.0000)], [Var(v=0.0046, grad=0.0000)], [Var(v=0.0139, grad=0.0000)], [Var(v=0.0254, grad=0.0000)], [Var(v=0.0264, grad=0.0000)], [Var(v=0.0007, grad=0.0000)], [Var(v=0.0080, grad=0.0000)], [Var(v=0.0147, grad=0.0000)], [Var(v=0.0011, grad=0.0000)], [Var(v=0.0210, grad=0.0000)], [Var(v=0.0252, grad=0.0000)], [Var(v=0.0005, grad=0.0000)], [Var(v=0.0001, grad=0.0000)], [Var(v=0.0017, grad=0.0000)], [Var(v=0.0149, grad=0.0000)], [Var(v=0.0011, grad=0.0000)], [Var(v=0.0145, grad=0.0000)], [Var(v=0.0222, grad=0.0000)], [Var(v=0.0005, grad=0.0000)], [Var(v=0.0016, grad=0.0000)]]\n"
          ]
        }
      ],
      "source": [
        "NN = [\n",
        "    DenseLayer(1, 5, lambda x: x.relu()),\n",
        "    DenseLayer(5, 1, lambda x: x.identity())\n",
        "]\n",
        "\n",
        "def forward(input, network):\n",
        "\n",
        "  def forward_single(x, network):\n",
        "    for layer in network:\n",
        "        x = layer.forward(x)\n",
        "    return x\n",
        "\n",
        "  output = [ forward_single(input[n], network) for n in range(len(input))]\n",
        "  return output\n",
        "\n",
        "print(forward(x_train, NN))\n"
      ]
    },
    {
      "cell_type": "markdown",
      "metadata": {
        "id": "oLrGJytZFtGm"
      },
      "source": [
        "## Exercise h) Print all network parameters\n",
        "\n",
        "Make a function that prints all the parameters of the network (weights and biases) with information about in which layer the appear. In the object oriented spirit you should introduce a method in the DenseLayer class to print the parameters of a layer. Hint: You can take inspiration from the corresponding method in Var."
      ]
    },
    {
      "cell_type": "code",
      "execution_count": 22,
      "metadata": {
        "colab": {
          "base_uri": "https://localhost:8080/"
        },
        "id": "iac-VwYGFtGm",
        "outputId": "25dadc47-ac52-453c-91d0-cd83fb68570b"
      },
      "outputs": [
        {
          "name": "stdout",
          "output_type": "stream",
          "text": [
            "Layer 0 | \n",
            "\tWeights: [[Var(v=0.0536, grad=0.0000), Var(v=-0.1457, grad=0.0000), Var(v=-0.0357, grad=0.0000), Var(v=0.0509, grad=0.0000), Var(v=-0.0508, grad=0.0000)]]\n",
            "\tBiases: [Var(v=0.0000, grad=0.0000), Var(v=0.0000, grad=0.0000), Var(v=0.0000, grad=0.0000), Var(v=0.0000, grad=0.0000), Var(v=0.0000, grad=0.0000)]\n",
            "Layer 1 | \n",
            "\tWeights: [[Var(v=0.0743, grad=0.0000)], [Var(v=0.1099, grad=0.0000)], [Var(v=0.0184, grad=0.0000)], [Var(v=-0.0564, grad=0.0000)], [Var(v=0.0161, grad=0.0000)]]\n",
            "\tBiases: [Var(v=0.0000, grad=0.0000)]\n"
          ]
        }
      ],
      "source": [
        "# Insert code here and in the DenseLayer class\n",
        "def print_net_parameters(NN):\n",
        "    for l, layer in enumerate(NN):\n",
        "        print(f\"Layer {l} | \" + str(layer))\n",
        "\n",
        "print_net_parameters(NN)"
      ]
    },
    {
      "cell_type": "markdown",
      "metadata": {
        "id": "_79HOAXrFtHK"
      },
      "source": [
        "## Visualization\n",
        "\n",
        "Now that we have defined our activation functions we can visualize them to see what they look like:"
      ]
    },
    {
      "cell_type": "code",
      "execution_count": 23,
      "metadata": {
        "colab": {
          "base_uri": "https://localhost:8080/",
          "height": 447
        },
        "id": "1FcylHqLTl-Z",
        "outputId": "674613a1-094c-4c7b-901b-bbd66f3690f9"
      },
      "outputs": [
        {
          "data": {
            "text/plain": [
              "[<matplotlib.lines.Line2D at 0x12f7a68d0>]"
            ]
          },
          "execution_count": 23,
          "metadata": {},
          "output_type": "execute_result"
        },
        {
          "data": {
            "image/png": "[encoded data removed]",
            "text/plain": [
              "<Figure size 640x480 with 1 Axes>"
            ]
          },
          "metadata": {},
          "output_type": "display_data"
        }
      ],
      "source": [
        "x = np.linspace(-6, 6, 100)\n",
        "\n",
        "# convert from Var to ndarray\n",
        "def Var_to_nparray(x):\n",
        "  y = np.zeros((len(x),len(x[0])))\n",
        "  for i in range(len(x)):\n",
        "    for j in range(len(x[0])):\n",
        "      y[i,j] = x[i][j].v\n",
        "  return y\n",
        "\n",
        "# define 1-1 network with weight = 1 and relu activation\n",
        "NN = [ DenseLayer(1, 1, lambda x: x.relu(), initializer = ConstantInitializer(1.0)) ]\n",
        "y = Var_to_nparray(forward(nparray_to_Var(x), NN))\n",
        "\n",
        "#y = Var_to_nparray(relu(nparray_to_Var(x)))\n",
        "plt.plot(x,y)"
      ]
    },
    {
      "cell_type": "code",
      "execution_count": 24,
      "metadata": {
        "colab": {
          "base_uri": "https://localhost:8080/",
          "height": 476
        },
        "id": "oOL2UolJFtHL",
        "outputId": "5f2a4786-a81b-48e1-aa4b-db432d8b8505"
      },
      "outputs": [
        {
          "data": {
            "image/png": "[encoded data removed]",
            "text/plain": [
              "<Figure size 500x500 with 1 Axes>"
            ]
          },
          "metadata": {},
          "output_type": "display_data"
        }
      ],
      "source": [
        "# Testing all activation layers\n",
        "\n",
        "x = np.linspace(-6, 6, 100)\n",
        "units = {\n",
        "    \"identity\": lambda x: x.identity(),\n",
        "    \"sigmoid\": lambda x: x.sigmoid(),\n",
        "    \"relu\": lambda x: x.relu(),\n",
        "    \"tanh\": lambda x: x.tanh()\n",
        "}\n",
        "\n",
        "plt.figure(figsize=(5, 5))\n",
        "[plt.plot(x, Var_to_nparray(forward(nparray_to_Var(x), [DenseLayer(1, 1, unit, initializer = ConstantInitializer(1.0))]) ), label=unit_name, lw=2) for unit_name, unit in units.items()] # unit(nparray_to_Var(x))), label=unit_name, lw=2) for unit_name, unit in units.items()]\n",
        "plt.legend(loc=2, fontsize=16)\n",
        "plt.title('Our activation functions', fontsize=20)\n",
        "plt.ylim([-2, 5])\n",
        "plt.xlim([-6, 6])\n",
        "plt.show()"
      ]
    },
    {
      "cell_type": "markdown",
      "metadata": {
        "id": "b-jdEl-7FtGs"
      },
      "source": [
        "# Advanced initialization schemes\n",
        "\n",
        "If we are not careful with initialization, the signals we propagate forward ($a^{(l)}$, $l=1,\\ldots,L$) and backward ($\\delta^l$, $l=L,L-1,\\ldots,1$) can blow up or shrink to zero. A statistical analysis of the variance of the signals for different activation functions can be found in these two papers: [Glorot initialization](http://proceedings.mlr.press/v9/glorot10a/glorot10a.pdf) and [He initialization](https://arxiv.org/pdf/1502.01852v1.pdf).\n",
        "\n",
        "The result of the analyses are proposals for how to make the initialization such that the variance of the signals (forward and backward) are kept approximately constant when propagating from layer to layer. The exact expressions depend upon the non-linear activation function used. In Glorot initialization, the aim is to keep both the forward and backward variances constant whereas He only aims at keeping the variance in the forward pass constant.\n",
        "\n",
        "We define $n_{in}$ and $n_{out}$ as the number of input units and output units of a particular layer.\n",
        "\n",
        "The Glorot initialization has the form:\n",
        "\n",
        "$$w_{ij} \\sim N \\bigg( 0, \\, \\frac{2 \\alpha }{n_{in} + n_{out}} \\bigg) \\ . $$\n",
        "\n",
        "where $N(\\mu,\\sigma^2)$ is a Gaussian distribution with mean $\\mu$ and variance $\\sigma^2$ and $\\alpha$ is a parameter that depends upon the activation function used. For $\\tanh$, $\\alpha=1$ and for Rectified Linear Unit (ReLU) activations, $\\alpha=2$. (It is also possible to use a uniform distribution for initialization, see [this blog post](https://mmuratarat.github.io/2019-02-25/xavier-glorot-he-weight-init).)\n",
        "\n",
        "The He initialization is very similar\n",
        "\n",
        "$$w_{ij} \\sim N \\bigg( 0, \\, \\frac{\\alpha}{n_{in}} \\bigg) \\ . $$"
      ]
    },
    {
      "cell_type": "markdown",
      "metadata": {
        "id": "mqeyab9qFtGs"
      },
      "source": [
        "## Exercise i) Glorot and He initialization\n",
        "\n",
        "Using the Initializer class, implement functions that implement Glorot and He\n",
        "\n",
        "Explain briefly how you would test numerically that these initializations have the sought after property. Hint: See plots in Glorot paper.\n",
        "\n",
        "Comment: If you want to be more advanced then try to make a universal initializer taking both the activation function and type (Glorot or He) as argument."
      ]
    },
    {
      "cell_type": "code",
      "execution_count": 28,
      "metadata": {
        "id": "Qyk01CgaFtGt"
      },
      "outputs": [],
      "source": [
        "from math import sqrt\n",
        "\n",
        "## Glorot\n",
        "def DenseLayer_Glorot_tanh(n_in: int, n_out: int):\n",
        "  alpha = 1\n",
        "  std = sqrt(2 * alpha / (n_in + n_out)) # <- replace with proper initialization\n",
        "  return DenseLayer(n_in, n_out, lambda x: x.tanh(), initializer = NormalInitializer(std))\n",
        "\n",
        "## He\n",
        "def DenseLayer_He_relu(n_in: int, n_out: int):\n",
        "  alpha = 2\n",
        "  std = sqrt(alpha / n_in) # <- replace with proper initialization\n",
        "  return DenseLayer(n_in, n_out, lambda x: x.relu(), initializer = NormalInitializer(std))\n",
        "\n",
        "## Universal Initializer based on Activation and Glorot or He type\n",
        "def DenseLayerInit(type: str, activation: str, n_in: int, n_out: int):\n",
        "  if activation == 'relu':\n",
        "    alpha = 2\n",
        "  elif activation == 'tanh':\n",
        "    alpha = 1\n",
        "  else:\n",
        "    alpha = 1 \n",
        "\n",
        "  if type == 'glorot':\n",
        "    std = sqrt(2 * alpha / (n_in + n_out))\n",
        "  elif type == 'he':\n",
        "    std = sqrt(alpha / n_in)\n",
        "  else:\n",
        "    std = sqrt(alpha / n_in)\n",
        "\n",
        "  method = lambda x: x.relu() if activation=='relu' else (x.tanh() if activation=='tanh' else x.identity() if activation=='id' else x.sigmoid())\n",
        "\n",
        "  return DenseLayer(n_in, n_out, method, initializer = NormalInitializer(std))"
      ]
    },
    {
      "cell_type": "markdown",
      "metadata": {
        "id": "oQ6iNFCafviw"
      },
      "source": [
        "$\\rule{100cm}{0.4pt}$\n",
        "To verify the initializations follow the desired properties numerically we can:\n",
        "- Set up a deep neural network with certain activation functions\n",
        "- Initialize the weights with Glorot or He method\n",
        "- Feed forward a batch of random input data (normal distribution). Propagate the input through the network and record the variance of the activations at each layer.\n",
        "- Perform a backward pass starting from loss function (mean squared error) and record the variance of backpropagated error signal at each layer.\n",
        "\n",
        "Finally, one can plot the **variance of activations and gradients** across layers which should remain constant at the levels specified by initialization (He only forward focus - activations).\n",
        "If the initialization methods succeeds - variance plots don't explode or vanish as the signal propagates forward and backwards. Glorot - forward and backward stable variance, He - forward stable variance.\n"
      ]
    },
    {
      "cell_type": "markdown",
      "metadata": {
        "id": "-XyXBD37FtHk"
      },
      "source": [
        "## Exercise j) Forward pass unit test\n",
        "\n",
        "Write a bit of code to make a unit test that the forward pass works. This can be done by defining a simple network with for example all weights equal to one (using the ConstantInitializer method) and identity activation functions.\n",
        "\n",
        "Hints: Use the [assert](https://www.w3schools.com/python/ref_keyword_assert.asp), the nparray_to_Var and the Var_to_nparray commands."
      ]
    },
    {
      "cell_type": "code",
      "execution_count": 49,
      "metadata": {
        "colab": {
          "base_uri": "https://localhost:8080/"
        },
        "id": "k0miqRUAFtHl",
        "outputId": "7bf1ca8c-c36b-45a4-bdeb-7544c37b7d88"
      },
      "outputs": [
        {
          "name": "stdout",
          "output_type": "stream",
          "text": [
            "Layer 0 | \n",
            "\tWeights: [[Var(v=1.0000, grad=0.0000), Var(v=1.0000, grad=0.0000), Var(v=1.0000, grad=0.0000), Var(v=1.0000, grad=0.0000), Var(v=1.0000, grad=0.0000)]]\n",
            "\tBiases: [Var(v=1.0000, grad=0.0000), Var(v=1.0000, grad=0.0000), Var(v=1.0000, grad=0.0000), Var(v=1.0000, grad=0.0000), Var(v=1.0000, grad=0.0000)]\n",
            "Layer 1 | \n",
            "\tWeights: [[Var(v=1.0000, grad=0.0000)], [Var(v=1.0000, grad=0.0000)], [Var(v=1.0000, grad=0.0000)], [Var(v=1.0000, grad=0.0000)], [Var(v=1.0000, grad=0.0000)]]\n",
            "\tBiases: [Var(v=1.0000, grad=0.0000)]\n",
            "[11. 16. 21.]\n",
            "Test passed!\n"
          ]
        }
      ],
      "source": [
        "def forward_unit_test(neurons: int):\n",
        "    NN = [\n",
        "        DenseLayer(1, neurons, lambda x: x.identity(), initializer= ConstantInitializer(1.0, 1.0)),\n",
        "        DenseLayer(neurons, 1, lambda x: x.identity(), initializer= ConstantInitializer(1.0, 1.0))\n",
        "    ]\n",
        "    print_net_parameters(NN)\n",
        "\n",
        "    x = np.array([1,2,3])\n",
        "\n",
        "    test = Var_to_nparray(forward(nparray_to_Var(x), NN))\n",
        "    \n",
        "    feed = neurons * (x + 1) + 1.0\n",
        "    \n",
        "    assert np.all(test.reshape(len(x)) == feed), \"Test failed!\"\n",
        "    print(test.reshape(len(x)))\n",
        "    print(\"Test passed!\")\n",
        "\n",
        "forward_unit_test(5)\n"
      ]
    },
    {
      "cell_type": "markdown",
      "metadata": {
        "id": "faCxhfFnFtHp"
      },
      "source": [
        "# Loss functions\n",
        "\n",
        "We are only missing a loss function so we need to define a loss function and its derivative with respect to the output of the neural network $y$"
      ]
    },
    {
      "cell_type": "code",
      "execution_count": 50,
      "metadata": {
        "id": "I2eDYKvAFtHq"
      },
      "outputs": [],
      "source": [
        "def squared_loss(t, y):\n",
        "\n",
        "  # add check that sizes agree\n",
        "  assert len(t) == len(y)\n",
        "\n",
        "  def squared_loss_single(t, y):\n",
        "    Loss = Var(0.0)\n",
        "    for i in range(len(t)): # sum over outputs\n",
        "      Loss += (t[i] - y[i]) ** 2\n",
        "    return Loss\n",
        "\n",
        "  Loss = Var(0.0)\n",
        "  for n in range(len(t)): # sum over training data\n",
        "    Loss += squared_loss_single(t[n],y[n])\n",
        "  return Loss"
      ]
    },
    {
      "cell_type": "markdown",
      "metadata": {
        "id": "SrwSJ2UWFtHu"
      },
      "source": [
        "## Exercise k) Implement cross entropy loss\n",
        "\n",
        "Insert code below to implement cross-entropy loss for general dimensionality of $t$. Use a logits formulation:\n",
        "$$\n",
        "\\rm{Loss} = - \\sum_i t_i \\, log \\, p_i\n",
        "$$\n",
        "with $p$ given by the the softmax function in terms of the logits $h$:\n",
        "$$\n",
        "p_i = \\frac{\\exp(h_i)}{\\sum_{i'} \\exp(h_{i'})} .\n",
        "$$\n",
        "Inserting $p$ in the expression for the loss gives\n",
        "$$\n",
        "\\rm{Loss} = - \\sum_i t_i h_i + \\rm{LogSumExp}(h) \\ ,\n",
        "$$\n",
        "where\n",
        "$$\n",
        "\\rm{LogSumExp}(h) = \\log \\sum_i \\exp h_i \\ .\n",
        "$$\n",
        "This is true for $t$ being a one-hot vector.\n",
        "\n",
        "Call the function to convince yourself it works.\n",
        "\n",
        "In practice you want to implement a [numerically stable](https://leimao.github.io/blog/LogSumExp/) version of LogSumExp. But we will not bother about that here.\n",
        "\n",
        "Help: You can add these methods in the Var class:\n",
        "\n",
        "```python\n",
        "    def exp(self):\n",
        "        return Var(exp(self.v), lambda: [(self, exp(self.v))])\n",
        "    \n",
        "    def log(self):\n",
        "        return Var(log(self.v), lambda: [(self, self.v ** -1)])\n",
        "```"
      ]
    },
    {
      "cell_type": "code",
      "execution_count": 51,
      "metadata": {
        "colab": {
          "base_uri": "https://localhost:8080/"
        },
        "id": "6nMuxyfzFtHv",
        "outputId": "cc986783-321f-41f4-9e7c-b49ceecf7fd6"
      },
      "outputs": [
        {
          "name": "stdout",
          "output_type": "stream",
          "text": [
            "1.1398310608444602 Var(v=1.1398, grad=0.0000)\n"
          ]
        }
      ],
      "source": [
        "def cross_entropy_loss(t_vec, h_vec):\n",
        "\n",
        "    Loss = Var(0.0)\n",
        "\n",
        "    def log_sum_exp(h):\n",
        "        sum_exp = Var(0.0)\n",
        "        # Sum up the exponentiated logit components\n",
        "        for i in range(len(h)): # sum over outputs\n",
        "            sum_exp += h[i].exp()\n",
        "        # Compute logarithm of the final sum\n",
        "        return sum_exp.log()\n",
        "\n",
        "    def dot_product(t, h):\n",
        "        sum_dot = Var(0.0)\n",
        "        # Sum up all products of corresponding entries\n",
        "        for i in range(len(t)):\n",
        "            sum_dot += t[i] * h[i]\n",
        "        return sum_dot\n",
        "\n",
        "    def cross_entropy_single(t, h):\n",
        "        # Compute the cross-entropy loss for a single data point\n",
        "        LogSumExp = log_sum_exp(h)\n",
        "        DotSum = dot_product(t, h)\n",
        "        return LogSumExp - DotSum\n",
        "\n",
        "    # Compute the cross-entropy loss for the entire training data\n",
        "    for n in range(len(t)): # sum over training data points\n",
        "        Loss += cross_entropy_single(t_vec[n], h_vec[n])\n",
        "\n",
        "    return Loss\n",
        "\n",
        "# Unit Testing\n",
        "t = np.array([[0,1,0]])\n",
        "h = np.array([[0.2,0.3,0.5]])\n",
        "\n",
        "raw = float(log(np.sum(np.exp(h))) - t[0] @ h[0])\n",
        "cel = cross_entropy_loss(nparray_to_Var(t), nparray_to_Var(h))\n",
        "\n",
        "print(raw, cel)\n",
        "\n",
        "assert abs(raw - cel.v) < 1e-4"
      ]
    },
    {
      "cell_type": "markdown",
      "metadata": {
        "id": "8fAF5ew4FtHy"
      },
      "source": [
        "# Backward pass\n",
        "\n",
        "Now the magic happens! We get the calculation of the gradients for free. Just do:"
      ]
    },
    {
      "cell_type": "code",
      "execution_count": 52,
      "metadata": {
        "id": "iHyfPPI9Qqwu"
      },
      "outputs": [],
      "source": [
        "NN = [\n",
        "    DenseLayer(1, 5, lambda x: x.relu()),\n",
        "    DenseLayer(5, 1, lambda x: x.identity())\n",
        "]\n",
        "\n",
        "output = forward(x_train, NN)\n",
        "\n",
        "Loss = squared_loss(y_train,output)\n",
        "Loss.backward()"
      ]
    },
    {
      "cell_type": "markdown",
      "metadata": {
        "id": "49biIAYKQ1oG"
      },
      "source": [
        "and the gradients will be calculated:"
      ]
    },
    {
      "cell_type": "code",
      "execution_count": 53,
      "metadata": {
        "colab": {
          "base_uri": "https://localhost:8080/"
        },
        "id": "_rGt1bq_Q7uk",
        "outputId": "7c32eb5d-f03b-479e-8ab6-795939e4f144"
      },
      "outputs": [
        {
          "name": "stdout",
          "output_type": "stream",
          "text": [
            "Layer 0 \n",
            " \n",
            "\tWeights: [[Var(v=-0.0003, grad=12.1076), Var(v=-0.1291, grad=10.0030), Var(v=-0.0579, grad=-3.3900), Var(v=-0.1068, grad=7.9108), Var(v=-0.0676, grad=-0.1901)]]\n",
            "\tBiases: [Var(v=0.0000, grad=-11.0010), Var(v=0.0000, grad=-9.0887), Var(v=0.0000, grad=3.0801), Var(v=0.0000, grad=-7.1878), Var(v=0.0000, grad=0.1728)]\n",
            "Layer 1 \n",
            " \n",
            "\tWeights: [[Var(v=-0.1289, grad=0.0246)], [Var(v=-0.1065, grad=12.1310)], [Var(v=0.0361, grad=5.4438)], [Var(v=-0.0842, grad=10.0306)], [Var(v=0.0020, grad=6.3496)]]\n",
            "\tBiases: [Var(v=0.0000, grad=-1.9025)]\n"
          ]
        },
        {
          "data": {
            "text/plain": [
              "[None, None]"
            ]
          },
          "execution_count": 53,
          "metadata": {},
          "output_type": "execute_result"
        }
      ],
      "source": [
        "[print('Layer', i, '\\n', NN[i]) for i in range(len(NN))]"
      ]
    },
    {
      "cell_type": "markdown",
      "metadata": {
        "id": "D7d7qK0uFtH9"
      },
      "source": [
        "# Backward pass unit test\n",
        "\n",
        "Above we used finite differences to test that Nanograd is actually doing what it is supposed to do. We can in principle try the same for the neural network. But we will trust that the test above is enough."
      ]
    },
    {
      "cell_type": "markdown",
      "metadata": {
        "id": "WgBi8GOSFtIN"
      },
      "source": [
        "# Training and validation\n",
        "\n",
        "We are ready to train some neural networks!\n",
        "\n",
        "We initialize again:"
      ]
    },
    {
      "cell_type": "code",
      "execution_count": 54,
      "metadata": {
        "id": "01ePmzBzRtdh"
      },
      "outputs": [],
      "source": [
        "NN = [\n",
        "    DenseLayer(1, 15, lambda x: x.relu()),\n",
        "    DenseLayer(15, 50, lambda x: x.relu()),\n",
        "    DenseLayer(50, 1, lambda x: x.identity())\n",
        "]\n",
        "\n",
        "output = forward(x_train, NN)\n",
        "\n",
        "Loss = squared_loss(y_train,output)\n",
        "Loss.backward()"
      ]
    },
    {
      "cell_type": "markdown",
      "metadata": {
        "id": "10iRPiQ1ISHw"
      },
      "source": [
        "and make an update:\n",
        "\n",
        "We introduce a help function parameters to have a handle in all parameters in the network."
      ]
    },
    {
      "cell_type": "code",
      "execution_count": 55,
      "metadata": {
        "colab": {
          "base_uri": "https://localhost:8080/"
        },
        "id": "dhAI7eyeznia",
        "outputId": "03f495b7-e557-4f7f-ef3b-faa631431fc7"
      },
      "outputs": [
        {
          "name": "stdout",
          "output_type": "stream",
          "text": [
            "Network before update:\n",
            "Layer 0 \n",
            " \n",
            "\tWeights: [[Var(v=0.0300, grad=2.2356), Var(v=-0.0957, grad=-0.9766), Var(v=-0.1139, grad=6.5243), Var(v=0.1270, grad=2.9064), Var(v=0.0715, grad=4.4192), Var(v=0.1616, grad=2.1441), Var(v=0.1254, grad=-5.6513), Var(v=0.1773, grad=3.4657), Var(v=0.1332, grad=1.4432), Var(v=-0.0155, grad=-1.6834), Var(v=-0.0239, grad=-0.6943), Var(v=-0.0078, grad=2.0777), Var(v=-0.0163, grad=4.5482), Var(v=0.0900, grad=-0.8998), Var(v=0.0279, grad=4.4145)]]\n",
            "\tBiases: [Var(v=0.0000, grad=1.9199), Var(v=0.0000, grad=0.8876), Var(v=0.0000, grad=-5.9294), Var(v=0.0000, grad=2.4960), Var(v=0.0000, grad=3.7952), Var(v=0.0000, grad=1.8413), Var(v=0.0000, grad=-4.8533), Var(v=0.0000, grad=2.9763), Var(v=0.0000, grad=1.2394), Var(v=0.0000, grad=1.5299), Var(v=0.0000, grad=0.6310), Var(v=0.0000, grad=-1.8883), Var(v=0.0000, grad=-4.1335), Var(v=0.0000, grad=-0.7727), Var(v=0.0000, grad=3.7912)]\n",
            "Layer 1 \n",
            " \n",
            "\tWeights: [[Var(v=0.1178, grad=-0.4463), Var(v=-0.1130, grad=0.0000), Var(v=0.0394, grad=0.0000), Var(v=0.0163, grad=0.0000), Var(v=0.1966, grad=0.0697), Var(v=-0.0016, grad=0.0995), Var(v=0.0963, grad=-0.2586), Var(v=0.0923, grad=-0.0037), Var(v=0.0941, grad=0.3673), Var(v=-0.1096, grad=-0.0752), Var(v=0.0409, grad=-0.4593), Var(v=0.2030, grad=0.0000), Var(v=0.0311, grad=-0.1835), Var(v=0.0136, grad=0.0000), Var(v=0.0230, grad=-0.1974), Var(v=-0.1115, grad=0.0000), Var(v=0.0955, grad=0.0000), Var(v=0.1041, grad=0.3491), Var(v=0.0640, grad=0.0000), Var(v=-0.0451, grad=0.0000), Var(v=-0.2795, grad=0.0000), Var(v=0.0288, grad=0.0000), Var(v=-0.0975, grad=0.0000), Var(v=-0.0046, grad=0.0066), Var(v=0.0518, grad=0.0752), Var(v=-0.0753, grad=-0.0215), Var(v=0.0029, grad=-0.5495), Var(v=0.0424, grad=0.3175), Var(v=-0.1844, grad=0.0000), Var(v=-0.0372, grad=0.0000), Var(v=0.0504, grad=0.1675), Var(v=-0.1138, grad=0.1722), Var(v=-0.0924, grad=0.0000), Var(v=-0.0852, grad=-0.1238), Var(v=0.0102, grad=0.0000), Var(v=0.1422, grad=0.4471), Var(v=-0.1010, grad=0.0000), Var(v=-0.0398, grad=0.5019), Var(v=-0.0538, grad=0.0000), Var(v=0.0110, grad=0.0203), Var(v=-0.0230, grad=0.0000), Var(v=0.0082, grad=-0.0242), Var(v=-0.0796, grad=0.0000), Var(v=0.0989, grad=0.0000), Var(v=0.0094, grad=0.0000), Var(v=-0.0257, grad=0.0000), Var(v=-0.0102, grad=0.0000), Var(v=-0.0824, grad=0.0000), Var(v=0.1550, grad=0.0668), Var(v=0.0317, grad=0.3284)], [Var(v=0.1624, grad=1.3181), Var(v=-0.0309, grad=0.3503), Var(v=0.0041, grad=0.0000), Var(v=0.1740, grad=0.1485), Var(v=0.0703, grad=-0.2058), Var(v=-0.0149, grad=-0.2940), Var(v=0.0239, grad=0.7639), Var(v=0.1260, grad=0.0109), Var(v=0.0547, grad=-1.0849), Var(v=0.0507, grad=0.2222), Var(v=-0.0843, grad=0.0000), Var(v=0.0584, grad=0.3407), Var(v=-0.1328, grad=0.0000), Var(v=-0.0261, grad=0.0000), Var(v=-0.0735, grad=0.0000), Var(v=-0.0833, grad=0.0000), Var(v=-0.1405, grad=0.0000), Var(v=-0.1509, grad=0.0000), Var(v=0.0339, grad=0.0000), Var(v=-0.0673, grad=0.0000), Var(v=-0.1713, grad=0.0000), Var(v=-0.0362, grad=0.0000), Var(v=-0.0025, grad=-0.1247), Var(v=0.1594, grad=-0.0196), Var(v=0.0263, grad=-0.2221), Var(v=-0.1589, grad=0.0000), Var(v=0.1249, grad=1.6229), Var(v=-0.0186, grad=-0.9377), Var(v=-0.1206, grad=0.0000), Var(v=0.0854, grad=0.0000), Var(v=0.0273, grad=0.0000), Var(v=0.0495, grad=-0.5085), Var(v=-0.0751, grad=-0.3074), Var(v=0.0168, grad=0.0000), Var(v=-0.1878, grad=0.0000), Var(v=0.1114, grad=-1.3207), Var(v=0.0697, grad=0.0000), Var(v=0.0875, grad=-1.4825), Var(v=0.0285, grad=0.0000), Var(v=0.1599, grad=-0.0599), Var(v=-0.1893, grad=0.0000), Var(v=0.0389, grad=0.0000), Var(v=-0.0695, grad=0.0000), Var(v=-0.0403, grad=0.0000), Var(v=0.1535, grad=-0.2087), Var(v=-0.1226, grad=0.0000), Var(v=0.0705, grad=-0.3168), Var(v=-0.1610, grad=0.0000), Var(v=0.1145, grad=-0.1974), Var(v=-0.0381, grad=-0.9700)], [Var(v=-0.0299, grad=1.5689), Var(v=0.0869, grad=0.4170), Var(v=0.0119, grad=0.0000), Var(v=0.0255, grad=0.1767), Var(v=0.0454, grad=-0.2450), Var(v=0.1376, grad=-0.3500), Var(v=0.0512, grad=0.9093), Var(v=-0.1284, grad=0.0130), Var(v=0.0403, grad=-1.2914), Var(v=0.0790, grad=0.2645), Var(v=0.0953, grad=0.0000), Var(v=0.1040, grad=0.4055), Var(v=0.0824, grad=0.0000), Var(v=-0.1652, grad=0.0000), Var(v=0.0330, grad=0.0000), Var(v=-0.0006, grad=0.0000), Var(v=-0.0753, grad=0.0000), Var(v=0.1324, grad=0.0000), Var(v=-0.0808, grad=0.0000), Var(v=-0.0255, grad=0.0000), Var(v=0.0398, grad=0.0000), Var(v=-0.0430, grad=0.0000), Var(v=0.0807, grad=-0.1484), Var(v=0.1551, grad=-0.0233), Var(v=0.0726, grad=-0.2643), Var(v=0.0301, grad=0.0000), Var(v=-0.0612, grad=1.9318), Var(v=0.1590, grad=-1.1162), Var(v=-0.1694, grad=0.0000), Var(v=-0.1283, grad=0.0000), Var(v=0.0150, grad=0.0000), Var(v=0.0053, grad=-0.6053), Var(v=0.0974, grad=-0.3659), Var(v=-0.1403, grad=0.0000), Var(v=0.0274, grad=0.0000), Var(v=0.1478, grad=-1.5720), Var(v=-0.0728, grad=0.0000), Var(v=0.0414, grad=-1.7647), Var(v=-0.1939, grad=0.0000), Var(v=-0.0551, grad=-0.0713), Var(v=-0.1317, grad=0.0000), Var(v=-0.1125, grad=0.0000), Var(v=0.0429, grad=0.0000), Var(v=0.0372, grad=0.0000), Var(v=0.0838, grad=-0.2484), Var(v=0.0319, grad=0.0000), Var(v=0.0050, grad=-0.3771), Var(v=-0.1262, grad=0.0000), Var(v=-0.0642, grad=-0.2350), Var(v=0.0479, grad=-1.1546)], [Var(v=0.1988, grad=-1.8903), Var(v=0.1245, grad=0.0000), Var(v=-0.0220, grad=0.0000), Var(v=-0.0349, grad=0.0000), Var(v=0.0313, grad=0.2952), Var(v=0.1801, grad=0.4217), Var(v=-0.0418, grad=-1.0955), Var(v=0.0614, grad=-0.0157), Var(v=-0.0004, grad=1.5560), Var(v=-0.0086, grad=-0.3187), Var(v=0.0373, grad=-1.9455), Var(v=-0.2374, grad=0.0000), Var(v=-0.2328, grad=-0.7772), Var(v=0.0174, grad=0.0000), Var(v=-0.0205, grad=-0.8363), Var(v=-0.2043, grad=0.0000), Var(v=-0.1461, grad=0.0000), Var(v=-0.0463, grad=1.4789), Var(v=-0.1418, grad=0.0000), Var(v=0.1180, grad=0.0000), Var(v=-0.0266, grad=0.0000), Var(v=0.0043, grad=0.0000), Var(v=0.0648, grad=0.0000), Var(v=0.1023, grad=0.0281), Var(v=0.0626, grad=0.3185), Var(v=0.0413, grad=-0.0909), Var(v=-0.0190, grad=-2.3275), Var(v=0.1166, grad=1.3448), Var(v=-0.0654, grad=0.0000), Var(v=-0.0110, grad=0.0000), Var(v=-0.1168, grad=0.7095), Var(v=0.0471, grad=0.7293), Var(v=0.0667, grad=0.0000), Var(v=0.0636, grad=-0.5243), Var(v=-0.1341, grad=0.0000), Var(v=0.0744, grad=1.8940), Var(v=0.0870, grad=0.0000), Var(v=0.1288, grad=2.1262), Var(v=0.0557, grad=0.0000), Var(v=0.0473, grad=0.0859), Var(v=-0.0274, grad=0.0000), Var(v=0.1517, grad=-0.1026), Var(v=0.0534, grad=0.0000), Var(v=0.0158, grad=0.0000), Var(v=-0.1262, grad=0.0000), Var(v=-0.0037, grad=0.0000), Var(v=-0.0769, grad=0.0000), Var(v=-0.0809, grad=0.0000), Var(v=-0.0744, grad=0.2831), Var(v=0.0253, grad=1.3911)], [Var(v=-0.1196, grad=-1.0642), Var(v=-0.1283, grad=0.0000), Var(v=-0.0509, grad=0.0000), Var(v=-0.0655, grad=0.0000), Var(v=-0.0044, grad=0.1662), Var(v=-0.0483, grad=0.2374), Var(v=0.0836, grad=-0.6167), Var(v=0.0226, grad=-0.0088), Var(v=0.0387, grad=0.8760), Var(v=0.0240, grad=-0.1794), Var(v=0.1351, grad=-1.0953), Var(v=0.1558, grad=0.0000), Var(v=0.0960, grad=-0.4375), Var(v=-0.0581, grad=0.0000), Var(v=0.1520, grad=-0.4708), Var(v=0.1436, grad=0.0000), Var(v=0.0424, grad=0.0000), Var(v=0.0900, grad=0.8326), Var(v=-0.0665, grad=0.0000), Var(v=-0.0195, grad=0.0000), Var(v=0.1164, grad=0.0000), Var(v=-0.0573, grad=0.0000), Var(v=-0.0814, grad=0.0000), Var(v=-0.0441, grad=0.0158), Var(v=0.1553, grad=0.1793), Var(v=0.2405, grad=-0.0512), Var(v=0.0280, grad=-1.3103), Var(v=0.0586, grad=0.7571), Var(v=-0.0312, grad=0.0000), Var(v=-0.0324, grad=0.0000), Var(v=0.2373, grad=0.3995), Var(v=0.1304, grad=0.4106), Var(v=0.1011, grad=0.0000), Var(v=-0.1978, grad=-0.2951), Var(v=0.0274, grad=0.0000), Var(v=0.0607, grad=1.0663), Var(v=-0.0171, grad=0.0000), Var(v=0.0570, grad=1.1970), Var(v=-0.1904, grad=0.0000), Var(v=-0.1002, grad=0.0484), Var(v=-0.0430, grad=0.0000), Var(v=0.0798, grad=-0.0578), Var(v=-0.1143, grad=0.0000), Var(v=0.0349, grad=0.0000), Var(v=0.1035, grad=0.0000), Var(v=-0.0787, grad=0.0000), Var(v=0.0904, grad=0.0000), Var(v=0.1475, grad=0.0000), Var(v=0.0761, grad=0.1594), Var(v=0.0573, grad=0.7832)], [Var(v=-0.0081, grad=-2.4051), Var(v=-0.2446, grad=0.0000), Var(v=0.0656, grad=0.0000), Var(v=-0.0752, grad=0.0000), Var(v=0.0910, grad=0.3756), Var(v=0.0483, grad=0.5365), Var(v=0.0683, grad=-1.3939), Var(v=-0.0922, grad=-0.0200), Var(v=0.1320, grad=1.9797), Var(v=0.0874, grad=-0.4055), Var(v=0.0141, grad=-2.4753), Var(v=-0.0052, grad=0.0000), Var(v=0.1425, grad=-0.9888), Var(v=-0.3063, grad=0.0000), Var(v=0.0182, grad=-1.0641), Var(v=-0.0500, grad=0.0000), Var(v=-0.1148, grad=0.0000), Var(v=0.0615, grad=1.8817), Var(v=0.1251, grad=0.0000), Var(v=-0.0081, grad=0.0000), Var(v=0.0871, grad=0.0000), Var(v=-0.0300, grad=0.0000), Var(v=-0.1274, grad=0.0000), Var(v=0.0815, grad=0.0358), Var(v=0.1439, grad=0.4052), Var(v=0.1389, grad=-0.1156), Var(v=0.0767, grad=-2.9613), Var(v=0.0904, grad=1.7111), Var(v=-0.1231, grad=0.0000), Var(v=0.1255, grad=0.0000), Var(v=0.1558, grad=0.9028), Var(v=0.0922, grad=0.9279), Var(v=-0.0792, grad=0.0000), Var(v=0.1106, grad=-0.6670), Var(v=-0.1090, grad=0.0000), Var(v=0.0987, grad=2.4098), Var(v=-0.0487, grad=0.0000), Var(v=-0.0598, grad=2.7052), Var(v=0.0535, grad=0.0000), Var(v=0.1193, grad=0.1093), Var(v=0.0528, grad=0.0000), Var(v=0.0899, grad=-0.1305), Var(v=0.0097, grad=0.0000), Var(v=0.1332, grad=0.0000), Var(v=-0.0707, grad=0.0000), Var(v=-0.0727, grad=0.0000), Var(v=0.0642, grad=0.0000), Var(v=-0.1774, grad=0.0000), Var(v=0.1152, grad=0.3602), Var(v=-0.0168, grad=1.7699)], [Var(v=0.1189, grad=-1.8668), Var(v=0.1326, grad=0.0000), Var(v=-0.0303, grad=0.0000), Var(v=0.0594, grad=0.0000), Var(v=-0.0162, grad=0.2915), Var(v=0.0460, grad=0.4164), Var(v=0.0162, grad=-1.0819), Var(v=-0.1267, grad=-0.0155), Var(v=-0.0805, grad=1.5366), Var(v=0.1365, grad=-0.3147), Var(v=-0.1191, grad=-1.9213), Var(v=0.1151, grad=0.0000), Var(v=0.0918, grad=-0.7675), Var(v=-0.0780, grad=0.0000), Var(v=0.0312, grad=-0.8259), Var(v=-0.1212, grad=0.0000), Var(v=-0.1174, grad=0.0000), Var(v=-0.0345, grad=1.4605), Var(v=-0.1462, grad=0.0000), Var(v=-0.0681, grad=0.0000), Var(v=-0.0831, grad=0.0000), Var(v=0.0638, grad=0.0000), Var(v=-0.2630, grad=0.0000), Var(v=0.0011, grad=0.0278), Var(v=-0.0107, grad=0.3145), Var(v=0.1848, grad=-0.0897), Var(v=-0.0380, grad=-2.2985), Var(v=-0.0130, grad=1.3281), Var(v=-0.0205, grad=0.0000), Var(v=-0.0334, grad=0.0000), Var(v=-0.1294, grad=0.7007), Var(v=0.1902, grad=0.7202), Var(v=-0.0814, grad=0.0000), Var(v=0.1287, grad=-0.5177), Var(v=-0.0295, grad=0.0000), Var(v=-0.0785, grad=1.8704), Var(v=0.1100, grad=0.0000), Var(v=-0.1560, grad=2.0997), Var(v=-0.1400, grad=0.0000), Var(v=0.1738, grad=0.0849), Var(v=-0.1210, grad=0.0000), Var(v=-0.0146, grad=-0.1013), Var(v=0.0401, grad=0.0000), Var(v=-0.1017, grad=0.0000), Var(v=-0.0875, grad=0.0000), Var(v=0.0859, grad=0.0000), Var(v=-0.0263, grad=0.0000), Var(v=-0.0043, grad=0.0000), Var(v=-0.1066, grad=0.2796), Var(v=0.0414, grad=1.3738)], [Var(v=-0.1411, grad=-2.6389), Var(v=-0.0793, grad=0.0000), Var(v=-0.0013, grad=0.0000), Var(v=0.0546, grad=0.0000), Var(v=0.0042, grad=0.4121), Var(v=0.2768, grad=0.5887), Var(v=0.0371, grad=-1.5293), Var(v=0.0082, grad=-0.0219), Var(v=-0.0906, grad=2.1721), Var(v=-0.1186, grad=-0.4449), Var(v=-0.0324, grad=-2.7159), Var(v=-0.3104, grad=0.0000), Var(v=-0.0117, grad=-1.0850), Var(v=-0.0684, grad=0.0000), Var(v=0.0457, grad=-1.1675), Var(v=0.0025, grad=0.0000), Var(v=0.0458, grad=0.0000), Var(v=0.0339, grad=2.0646), Var(v=0.0204, grad=0.0000), Var(v=-0.0629, grad=0.0000), Var(v=-0.0859, grad=0.0000), Var(v=-0.1314, grad=0.0000), Var(v=0.0199, grad=0.0000), Var(v=0.1084, grad=0.0392), Var(v=-0.0108, grad=0.4446), Var(v=-0.0615, grad=-0.1268), Var(v=0.0430, grad=-3.2491), Var(v=-0.0617, grad=1.8774), Var(v=-0.1820, grad=0.0000), Var(v=-0.1248, grad=0.0000), Var(v=0.1310, grad=0.9905), Var(v=0.1428, grad=1.0181), Var(v=0.0490, grad=0.0000), Var(v=0.0680, grad=-0.7319), Var(v=-0.0505, grad=0.0000), Var(v=-0.0120, grad=2.6440), Var(v=0.0002, grad=0.0000), Var(v=0.0264, grad=2.9682), Var(v=0.0310, grad=0.0000), Var(v=0.1060, grad=0.1200), Var(v=-0.1621, grad=0.0000), Var(v=-0.0212, grad=-0.1432), Var(v=0.0107, grad=0.0000), Var(v=-0.1092, grad=0.0000), Var(v=-0.1079, grad=0.0000), Var(v=0.0479, grad=0.0000), Var(v=-0.0296, grad=0.0000), Var(v=0.2102, grad=0.0000), Var(v=-0.0918, grad=0.3952), Var(v=0.0816, grad=1.9420)], [Var(v=-0.0858, grad=-1.9825), Var(v=-0.1763, grad=0.0000), Var(v=-0.1354, grad=0.0000), Var(v=-0.0197, grad=0.0000), Var(v=-0.1213, grad=0.3096), Var(v=0.2715, grad=0.4422), Var(v=0.1112, grad=-1.1489), Var(v=0.0579, grad=-0.0165), Var(v=0.0625, grad=1.6318), Var(v=0.1166, grad=-0.3342), Var(v=0.0926, grad=-2.0403), Var(v=0.1173, grad=0.0000), Var(v=-0.0675, grad=-0.8151), Var(v=-0.1450, grad=0.0000), Var(v=0.1084, grad=-0.8771), Var(v=0.0906, grad=0.0000), Var(v=0.0159, grad=0.0000), Var(v=0.0047, grad=1.5510), Var(v=-0.0442, grad=0.0000), Var(v=-0.2574, grad=0.0000), Var(v=-0.1134, grad=0.0000), Var(v=0.0115, grad=0.0000), Var(v=0.0785, grad=0.0000), Var(v=-0.0829, grad=0.0295), Var(v=0.0163, grad=0.3340), Var(v=0.1309, grad=-0.0953), Var(v=-0.0127, grad=-2.4409), Var(v=-0.0593, grad=1.4104), Var(v=-0.0113, grad=0.0000), Var(v=-0.0450, grad=0.0000), Var(v=-0.0465, grad=0.7441), Var(v=-0.0174, grad=0.7648), Var(v=-0.0251, grad=0.0000), Var(v=-0.0701, grad=-0.5498), Var(v=0.1409, grad=0.0000), Var(v=0.0606, grad=1.9864), Var(v=-0.0235, grad=0.0000), Var(v=0.0622, grad=2.2298), Var(v=0.0370, grad=0.0000), Var(v=-0.1028, grad=0.0901), Var(v=-0.0769, grad=0.0000), Var(v=0.1069, grad=-0.1076), Var(v=-0.0656, grad=0.0000), Var(v=0.1030, grad=0.0000), Var(v=0.1136, grad=0.0000), Var(v=-0.1686, grad=0.0000), Var(v=0.0186, grad=0.0000), Var(v=-0.0908, grad=0.0000), Var(v=0.0438, grad=0.2969), Var(v=0.0326, grad=1.4589)], [Var(v=-0.0189, grad=0.2139), Var(v=-0.0348, grad=0.0569), Var(v=-0.1238, grad=0.0000), Var(v=0.1228, grad=0.0241), Var(v=0.1853, grad=-0.0334), Var(v=0.0717, grad=-0.0477), Var(v=0.0528, grad=0.1240), Var(v=0.0724, grad=0.0018), Var(v=-0.0935, grad=-0.1761), Var(v=-0.2702, grad=0.0361), Var(v=-0.1303, grad=0.0000), Var(v=-0.0148, grad=0.0553), Var(v=-0.0923, grad=0.0000), Var(v=0.1128, grad=0.0000), Var(v=0.0111, grad=0.0000), Var(v=0.1166, grad=0.0000), Var(v=-0.0038, grad=0.0000), Var(v=-0.0105, grad=0.0000), Var(v=-0.0580, grad=0.0000), Var(v=-0.0296, grad=0.0000), Var(v=-0.0296, grad=0.0000), Var(v=-0.0149, grad=0.0000), Var(v=0.0427, grad=-0.0202), Var(v=-0.0451, grad=-0.0032), Var(v=0.1188, grad=-0.0360), Var(v=-0.0011, grad=0.0000), Var(v=0.1212, grad=0.2634), Var(v=0.0707, grad=-0.1522), Var(v=-0.0698, grad=0.0000), Var(v=-0.0199, grad=0.0000), Var(v=-0.2270, grad=0.0000), Var(v=-0.0692, grad=-0.0825), Var(v=-0.0760, grad=-0.0499), Var(v=0.0813, grad=0.0000), Var(v=0.0832, grad=0.0000), Var(v=0.0205, grad=-0.2144), Var(v=-0.0642, grad=0.0000), Var(v=0.0057, grad=-0.2406), Var(v=0.1488, grad=0.0000), Var(v=0.1382, grad=-0.0097), Var(v=0.1150, grad=0.0000), Var(v=-0.0139, grad=0.0000), Var(v=-0.0788, grad=0.0000), Var(v=0.0527, grad=0.0000), Var(v=-0.0152, grad=-0.0339), Var(v=-0.0901, grad=0.0000), Var(v=-0.0575, grad=-0.0514), Var(v=-0.0328, grad=0.0000), Var(v=-0.0137, grad=-0.0320), Var(v=-0.0241, grad=-0.1574)], [Var(v=0.0494, grad=0.3289), Var(v=-0.1968, grad=0.0874), Var(v=-0.1564, grad=0.0000), Var(v=0.1601, grad=0.0370), Var(v=-0.0237, grad=-0.0514), Var(v=-0.0148, grad=-0.0734), Var(v=-0.0604, grad=0.1906), Var(v=0.0508, grad=0.0027), Var(v=-0.1137, grad=-0.2707), Var(v=-0.1572, grad=0.0554), Var(v=0.0070, grad=0.0000), Var(v=0.0143, grad=0.0850), Var(v=0.0736, grad=0.0000), Var(v=0.1733, grad=0.0000), Var(v=-0.1074, grad=0.0000), Var(v=-0.1168, grad=0.0000), Var(v=-0.0385, grad=0.0000), Var(v=0.0184, grad=0.0000), Var(v=0.1331, grad=0.0000), Var(v=0.1133, grad=0.0000), Var(v=-0.0983, grad=0.0000), Var(v=0.0151, grad=0.0000), Var(v=0.0300, grad=-0.0311), Var(v=0.1445, grad=-0.0049), Var(v=0.2480, grad=-0.0554), Var(v=-0.1605, grad=0.0000), Var(v=-0.0223, grad=0.4049), Var(v=0.1896, grad=-0.2340), Var(v=-0.0250, grad=0.0000), Var(v=0.0697, grad=0.0000), Var(v=0.0602, grad=0.0000), Var(v=-0.0774, grad=-0.1269), Var(v=0.1900, grad=-0.0767), Var(v=0.1726, grad=0.0000), Var(v=-0.1242, grad=0.0000), Var(v=-0.1720, grad=-0.3295), Var(v=-0.0091, grad=0.0000), Var(v=-0.0106, grad=-0.3699), Var(v=-0.1555, grad=0.0000), Var(v=0.1328, grad=-0.0150), Var(v=-0.0089, grad=0.0000), Var(v=0.1205, grad=0.0000), Var(v=0.1105, grad=0.0000), Var(v=-0.2761, grad=0.0000), Var(v=-0.0777, grad=-0.0521), Var(v=0.0463, grad=0.0000), Var(v=-0.1248, grad=-0.0790), Var(v=-0.1077, grad=0.0000), Var(v=-0.1256, grad=-0.0493), Var(v=0.0320, grad=-0.2420)], [Var(v=0.0089, grad=0.1069), Var(v=-0.0819, grad=0.0284), Var(v=0.0297, grad=0.0000), Var(v=-0.1160, grad=0.0120), Var(v=0.0920, grad=-0.0167), Var(v=0.2231, grad=-0.0238), Var(v=0.0253, grad=0.0619), Var(v=0.2895, grad=0.0009), Var(v=-0.0851, grad=-0.0880), Var(v=0.0032, grad=0.0180), Var(v=-0.1944, grad=0.0000), Var(v=0.1518, grad=0.0276), Var(v=-0.1135, grad=0.0000), Var(v=-0.0478, grad=0.0000), Var(v=0.0436, grad=0.0000), Var(v=-0.1395, grad=0.0000), Var(v=-0.1128, grad=0.0000), Var(v=-0.1410, grad=0.0000), Var(v=-0.0050, grad=0.0000), Var(v=-0.0814, grad=0.0000), Var(v=0.1005, grad=0.0000), Var(v=-0.0222, grad=0.0000), Var(v=-0.0574, grad=-0.0101), Var(v=0.0255, grad=-0.0016), Var(v=0.0138, grad=-0.0180), Var(v=0.0528, grad=0.0000), Var(v=0.0363, grad=0.1316), Var(v=0.0961, grad=-0.0760), Var(v=-0.0354, grad=0.0000), Var(v=0.0635, grad=0.0000), Var(v=-0.0838, grad=0.0000), Var(v=0.0125, grad=-0.0412), Var(v=-0.0381, grad=-0.0249), Var(v=-0.0212, grad=0.0000), Var(v=0.0783, grad=0.0000), Var(v=0.0418, grad=-0.1071), Var(v=0.0523, grad=0.0000), Var(v=0.0525, grad=-0.1202), Var(v=-0.0631, grad=0.0000), Var(v=-0.0643, grad=-0.0049), Var(v=-0.0598, grad=0.0000), Var(v=-0.2292, grad=0.0000), Var(v=-0.1007, grad=0.0000), Var(v=0.1465, grad=0.0000), Var(v=0.0449, grad=-0.0169), Var(v=0.1815, grad=0.0000), Var(v=-0.1233, grad=-0.0257), Var(v=0.0057, grad=0.0000), Var(v=0.1571, grad=-0.0160), Var(v=0.0976, grad=-0.0787)], [Var(v=-0.1286, grad=0.2248), Var(v=0.0270, grad=0.0597), Var(v=-0.1018, grad=0.0000), Var(v=-0.1312, grad=0.0253), Var(v=0.0430, grad=-0.0351), Var(v=0.0392, grad=-0.0501), Var(v=0.0438, grad=0.1303), Var(v=0.1702, grad=0.0019), Var(v=-0.0356, grad=-0.1850), Var(v=-0.0281, grad=0.0379), Var(v=-0.1517, grad=0.0000), Var(v=-0.0997, grad=0.0581), Var(v=-0.1217, grad=0.0000), Var(v=0.0928, grad=0.0000), Var(v=0.1564, grad=0.0000), Var(v=0.2182, grad=0.0000), Var(v=0.1640, grad=0.0000), Var(v=-0.1360, grad=0.0000), Var(v=-0.1444, grad=0.0000), Var(v=-0.0637, grad=0.0000), Var(v=0.0664, grad=0.0000), Var(v=0.0939, grad=0.0000), Var(v=-0.0034, grad=-0.0213), Var(v=0.0314, grad=-0.0033), Var(v=-0.0837, grad=-0.0379), Var(v=0.0171, grad=0.0000), Var(v=-0.1701, grad=0.2768), Var(v=0.0729, grad=-0.1599), Var(v=0.1441, grad=0.0000), Var(v=-0.1119, grad=0.0000), Var(v=-0.1356, grad=0.0000), Var(v=-0.0099, grad=-0.0867), Var(v=0.1083, grad=-0.0524), Var(v=0.0374, grad=0.0000), Var(v=-0.0541, grad=0.0000), Var(v=-0.0084, grad=-0.2252), Var(v=0.1092, grad=0.0000), Var(v=-0.1638, grad=-0.2528), Var(v=0.0691, grad=0.0000), Var(v=0.1457, grad=-0.0102), Var(v=-0.0336, grad=0.0000), Var(v=0.0524, grad=0.0000), Var(v=0.0142, grad=0.0000), Var(v=0.0009, grad=0.0000), Var(v=0.0881, grad=-0.0356), Var(v=0.1174, grad=0.0000), Var(v=0.0203, grad=-0.0540), Var(v=-0.0893, grad=0.0000), Var(v=0.0816, grad=-0.0337), Var(v=0.1228, grad=-0.1654)], [Var(v=0.1188, grad=-1.3389), Var(v=0.1252, grad=0.0000), Var(v=0.0118, grad=0.0000), Var(v=-0.0668, grad=0.0000), Var(v=-0.0205, grad=0.2091), Var(v=0.0291, grad=0.2987), Var(v=-0.1056, grad=-0.7760), Var(v=0.0722, grad=-0.0111), Var(v=0.0801, grad=1.1021), Var(v=-0.0128, grad=-0.2257), Var(v=0.0238, grad=-1.3780), Var(v=-0.1572, grad=0.0000), Var(v=-0.0065, grad=-0.5505), Var(v=0.0538, grad=0.0000), Var(v=-0.0899, grad=-0.5924), Var(v=0.0321, grad=0.0000), Var(v=-0.0889, grad=0.0000), Var(v=0.0294, grad=1.0475), Var(v=-0.0304, grad=0.0000), Var(v=0.1202, grad=0.0000), Var(v=0.0029, grad=0.0000), Var(v=-0.0497, grad=0.0000), Var(v=0.0260, grad=0.0000), Var(v=-0.0381, grad=0.0199), Var(v=-0.1918, grad=0.2256), Var(v=0.0519, grad=-0.0644), Var(v=-0.1314, grad=-1.6485), Var(v=-0.1033, grad=0.9526), Var(v=-0.0659, grad=0.0000), Var(v=0.0623, grad=0.0000), Var(v=0.0824, grad=0.5026), Var(v=0.0653, grad=0.5165), Var(v=0.0118, grad=0.0000), Var(v=0.0014, grad=-0.3713), Var(v=-0.2262, grad=0.0000), Var(v=-0.1862, grad=1.3415), Var(v=-0.1205, grad=0.0000), Var(v=0.0050, grad=1.5060), Var(v=0.0399, grad=0.0000), Var(v=-0.1093, grad=0.0609), Var(v=0.1411, grad=0.0000), Var(v=0.0160, grad=-0.0727), Var(v=-0.0168, grad=0.0000), Var(v=-0.1662, grad=0.0000), Var(v=0.1441, grad=0.0000), Var(v=-0.0295, grad=0.0000), Var(v=-0.0516, grad=0.0000), Var(v=-0.2047, grad=0.0000), Var(v=0.1343, grad=0.2005), Var(v=-0.0771, grad=0.9853)], [Var(v=-0.1688, grad=-0.4150), Var(v=0.1958, grad=0.0000), Var(v=0.1246, grad=0.0000), Var(v=0.1309, grad=0.0000), Var(v=-0.0001, grad=0.0648), Var(v=-0.0238, grad=0.0926), Var(v=0.1402, grad=-0.2405), Var(v=0.1280, grad=-0.0034), Var(v=-0.0356, grad=0.3416), Var(v=-0.0988, grad=-0.0700), Var(v=-0.0172, grad=-0.4271), Var(v=0.0432, grad=0.0000), Var(v=0.0140, grad=-0.1706), Var(v=-0.2013, grad=0.0000), Var(v=-0.0465, grad=-0.1836), Var(v=-0.0960, grad=0.0000), Var(v=0.1152, grad=0.0000), Var(v=0.2262, grad=0.3247), Var(v=0.0659, grad=0.0000), Var(v=0.1882, grad=0.0000), Var(v=0.0803, grad=0.0000), Var(v=-0.1394, grad=0.0000), Var(v=-0.0604, grad=0.0000), Var(v=-0.0221, grad=0.0062), Var(v=0.1553, grad=0.0699), Var(v=-0.1176, grad=-0.0199), Var(v=0.0736, grad=-0.5110), Var(v=-0.1235, grad=0.2953), Var(v=-0.0957, grad=0.0000), Var(v=-0.0542, grad=0.0000), Var(v=-0.0501, grad=0.1558), Var(v=0.1849, grad=0.1601), Var(v=-0.0326, grad=0.0000), Var(v=0.0176, grad=-0.1151), Var(v=-0.0841, grad=0.0000), Var(v=0.1300, grad=0.4158), Var(v=0.0085, grad=0.0000), Var(v=-0.1096, grad=0.4668), Var(v=-0.0632, grad=0.0000), Var(v=0.0447, grad=0.0189), Var(v=0.1696, grad=0.0000), Var(v=0.0080, grad=-0.0225), Var(v=-0.0156, grad=0.0000), Var(v=-0.0131, grad=0.0000), Var(v=0.2068, grad=0.0000), Var(v=0.0546, grad=0.0000), Var(v=0.1052, grad=0.0000), Var(v=-0.0161, grad=0.0000), Var(v=0.0925, grad=0.0622), Var(v=0.1299, grad=0.3054)]]\n",
            "\tBiases: [Var(v=0.0000, grad=-0.2592), Var(v=0.0000, grad=3.3279), Var(v=0.0000, grad=0.0000), Var(v=0.0000, grad=1.4105), Var(v=0.0000, grad=0.0405), Var(v=0.0000, grad=0.0578), Var(v=0.0000, grad=-0.1502), Var(v=0.0000, grad=-0.0022), Var(v=0.0000, grad=0.2133), Var(v=0.0000, grad=-0.0437), Var(v=0.0000, grad=-13.1529), Var(v=0.0000, grad=3.2361), Var(v=0.0000, grad=-5.2544), Var(v=0.0000, grad=0.0000), Var(v=0.0000, grad=-5.6541), Var(v=0.0000, grad=0.0000), Var(v=0.0000, grad=0.0000), Var(v=0.0000, grad=9.9985), Var(v=0.0000, grad=0.0000), Var(v=0.0000, grad=0.0000), Var(v=0.0000, grad=0.0000), Var(v=0.0000, grad=0.0000), Var(v=0.0000, grad=-1.1842), Var(v=0.0000, grad=0.0039), Var(v=0.0000, grad=0.0437), Var(v=0.0000, grad=-0.6143), Var(v=0.0000, grad=-0.3191), Var(v=0.0000, grad=0.1844), Var(v=0.0000, grad=0.0000), Var(v=0.0000, grad=0.0000), Var(v=0.0000, grad=4.7970), Var(v=0.0000, grad=0.1000), Var(v=0.0000, grad=-2.9198), Var(v=0.0000, grad=-3.5444), Var(v=0.0000, grad=0.0000), Var(v=0.0000, grad=0.2597), Var(v=0.0000, grad=0.0000), Var(v=0.0000, grad=0.2915), Var(v=0.0000, grad=0.0000), Var(v=0.0000, grad=0.0118), Var(v=0.0000, grad=0.0000), Var(v=0.0000, grad=-0.6936), Var(v=0.0000, grad=0.0000), Var(v=0.0000, grad=0.0000), Var(v=0.0000, grad=-1.9822), Var(v=0.0000, grad=0.0000), Var(v=0.0000, grad=-3.0092), Var(v=0.0000, grad=0.0000), Var(v=0.0000, grad=0.0388), Var(v=0.0000, grad=0.1907)]\n",
            "Layer 2 \n",
            " \n",
            "\tWeights: [[Var(v=0.1446, grad=0.7005)], [Var(v=0.0384, grad=0.1436)], [Var(v=-0.1290, grad=0.0000)], [Var(v=0.0163, grad=2.1193)], [Var(v=-0.0226, grad=0.9766)], [Var(v=-0.0323, grad=-10.7123)], [Var(v=0.0838, grad=-2.5350)], [Var(v=0.0012, grad=0.3920)], [Var(v=-0.1190, grad=-1.1473)], [Var(v=0.0244, grad=-1.4535)], [Var(v=0.1488, grad=-1.1542)], [Var(v=0.0374, grad=1.6285)], [Var(v=0.0595, grad=-0.1564)], [Var(v=0.1149, grad=0.0000)], [Var(v=0.0640, grad=-2.9802)], [Var(v=-0.1262, grad=0.0000)], [Var(v=0.1048, grad=0.0000)], [Var(v=-0.1131, grad=-2.5586)], [Var(v=0.0274, grad=0.0000)], [Var(v=-0.0809, grad=0.0000)], [Var(v=0.0449, grad=0.0000)], [Var(v=0.1800, grad=0.0000)], [Var(v=-0.0137, grad=0.9363)], [Var(v=-0.0021, grad=0.6724)], [Var(v=-0.0244, grad=-1.4267)], [Var(v=0.0070, grad=-7.5903)], [Var(v=0.1780, grad=0.0086)], [Var(v=-0.1029, grad=2.1055)], [Var(v=0.1159, grad=0.0000)], [Var(v=-0.0140, grad=0.0000)], [Var(v=-0.0543, grad=-3.6667)], [Var(v=-0.0558, grad=-8.4927)], [Var(v=-0.0337, grad=0.8321)], [Var(v=0.0401, grad=-2.9594)], [Var(v=-0.0475, grad=0.0000)], [Var(v=-0.1449, grad=0.5298)], [Var(v=0.0617, grad=0.0000)], [Var(v=-0.1626, grad=0.9758)], [Var(v=-0.0747, grad=0.0000)], [Var(v=-0.0066, grad=-2.2365)], [Var(v=-0.0102, grad=0.0000)], [Var(v=0.0078, grad=-5.1528)], [Var(v=-0.1052, grad=0.0000)], [Var(v=-0.1229, grad=0.0000)], [Var(v=-0.0229, grad=2.2802)], [Var(v=0.0097, grad=0.0000)], [Var(v=-0.0348, grad=0.2685)], [Var(v=0.0470, grad=0.0000)], [Var(v=-0.0217, grad=-0.7533)], [Var(v=-0.1064, grad=-2.2253)]]\n",
            "\tBiases: [Var(v=0.0000, grad=-1.7925)]\n",
            "\n",
            "Network after update:\n",
            "Layer 0 \n",
            " \n",
            "\tWeights: [[Var(v=0.0076, grad=2.2356), Var(v=-0.0859, grad=-0.9766), Var(v=-0.1791, grad=6.5243), Var(v=0.0980, grad=2.9064), Var(v=0.0273, grad=4.4192), Var(v=0.1402, grad=2.1441), Var(v=0.1820, grad=-5.6513), Var(v=0.1427, grad=3.4657), Var(v=0.1188, grad=1.4432), Var(v=0.0013, grad=-1.6834), Var(v=-0.0169, grad=-0.6943), Var(v=-0.0285, grad=2.0777), Var(v=-0.0618, grad=4.5482), Var(v=0.0990, grad=-0.8998), Var(v=-0.0163, grad=4.4145)]]\n",
            "\tBiases: [Var(v=-0.0192, grad=1.9199), Var(v=-0.0089, grad=0.8876), Var(v=0.0593, grad=-5.9294), Var(v=-0.0250, grad=2.4960), Var(v=-0.0380, grad=3.7952), Var(v=-0.0184, grad=1.8413), Var(v=0.0485, grad=-4.8533), Var(v=-0.0298, grad=2.9763), Var(v=-0.0124, grad=1.2394), Var(v=-0.0153, grad=1.5299), Var(v=-0.0063, grad=0.6310), Var(v=0.0189, grad=-1.8883), Var(v=0.0413, grad=-4.1335), Var(v=0.0077, grad=-0.7727), Var(v=-0.0379, grad=3.7912)]\n",
            "Layer 1 \n",
            " \n",
            "\tWeights: [[Var(v=0.1223, grad=-0.4463), Var(v=-0.1130, grad=0.0000), Var(v=0.0394, grad=0.0000), Var(v=0.0163, grad=0.0000), Var(v=0.1959, grad=0.0697), Var(v=-0.0026, grad=0.0995), Var(v=0.0989, grad=-0.2586), Var(v=0.0924, grad=-0.0037), Var(v=0.0905, grad=0.3673), Var(v=-0.1089, grad=-0.0752), Var(v=0.0455, grad=-0.4593), Var(v=0.2030, grad=0.0000), Var(v=0.0329, grad=-0.1835), Var(v=0.0136, grad=0.0000), Var(v=0.0250, grad=-0.1974), Var(v=-0.1115, grad=0.0000), Var(v=0.0955, grad=0.0000), Var(v=0.1006, grad=0.3491), Var(v=0.0640, grad=0.0000), Var(v=-0.0451, grad=0.0000), Var(v=-0.2795, grad=0.0000), Var(v=0.0288, grad=0.0000), Var(v=-0.0975, grad=0.0000), Var(v=-0.0047, grad=0.0066), Var(v=0.0511, grad=0.0752), Var(v=-0.0751, grad=-0.0215), Var(v=0.0083, grad=-0.5495), Var(v=0.0393, grad=0.3175), Var(v=-0.1844, grad=0.0000), Var(v=-0.0372, grad=0.0000), Var(v=0.0487, grad=0.1675), Var(v=-0.1155, grad=0.1722), Var(v=-0.0924, grad=0.0000), Var(v=-0.0839, grad=-0.1238), Var(v=0.0102, grad=0.0000), Var(v=0.1377, grad=0.4471), Var(v=-0.1010, grad=0.0000), Var(v=-0.0448, grad=0.5019), Var(v=-0.0538, grad=0.0000), Var(v=0.0108, grad=0.0203), Var(v=-0.0230, grad=0.0000), Var(v=0.0084, grad=-0.0242), Var(v=-0.0796, grad=0.0000), Var(v=0.0989, grad=0.0000), Var(v=0.0094, grad=0.0000), Var(v=-0.0257, grad=0.0000), Var(v=-0.0102, grad=0.0000), Var(v=-0.0824, grad=0.0000), Var(v=0.1543, grad=0.0668), Var(v=0.0285, grad=0.3284)], [Var(v=0.1492, grad=1.3181), Var(v=-0.0344, grad=0.3503), Var(v=0.0041, grad=0.0000), Var(v=0.1725, grad=0.1485), Var(v=0.0723, grad=-0.2058), Var(v=-0.0120, grad=-0.2940), Var(v=0.0163, grad=0.7639), Var(v=0.1259, grad=0.0109), Var(v=0.0656, grad=-1.0849), Var(v=0.0485, grad=0.2222), Var(v=-0.0843, grad=0.0000), Var(v=0.0550, grad=0.3407), Var(v=-0.1328, grad=0.0000), Var(v=-0.0261, grad=0.0000), Var(v=-0.0735, grad=0.0000), Var(v=-0.0833, grad=0.0000), Var(v=-0.1405, grad=0.0000), Var(v=-0.1509, grad=0.0000), Var(v=0.0339, grad=0.0000), Var(v=-0.0673, grad=0.0000), Var(v=-0.1713, grad=0.0000), Var(v=-0.0362, grad=0.0000), Var(v=-0.0012, grad=-0.1247), Var(v=0.1596, grad=-0.0196), Var(v=0.0285, grad=-0.2221), Var(v=-0.1589, grad=0.0000), Var(v=0.1087, grad=1.6229), Var(v=-0.0092, grad=-0.9377), Var(v=-0.1206, grad=0.0000), Var(v=0.0854, grad=0.0000), Var(v=0.0273, grad=0.0000), Var(v=0.0546, grad=-0.5085), Var(v=-0.0721, grad=-0.3074), Var(v=0.0168, grad=0.0000), Var(v=-0.1878, grad=0.0000), Var(v=0.1246, grad=-1.3207), Var(v=0.0697, grad=0.0000), Var(v=0.1023, grad=-1.4825), Var(v=0.0285, grad=0.0000), Var(v=0.1605, grad=-0.0599), Var(v=-0.1893, grad=0.0000), Var(v=0.0389, grad=0.0000), Var(v=-0.0695, grad=0.0000), Var(v=-0.0403, grad=0.0000), Var(v=0.1556, grad=-0.2087), Var(v=-0.1226, grad=0.0000), Var(v=0.0736, grad=-0.3168), Var(v=-0.1610, grad=0.0000), Var(v=0.1165, grad=-0.1974), Var(v=-0.0284, grad=-0.9700)], [Var(v=-0.0456, grad=1.5689), Var(v=0.0827, grad=0.4170), Var(v=0.0119, grad=0.0000), Var(v=0.0238, grad=0.1767), Var(v=0.0479, grad=-0.2450), Var(v=0.1411, grad=-0.3500), Var(v=0.0421, grad=0.9093), Var(v=-0.1285, grad=0.0130), Var(v=0.0532, grad=-1.2914), Var(v=0.0764, grad=0.2645), Var(v=0.0953, grad=0.0000), Var(v=0.0999, grad=0.4055), Var(v=0.0824, grad=0.0000), Var(v=-0.1652, grad=0.0000), Var(v=0.0330, grad=0.0000), Var(v=-0.0006, grad=0.0000), Var(v=-0.0753, grad=0.0000), Var(v=0.1324, grad=0.0000), Var(v=-0.0808, grad=0.0000), Var(v=-0.0255, grad=0.0000), Var(v=0.0398, grad=0.0000), Var(v=-0.0430, grad=0.0000), Var(v=0.0822, grad=-0.1484), Var(v=0.1553, grad=-0.0233), Var(v=0.0752, grad=-0.2643), Var(v=0.0301, grad=0.0000), Var(v=-0.0805, grad=1.9318), Var(v=0.1702, grad=-1.1162), Var(v=-0.1694, grad=0.0000), Var(v=-0.1283, grad=0.0000), Var(v=0.0150, grad=0.0000), Var(v=0.0113, grad=-0.6053), Var(v=0.1011, grad=-0.3659), Var(v=-0.1403, grad=0.0000), Var(v=0.0274, grad=0.0000), Var(v=0.1635, grad=-1.5720), Var(v=-0.0728, grad=0.0000), Var(v=0.0590, grad=-1.7647), Var(v=-0.1939, grad=0.0000), Var(v=-0.0544, grad=-0.0713), Var(v=-0.1317, grad=0.0000), Var(v=-0.1125, grad=0.0000), Var(v=0.0429, grad=0.0000), Var(v=0.0372, grad=0.0000), Var(v=0.0863, grad=-0.2484), Var(v=0.0319, grad=0.0000), Var(v=0.0088, grad=-0.3771), Var(v=-0.1262, grad=0.0000), Var(v=-0.0619, grad=-0.2350), Var(v=0.0594, grad=-1.1546)], [Var(v=0.2177, grad=-1.8903), Var(v=0.1245, grad=0.0000), Var(v=-0.0220, grad=0.0000), Var(v=-0.0349, grad=0.0000), Var(v=0.0283, grad=0.2952), Var(v=0.1758, grad=0.4217), Var(v=-0.0308, grad=-1.0955), Var(v=0.0615, grad=-0.0157), Var(v=-0.0160, grad=1.5560), Var(v=-0.0054, grad=-0.3187), Var(v=0.0567, grad=-1.9455), Var(v=-0.2374, grad=0.0000), Var(v=-0.2251, grad=-0.7772), Var(v=0.0174, grad=0.0000), Var(v=-0.0122, grad=-0.8363), Var(v=-0.2043, grad=0.0000), Var(v=-0.1461, grad=0.0000), Var(v=-0.0611, grad=1.4789), Var(v=-0.1418, grad=0.0000), Var(v=0.1180, grad=0.0000), Var(v=-0.0266, grad=0.0000), Var(v=0.0043, grad=0.0000), Var(v=0.0648, grad=0.0000), Var(v=0.1021, grad=0.0281), Var(v=0.0595, grad=0.3185), Var(v=0.0422, grad=-0.0909), Var(v=0.0042, grad=-2.3275), Var(v=0.1031, grad=1.3448), Var(v=-0.0654, grad=0.0000), Var(v=-0.0110, grad=0.0000), Var(v=-0.1239, grad=0.7095), Var(v=0.0398, grad=0.7293), Var(v=0.0667, grad=0.0000), Var(v=0.0688, grad=-0.5243), Var(v=-0.1341, grad=0.0000), Var(v=0.0554, grad=1.8940), Var(v=0.0870, grad=0.0000), Var(v=0.1076, grad=2.1262), Var(v=0.0557, grad=0.0000), Var(v=0.0464, grad=0.0859), Var(v=-0.0274, grad=0.0000), Var(v=0.1527, grad=-0.1026), Var(v=0.0534, grad=0.0000), Var(v=0.0158, grad=0.0000), Var(v=-0.1262, grad=0.0000), Var(v=-0.0037, grad=0.0000), Var(v=-0.0769, grad=0.0000), Var(v=-0.0809, grad=0.0000), Var(v=-0.0773, grad=0.2831), Var(v=0.0114, grad=1.3911)], [Var(v=-0.1090, grad=-1.0642), Var(v=-0.1283, grad=0.0000), Var(v=-0.0509, grad=0.0000), Var(v=-0.0655, grad=0.0000), Var(v=-0.0060, grad=0.1662), Var(v=-0.0506, grad=0.2374), Var(v=0.0897, grad=-0.6167), Var(v=0.0227, grad=-0.0088), Var(v=0.0299, grad=0.8760), Var(v=0.0258, grad=-0.1794), Var(v=0.1461, grad=-1.0953), Var(v=0.1558, grad=0.0000), Var(v=0.1004, grad=-0.4375), Var(v=-0.0581, grad=0.0000), Var(v=0.1567, grad=-0.4708), Var(v=0.1436, grad=0.0000), Var(v=0.0424, grad=0.0000), Var(v=0.0817, grad=0.8326), Var(v=-0.0665, grad=0.0000), Var(v=-0.0195, grad=0.0000), Var(v=0.1164, grad=0.0000), Var(v=-0.0573, grad=0.0000), Var(v=-0.0814, grad=0.0000), Var(v=-0.0442, grad=0.0158), Var(v=0.1535, grad=0.1793), Var(v=0.2410, grad=-0.0512), Var(v=0.0411, grad=-1.3103), Var(v=0.0511, grad=0.7571), Var(v=-0.0312, grad=0.0000), Var(v=-0.0324, grad=0.0000), Var(v=0.2333, grad=0.3995), Var(v=0.1263, grad=0.4106), Var(v=0.1011, grad=0.0000), Var(v=-0.1948, grad=-0.2951), Var(v=0.0274, grad=0.0000), Var(v=0.0501, grad=1.0663), Var(v=-0.0171, grad=0.0000), Var(v=0.0450, grad=1.1970), Var(v=-0.1904, grad=0.0000), Var(v=-0.1007, grad=0.0484), Var(v=-0.0430, grad=0.0000), Var(v=0.0803, grad=-0.0578), Var(v=-0.1143, grad=0.0000), Var(v=0.0349, grad=0.0000), Var(v=0.1035, grad=0.0000), Var(v=-0.0787, grad=0.0000), Var(v=0.0904, grad=0.0000), Var(v=0.1475, grad=0.0000), Var(v=0.0745, grad=0.1594), Var(v=0.0494, grad=0.7832)], [Var(v=0.0160, grad=-2.4051), Var(v=-0.2446, grad=0.0000), Var(v=0.0656, grad=0.0000), Var(v=-0.0752, grad=0.0000), Var(v=0.0872, grad=0.3756), Var(v=0.0430, grad=0.5365), Var(v=0.0822, grad=-1.3939), Var(v=-0.0920, grad=-0.0200), Var(v=0.1122, grad=1.9797), Var(v=0.0915, grad=-0.4055), Var(v=0.0388, grad=-2.4753), Var(v=-0.0052, grad=0.0000), Var(v=0.1524, grad=-0.9888), Var(v=-0.3063, grad=0.0000), Var(v=0.0289, grad=-1.0641), Var(v=-0.0500, grad=0.0000), Var(v=-0.1148, grad=0.0000), Var(v=0.0427, grad=1.8817), Var(v=0.1251, grad=0.0000), Var(v=-0.0081, grad=0.0000), Var(v=0.0871, grad=0.0000), Var(v=-0.0300, grad=0.0000), Var(v=-0.1274, grad=0.0000), Var(v=0.0811, grad=0.0358), Var(v=0.1399, grad=0.4052), Var(v=0.1401, grad=-0.1156), Var(v=0.1064, grad=-2.9613), Var(v=0.0732, grad=1.7111), Var(v=-0.1231, grad=0.0000), Var(v=0.1255, grad=0.0000), Var(v=0.1467, grad=0.9028), Var(v=0.0829, grad=0.9279), Var(v=-0.0792, grad=0.0000), Var(v=0.1173, grad=-0.6670), Var(v=-0.1090, grad=0.0000), Var(v=0.0746, grad=2.4098), Var(v=-0.0487, grad=0.0000), Var(v=-0.0869, grad=2.7052), Var(v=0.0535, grad=0.0000), Var(v=0.1182, grad=0.1093), Var(v=0.0528, grad=0.0000), Var(v=0.0912, grad=-0.1305), Var(v=0.0097, grad=0.0000), Var(v=0.1332, grad=0.0000), Var(v=-0.0707, grad=0.0000), Var(v=-0.0727, grad=0.0000), Var(v=0.0642, grad=0.0000), Var(v=-0.1774, grad=0.0000), Var(v=0.1116, grad=0.3602), Var(v=-0.0345, grad=1.7699)], [Var(v=0.1376, grad=-1.8668), Var(v=0.1326, grad=0.0000), Var(v=-0.0303, grad=0.0000), Var(v=0.0594, grad=0.0000), Var(v=-0.0191, grad=0.2915), Var(v=0.0418, grad=0.4164), Var(v=0.0270, grad=-1.0819), Var(v=-0.1265, grad=-0.0155), Var(v=-0.0958, grad=1.5366), Var(v=0.1397, grad=-0.3147), Var(v=-0.0999, grad=-1.9213), Var(v=0.1151, grad=0.0000), Var(v=0.0995, grad=-0.7675), Var(v=-0.0780, grad=0.0000), Var(v=0.0394, grad=-0.8259), Var(v=-0.1212, grad=0.0000), Var(v=-0.1174, grad=0.0000), Var(v=-0.0491, grad=1.4605), Var(v=-0.1462, grad=0.0000), Var(v=-0.0681, grad=0.0000), Var(v=-0.0831, grad=0.0000), Var(v=0.0638, grad=0.0000), Var(v=-0.2630, grad=0.0000), Var(v=0.0008, grad=0.0278), Var(v=-0.0139, grad=0.3145), Var(v=0.1857, grad=-0.0897), Var(v=-0.0150, grad=-2.2985), Var(v=-0.0263, grad=1.3281), Var(v=-0.0205, grad=0.0000), Var(v=-0.0334, grad=0.0000), Var(v=-0.1364, grad=0.7007), Var(v=0.1830, grad=0.7202), Var(v=-0.0814, grad=0.0000), Var(v=0.1339, grad=-0.5177), Var(v=-0.0295, grad=0.0000), Var(v=-0.0973, grad=1.8704), Var(v=0.1100, grad=0.0000), Var(v=-0.1770, grad=2.0997), Var(v=-0.1400, grad=0.0000), Var(v=0.1729, grad=0.0849), Var(v=-0.1210, grad=0.0000), Var(v=-0.0135, grad=-0.1013), Var(v=0.0401, grad=0.0000), Var(v=-0.1017, grad=0.0000), Var(v=-0.0875, grad=0.0000), Var(v=0.0859, grad=0.0000), Var(v=-0.0263, grad=0.0000), Var(v=-0.0043, grad=0.0000), Var(v=-0.1094, grad=0.2796), Var(v=0.0277, grad=1.3738)], [Var(v=-0.1147, grad=-2.6389), Var(v=-0.0793, grad=0.0000), Var(v=-0.0013, grad=0.0000), Var(v=0.0546, grad=0.0000), Var(v=0.0001, grad=0.4121), Var(v=0.2709, grad=0.5887), Var(v=0.0524, grad=-1.5293), Var(v=0.0084, grad=-0.0219), Var(v=-0.1124, grad=2.1721), Var(v=-0.1141, grad=-0.4449), Var(v=-0.0052, grad=-2.7159), Var(v=-0.3104, grad=0.0000), Var(v=-0.0008, grad=-1.0850), Var(v=-0.0684, grad=0.0000), Var(v=0.0574, grad=-1.1675), Var(v=0.0025, grad=0.0000), Var(v=0.0458, grad=0.0000), Var(v=0.0132, grad=2.0646), Var(v=0.0204, grad=0.0000), Var(v=-0.0629, grad=0.0000), Var(v=-0.0859, grad=0.0000), Var(v=-0.1314, grad=0.0000), Var(v=0.0199, grad=0.0000), Var(v=0.1080, grad=0.0392), Var(v=-0.0152, grad=0.4446), Var(v=-0.0602, grad=-0.1268), Var(v=0.0755, grad=-3.2491), Var(v=-0.0805, grad=1.8774), Var(v=-0.1820, grad=0.0000), Var(v=-0.1248, grad=0.0000), Var(v=0.1210, grad=0.9905), Var(v=0.1326, grad=1.0181), Var(v=0.0490, grad=0.0000), Var(v=0.0753, grad=-0.7319), Var(v=-0.0505, grad=0.0000), Var(v=-0.0385, grad=2.6440), Var(v=0.0002, grad=0.0000), Var(v=-0.0032, grad=2.9682), Var(v=0.0310, grad=0.0000), Var(v=0.1048, grad=0.1200), Var(v=-0.1621, grad=0.0000), Var(v=-0.0197, grad=-0.1432), Var(v=0.0107, grad=0.0000), Var(v=-0.1092, grad=0.0000), Var(v=-0.1079, grad=0.0000), Var(v=0.0479, grad=0.0000), Var(v=-0.0296, grad=0.0000), Var(v=0.2102, grad=0.0000), Var(v=-0.0958, grad=0.3952), Var(v=0.0621, grad=1.9420)], [Var(v=-0.0660, grad=-1.9825), Var(v=-0.1763, grad=0.0000), Var(v=-0.1354, grad=0.0000), Var(v=-0.0197, grad=0.0000), Var(v=-0.1244, grad=0.3096), Var(v=0.2671, grad=0.4422), Var(v=0.1227, grad=-1.1489), Var(v=0.0581, grad=-0.0165), Var(v=0.0462, grad=1.6318), Var(v=0.1199, grad=-0.3342), Var(v=0.1130, grad=-2.0403), Var(v=0.1173, grad=0.0000), Var(v=-0.0594, grad=-0.8151), Var(v=-0.1450, grad=0.0000), Var(v=0.1172, grad=-0.8771), Var(v=0.0906, grad=0.0000), Var(v=0.0159, grad=0.0000), Var(v=-0.0109, grad=1.5510), Var(v=-0.0442, grad=0.0000), Var(v=-0.2574, grad=0.0000), Var(v=-0.1134, grad=0.0000), Var(v=0.0115, grad=0.0000), Var(v=0.0785, grad=0.0000), Var(v=-0.0832, grad=0.0295), Var(v=0.0130, grad=0.3340), Var(v=0.1319, grad=-0.0953), Var(v=0.0117, grad=-2.4409), Var(v=-0.0734, grad=1.4104), Var(v=-0.0113, grad=0.0000), Var(v=-0.0450, grad=0.0000), Var(v=-0.0539, grad=0.7441), Var(v=-0.0250, grad=0.7648), Var(v=-0.0251, grad=0.0000), Var(v=-0.0646, grad=-0.5498), Var(v=0.1409, grad=0.0000), Var(v=0.0407, grad=1.9864), Var(v=-0.0235, grad=0.0000), Var(v=0.0399, grad=2.2298), Var(v=0.0370, grad=0.0000), Var(v=-0.1037, grad=0.0901), Var(v=-0.0769, grad=0.0000), Var(v=0.1080, grad=-0.1076), Var(v=-0.0656, grad=0.0000), Var(v=0.1030, grad=0.0000), Var(v=0.1136, grad=0.0000), Var(v=-0.1686, grad=0.0000), Var(v=0.0186, grad=0.0000), Var(v=-0.0908, grad=0.0000), Var(v=0.0408, grad=0.2969), Var(v=0.0180, grad=1.4589)], [Var(v=-0.0211, grad=0.2139), Var(v=-0.0354, grad=0.0569), Var(v=-0.1238, grad=0.0000), Var(v=0.1225, grad=0.0241), Var(v=0.1857, grad=-0.0334), Var(v=0.0721, grad=-0.0477), Var(v=0.0515, grad=0.1240), Var(v=0.0724, grad=0.0018), Var(v=-0.0918, grad=-0.1761), Var(v=-0.2706, grad=0.0361), Var(v=-0.1303, grad=0.0000), Var(v=-0.0154, grad=0.0553), Var(v=-0.0923, grad=0.0000), Var(v=0.1128, grad=0.0000), Var(v=0.0111, grad=0.0000), Var(v=0.1166, grad=0.0000), Var(v=-0.0038, grad=0.0000), Var(v=-0.0105, grad=0.0000), Var(v=-0.0580, grad=0.0000), Var(v=-0.0296, grad=0.0000), Var(v=-0.0296, grad=0.0000), Var(v=-0.0149, grad=0.0000), Var(v=0.0429, grad=-0.0202), Var(v=-0.0451, grad=-0.0032), Var(v=0.1192, grad=-0.0360), Var(v=-0.0011, grad=0.0000), Var(v=0.1185, grad=0.2634), Var(v=0.0723, grad=-0.1522), Var(v=-0.0698, grad=0.0000), Var(v=-0.0199, grad=0.0000), Var(v=-0.2270, grad=0.0000), Var(v=-0.0684, grad=-0.0825), Var(v=-0.0755, grad=-0.0499), Var(v=0.0813, grad=0.0000), Var(v=0.0832, grad=0.0000), Var(v=0.0227, grad=-0.2144), Var(v=-0.0642, grad=0.0000), Var(v=0.0081, grad=-0.2406), Var(v=0.1488, grad=0.0000), Var(v=0.1383, grad=-0.0097), Var(v=0.1150, grad=0.0000), Var(v=-0.0139, grad=0.0000), Var(v=-0.0788, grad=0.0000), Var(v=0.0527, grad=0.0000), Var(v=-0.0149, grad=-0.0339), Var(v=-0.0901, grad=0.0000), Var(v=-0.0570, grad=-0.0514), Var(v=-0.0328, grad=0.0000), Var(v=-0.0134, grad=-0.0320), Var(v=-0.0225, grad=-0.1574)], [Var(v=0.0461, grad=0.3289), Var(v=-0.1977, grad=0.0874), Var(v=-0.1564, grad=0.0000), Var(v=0.1597, grad=0.0370), Var(v=-0.0232, grad=-0.0514), Var(v=-0.0141, grad=-0.0734), Var(v=-0.0623, grad=0.1906), Var(v=0.0508, grad=0.0027), Var(v=-0.1110, grad=-0.2707), Var(v=-0.1578, grad=0.0554), Var(v=0.0070, grad=0.0000), Var(v=0.0135, grad=0.0850), Var(v=0.0736, grad=0.0000), Var(v=0.1733, grad=0.0000), Var(v=-0.1074, grad=0.0000), Var(v=-0.1168, grad=0.0000), Var(v=-0.0385, grad=0.0000), Var(v=0.0184, grad=0.0000), Var(v=0.1331, grad=0.0000), Var(v=0.1133, grad=0.0000), Var(v=-0.0983, grad=0.0000), Var(v=0.0151, grad=0.0000), Var(v=0.0303, grad=-0.0311), Var(v=0.1446, grad=-0.0049), Var(v=0.2486, grad=-0.0554), Var(v=-0.1605, grad=0.0000), Var(v=-0.0264, grad=0.4049), Var(v=0.1919, grad=-0.2340), Var(v=-0.0250, grad=0.0000), Var(v=0.0697, grad=0.0000), Var(v=0.0602, grad=0.0000), Var(v=-0.0761, grad=-0.1269), Var(v=0.1908, grad=-0.0767), Var(v=0.1726, grad=0.0000), Var(v=-0.1242, grad=0.0000), Var(v=-0.1687, grad=-0.3295), Var(v=-0.0091, grad=0.0000), Var(v=-0.0069, grad=-0.3699), Var(v=-0.1555, grad=0.0000), Var(v=0.1330, grad=-0.0150), Var(v=-0.0089, grad=0.0000), Var(v=0.1205, grad=0.0000), Var(v=0.1105, grad=0.0000), Var(v=-0.2761, grad=0.0000), Var(v=-0.0771, grad=-0.0521), Var(v=0.0463, grad=0.0000), Var(v=-0.1240, grad=-0.0790), Var(v=-0.1077, grad=0.0000), Var(v=-0.1251, grad=-0.0493), Var(v=0.0344, grad=-0.2420)], [Var(v=0.0079, grad=0.1069), Var(v=-0.0822, grad=0.0284), Var(v=0.0297, grad=0.0000), Var(v=-0.1161, grad=0.0120), Var(v=0.0922, grad=-0.0167), Var(v=0.2233, grad=-0.0238), Var(v=0.0246, grad=0.0619), Var(v=0.2895, grad=0.0009), Var(v=-0.0842, grad=-0.0880), Var(v=0.0030, grad=0.0180), Var(v=-0.1944, grad=0.0000), Var(v=0.1516, grad=0.0276), Var(v=-0.1135, grad=0.0000), Var(v=-0.0478, grad=0.0000), Var(v=0.0436, grad=0.0000), Var(v=-0.1395, grad=0.0000), Var(v=-0.1128, grad=0.0000), Var(v=-0.1410, grad=0.0000), Var(v=-0.0050, grad=0.0000), Var(v=-0.0814, grad=0.0000), Var(v=0.1005, grad=0.0000), Var(v=-0.0222, grad=0.0000), Var(v=-0.0573, grad=-0.0101), Var(v=0.0255, grad=-0.0016), Var(v=0.0139, grad=-0.0180), Var(v=0.0528, grad=0.0000), Var(v=0.0350, grad=0.1316), Var(v=0.0969, grad=-0.0760), Var(v=-0.0354, grad=0.0000), Var(v=0.0635, grad=0.0000), Var(v=-0.0838, grad=0.0000), Var(v=0.0129, grad=-0.0412), Var(v=-0.0378, grad=-0.0249), Var(v=-0.0212, grad=0.0000), Var(v=0.0783, grad=0.0000), Var(v=0.0429, grad=-0.1071), Var(v=0.0523, grad=0.0000), Var(v=0.0537, grad=-0.1202), Var(v=-0.0631, grad=0.0000), Var(v=-0.0642, grad=-0.0049), Var(v=-0.0598, grad=0.0000), Var(v=-0.2292, grad=0.0000), Var(v=-0.1007, grad=0.0000), Var(v=0.1465, grad=0.0000), Var(v=0.0451, grad=-0.0169), Var(v=0.1815, grad=0.0000), Var(v=-0.1230, grad=-0.0257), Var(v=0.0057, grad=0.0000), Var(v=0.1572, grad=-0.0160), Var(v=0.0984, grad=-0.0787)], [Var(v=-0.1308, grad=0.2248), Var(v=0.0264, grad=0.0597), Var(v=-0.1018, grad=0.0000), Var(v=-0.1314, grad=0.0253), Var(v=0.0433, grad=-0.0351), Var(v=0.0397, grad=-0.0501), Var(v=0.0425, grad=0.1303), Var(v=0.1702, grad=0.0019), Var(v=-0.0337, grad=-0.1850), Var(v=-0.0285, grad=0.0379), Var(v=-0.1517, grad=0.0000), Var(v=-0.1003, grad=0.0581), Var(v=-0.1217, grad=0.0000), Var(v=0.0928, grad=0.0000), Var(v=0.1564, grad=0.0000), Var(v=0.2182, grad=0.0000), Var(v=0.1640, grad=0.0000), Var(v=-0.1360, grad=0.0000), Var(v=-0.1444, grad=0.0000), Var(v=-0.0637, grad=0.0000), Var(v=0.0664, grad=0.0000), Var(v=0.0939, grad=0.0000), Var(v=-0.0032, grad=-0.0213), Var(v=0.0314, grad=-0.0033), Var(v=-0.0833, grad=-0.0379), Var(v=0.0171, grad=0.0000), Var(v=-0.1728, grad=0.2768), Var(v=0.0745, grad=-0.1599), Var(v=0.1441, grad=0.0000), Var(v=-0.1119, grad=0.0000), Var(v=-0.1356, grad=0.0000), Var(v=-0.0090, grad=-0.0867), Var(v=0.1088, grad=-0.0524), Var(v=0.0374, grad=0.0000), Var(v=-0.0541, grad=0.0000), Var(v=-0.0062, grad=-0.2252), Var(v=0.1092, grad=0.0000), Var(v=-0.1613, grad=-0.2528), Var(v=0.0691, grad=0.0000), Var(v=0.1458, grad=-0.0102), Var(v=-0.0336, grad=0.0000), Var(v=0.0524, grad=0.0000), Var(v=0.0142, grad=0.0000), Var(v=0.0009, grad=0.0000), Var(v=0.0884, grad=-0.0356), Var(v=0.1174, grad=0.0000), Var(v=0.0208, grad=-0.0540), Var(v=-0.0893, grad=0.0000), Var(v=0.0820, grad=-0.0337), Var(v=0.1245, grad=-0.1654)], [Var(v=0.1322, grad=-1.3389), Var(v=0.1252, grad=0.0000), Var(v=0.0118, grad=0.0000), Var(v=-0.0668, grad=0.0000), Var(v=-0.0225, grad=0.2091), Var(v=0.0261, grad=0.2987), Var(v=-0.0978, grad=-0.7760), Var(v=0.0724, grad=-0.0111), Var(v=0.0691, grad=1.1021), Var(v=-0.0105, grad=-0.2257), Var(v=0.0376, grad=-1.3780), Var(v=-0.1572, grad=0.0000), Var(v=-0.0010, grad=-0.5505), Var(v=0.0538, grad=0.0000), Var(v=-0.0840, grad=-0.5924), Var(v=0.0321, grad=0.0000), Var(v=-0.0889, grad=0.0000), Var(v=0.0189, grad=1.0475), Var(v=-0.0304, grad=0.0000), Var(v=0.1202, grad=0.0000), Var(v=0.0029, grad=0.0000), Var(v=-0.0497, grad=0.0000), Var(v=0.0260, grad=0.0000), Var(v=-0.0383, grad=0.0199), Var(v=-0.1940, grad=0.2256), Var(v=0.0526, grad=-0.0644), Var(v=-0.1150, grad=-1.6485), Var(v=-0.1128, grad=0.9526), Var(v=-0.0659, grad=0.0000), Var(v=0.0623, grad=0.0000), Var(v=0.0773, grad=0.5026), Var(v=0.0602, grad=0.5165), Var(v=0.0118, grad=0.0000), Var(v=0.0051, grad=-0.3713), Var(v=-0.2262, grad=0.0000), Var(v=-0.1996, grad=1.3415), Var(v=-0.1205, grad=0.0000), Var(v=-0.0100, grad=1.5060), Var(v=0.0399, grad=0.0000), Var(v=-0.1099, grad=0.0609), Var(v=0.1411, grad=0.0000), Var(v=0.0167, grad=-0.0727), Var(v=-0.0168, grad=0.0000), Var(v=-0.1662, grad=0.0000), Var(v=0.1441, grad=0.0000), Var(v=-0.0295, grad=0.0000), Var(v=-0.0516, grad=0.0000), Var(v=-0.2047, grad=0.0000), Var(v=0.1323, grad=0.2005), Var(v=-0.0870, grad=0.9853)], [Var(v=-0.1647, grad=-0.4150), Var(v=0.1958, grad=0.0000), Var(v=0.1246, grad=0.0000), Var(v=0.1309, grad=0.0000), Var(v=-0.0007, grad=0.0648), Var(v=-0.0247, grad=0.0926), Var(v=0.1426, grad=-0.2405), Var(v=0.1280, grad=-0.0034), Var(v=-0.0390, grad=0.3416), Var(v=-0.0981, grad=-0.0700), Var(v=-0.0129, grad=-0.4271), Var(v=0.0432, grad=0.0000), Var(v=0.0158, grad=-0.1706), Var(v=-0.2013, grad=0.0000), Var(v=-0.0447, grad=-0.1836), Var(v=-0.0960, grad=0.0000), Var(v=0.1152, grad=0.0000), Var(v=0.2230, grad=0.3247), Var(v=0.0659, grad=0.0000), Var(v=0.1882, grad=0.0000), Var(v=0.0803, grad=0.0000), Var(v=-0.1394, grad=0.0000), Var(v=-0.0604, grad=0.0000), Var(v=-0.0221, grad=0.0062), Var(v=0.1546, grad=0.0699), Var(v=-0.1174, grad=-0.0199), Var(v=0.0787, grad=-0.5110), Var(v=-0.1264, grad=0.2953), Var(v=-0.0957, grad=0.0000), Var(v=-0.0542, grad=0.0000), Var(v=-0.0517, grad=0.1558), Var(v=0.1833, grad=0.1601), Var(v=-0.0326, grad=0.0000), Var(v=0.0187, grad=-0.1151), Var(v=-0.0841, grad=0.0000), Var(v=0.1258, grad=0.4158), Var(v=0.0085, grad=0.0000), Var(v=-0.1143, grad=0.4668), Var(v=-0.0632, grad=0.0000), Var(v=0.0445, grad=0.0189), Var(v=0.1696, grad=0.0000), Var(v=0.0082, grad=-0.0225), Var(v=-0.0156, grad=0.0000), Var(v=-0.0131, grad=0.0000), Var(v=0.2068, grad=0.0000), Var(v=0.0546, grad=0.0000), Var(v=0.1052, grad=0.0000), Var(v=-0.0161, grad=0.0000), Var(v=0.0919, grad=0.0622), Var(v=0.1268, grad=0.3054)]]\n",
            "\tBiases: [Var(v=0.0026, grad=-0.2592), Var(v=-0.0333, grad=3.3279), Var(v=0.0000, grad=0.0000), Var(v=-0.0141, grad=1.4105), Var(v=-0.0004, grad=0.0405), Var(v=-0.0006, grad=0.0578), Var(v=0.0015, grad=-0.1502), Var(v=0.0000, grad=-0.0022), Var(v=-0.0021, grad=0.2133), Var(v=0.0004, grad=-0.0437), Var(v=0.1315, grad=-13.1529), Var(v=-0.0324, grad=3.2361), Var(v=0.0525, grad=-5.2544), Var(v=0.0000, grad=0.0000), Var(v=0.0565, grad=-5.6541), Var(v=0.0000, grad=0.0000), Var(v=0.0000, grad=0.0000), Var(v=-0.1000, grad=9.9985), Var(v=0.0000, grad=0.0000), Var(v=0.0000, grad=0.0000), Var(v=0.0000, grad=0.0000), Var(v=0.0000, grad=0.0000), Var(v=0.0118, grad=-1.1842), Var(v=-0.0000, grad=0.0039), Var(v=-0.0004, grad=0.0437), Var(v=0.0061, grad=-0.6143), Var(v=0.0032, grad=-0.3191), Var(v=-0.0018, grad=0.1844), Var(v=0.0000, grad=0.0000), Var(v=0.0000, grad=0.0000), Var(v=-0.0480, grad=4.7970), Var(v=-0.0010, grad=0.1000), Var(v=0.0292, grad=-2.9198), Var(v=0.0354, grad=-3.5444), Var(v=0.0000, grad=0.0000), Var(v=-0.0026, grad=0.2597), Var(v=0.0000, grad=0.0000), Var(v=-0.0029, grad=0.2915), Var(v=0.0000, grad=0.0000), Var(v=-0.0001, grad=0.0118), Var(v=0.0000, grad=0.0000), Var(v=0.0069, grad=-0.6936), Var(v=0.0000, grad=0.0000), Var(v=0.0000, grad=0.0000), Var(v=0.0198, grad=-1.9822), Var(v=0.0000, grad=0.0000), Var(v=0.0301, grad=-3.0092), Var(v=0.0000, grad=0.0000), Var(v=-0.0004, grad=0.0388), Var(v=-0.0019, grad=0.1907)]\n",
            "Layer 2 \n",
            " \n",
            "\tWeights: [[Var(v=0.1376, grad=0.7005)], [Var(v=0.0370, grad=0.1436)], [Var(v=-0.1290, grad=0.0000)], [Var(v=-0.0049, grad=2.1193)], [Var(v=-0.0323, grad=0.9766)], [Var(v=0.0749, grad=-10.7123)], [Var(v=0.1092, grad=-2.5350)], [Var(v=-0.0027, grad=0.3920)], [Var(v=-0.1075, grad=-1.1473)], [Var(v=0.0389, grad=-1.4535)], [Var(v=0.1604, grad=-1.1542)], [Var(v=0.0211, grad=1.6285)], [Var(v=0.0610, grad=-0.1564)], [Var(v=0.1149, grad=0.0000)], [Var(v=0.0938, grad=-2.9802)], [Var(v=-0.1262, grad=0.0000)], [Var(v=0.1048, grad=0.0000)], [Var(v=-0.0875, grad=-2.5586)], [Var(v=0.0274, grad=0.0000)], [Var(v=-0.0809, grad=0.0000)], [Var(v=0.0449, grad=0.0000)], [Var(v=0.1800, grad=0.0000)], [Var(v=-0.0230, grad=0.9363)], [Var(v=-0.0089, grad=0.6724)], [Var(v=-0.0101, grad=-1.4267)], [Var(v=0.0829, grad=-7.5903)], [Var(v=0.1780, grad=0.0086)], [Var(v=-0.1239, grad=2.1055)], [Var(v=0.1159, grad=0.0000)], [Var(v=-0.0140, grad=0.0000)], [Var(v=-0.0176, grad=-3.6667)], [Var(v=0.0291, grad=-8.4927)], [Var(v=-0.0420, grad=0.8321)], [Var(v=0.0697, grad=-2.9594)], [Var(v=-0.0475, grad=0.0000)], [Var(v=-0.1502, grad=0.5298)], [Var(v=0.0617, grad=0.0000)], [Var(v=-0.1724, grad=0.9758)], [Var(v=-0.0747, grad=0.0000)], [Var(v=0.0158, grad=-2.2365)], [Var(v=-0.0102, grad=0.0000)], [Var(v=0.0594, grad=-5.1528)], [Var(v=-0.1052, grad=0.0000)], [Var(v=-0.1229, grad=0.0000)], [Var(v=-0.0457, grad=2.2802)], [Var(v=0.0097, grad=0.0000)], [Var(v=-0.0374, grad=0.2685)], [Var(v=0.0470, grad=0.0000)], [Var(v=-0.0141, grad=-0.7533)], [Var(v=-0.0842, grad=-2.2253)]]\n",
            "\tBiases: [Var(v=0.0179, grad=-1.7925)]\n",
            "\n",
            "Network after zeroing gradients:\n",
            "Layer 0 \n",
            " \n",
            "\tWeights: [[Var(v=0.0076, grad=0.0000), Var(v=-0.0859, grad=0.0000), Var(v=-0.1791, grad=0.0000), Var(v=0.0980, grad=0.0000), Var(v=0.0273, grad=0.0000), Var(v=0.1402, grad=0.0000), Var(v=0.1820, grad=0.0000), Var(v=0.1427, grad=0.0000), Var(v=0.1188, grad=0.0000), Var(v=0.0013, grad=0.0000), Var(v=-0.0169, grad=0.0000), Var(v=-0.0285, grad=0.0000), Var(v=-0.0618, grad=0.0000), Var(v=0.0990, grad=0.0000), Var(v=-0.0163, grad=0.0000)]]\n",
            "\tBiases: [Var(v=-0.0192, grad=0.0000), Var(v=-0.0089, grad=0.0000), Var(v=0.0593, grad=0.0000), Var(v=-0.0250, grad=0.0000), Var(v=-0.0380, grad=0.0000), Var(v=-0.0184, grad=0.0000), Var(v=0.0485, grad=0.0000), Var(v=-0.0298, grad=0.0000), Var(v=-0.0124, grad=0.0000), Var(v=-0.0153, grad=0.0000), Var(v=-0.0063, grad=0.0000), Var(v=0.0189, grad=0.0000), Var(v=0.0413, grad=0.0000), Var(v=0.0077, grad=0.0000), Var(v=-0.0379, grad=0.0000)]\n",
            "Layer 1 \n",
            " \n",
            "\tWeights: [[Var(v=0.1223, grad=0.0000), Var(v=-0.1130, grad=0.0000), Var(v=0.0394, grad=0.0000), Var(v=0.0163, grad=0.0000), Var(v=0.1959, grad=0.0000), Var(v=-0.0026, grad=0.0000), Var(v=0.0989, grad=0.0000), Var(v=0.0924, grad=0.0000), Var(v=0.0905, grad=0.0000), Var(v=-0.1089, grad=0.0000), Var(v=0.0455, grad=0.0000), Var(v=0.2030, grad=0.0000), Var(v=0.0329, grad=0.0000), Var(v=0.0136, grad=0.0000), Var(v=0.0250, grad=0.0000), Var(v=-0.1115, grad=0.0000), Var(v=0.0955, grad=0.0000), Var(v=0.1006, grad=0.0000), Var(v=0.0640, grad=0.0000), Var(v=-0.0451, grad=0.0000), Var(v=-0.2795, grad=0.0000), Var(v=0.0288, grad=0.0000), Var(v=-0.0975, grad=0.0000), Var(v=-0.0047, grad=0.0000), Var(v=0.0511, grad=0.0000), Var(v=-0.0751, grad=0.0000), Var(v=0.0083, grad=0.0000), Var(v=0.0393, grad=0.0000), Var(v=-0.1844, grad=0.0000), Var(v=-0.0372, grad=0.0000), Var(v=0.0487, grad=0.0000), Var(v=-0.1155, grad=0.0000), Var(v=-0.0924, grad=0.0000), Var(v=-0.0839, grad=0.0000), Var(v=0.0102, grad=0.0000), Var(v=0.1377, grad=0.0000), Var(v=-0.1010, grad=0.0000), Var(v=-0.0448, grad=0.0000), Var(v=-0.0538, grad=0.0000), Var(v=0.0108, grad=0.0000), Var(v=-0.0230, grad=0.0000), Var(v=0.0084, grad=0.0000), Var(v=-0.0796, grad=0.0000), Var(v=0.0989, grad=0.0000), Var(v=0.0094, grad=0.0000), Var(v=-0.0257, grad=0.0000), Var(v=-0.0102, grad=0.0000), Var(v=-0.0824, grad=0.0000), Var(v=0.1543, grad=0.0000), Var(v=0.0285, grad=0.0000)], [Var(v=0.1492, grad=0.0000), Var(v=-0.0344, grad=0.0000), Var(v=0.0041, grad=0.0000), Var(v=0.1725, grad=0.0000), Var(v=0.0723, grad=0.0000), Var(v=-0.0120, grad=0.0000), Var(v=0.0163, grad=0.0000), Var(v=0.1259, grad=0.0000), Var(v=0.0656, grad=0.0000), Var(v=0.0485, grad=0.0000), Var(v=-0.0843, grad=0.0000), Var(v=0.0550, grad=0.0000), Var(v=-0.1328, grad=0.0000), Var(v=-0.0261, grad=0.0000), Var(v=-0.0735, grad=0.0000), Var(v=-0.0833, grad=0.0000), Var(v=-0.1405, grad=0.0000), Var(v=-0.1509, grad=0.0000), Var(v=0.0339, grad=0.0000), Var(v=-0.0673, grad=0.0000), Var(v=-0.1713, grad=0.0000), Var(v=-0.0362, grad=0.0000), Var(v=-0.0012, grad=0.0000), Var(v=0.1596, grad=0.0000), Var(v=0.0285, grad=0.0000), Var(v=-0.1589, grad=0.0000), Var(v=0.1087, grad=0.0000), Var(v=-0.0092, grad=0.0000), Var(v=-0.1206, grad=0.0000), Var(v=0.0854, grad=0.0000), Var(v=0.0273, grad=0.0000), Var(v=0.0546, grad=0.0000), Var(v=-0.0721, grad=0.0000), Var(v=0.0168, grad=0.0000), Var(v=-0.1878, grad=0.0000), Var(v=0.1246, grad=0.0000), Var(v=0.0697, grad=0.0000), Var(v=0.1023, grad=0.0000), Var(v=0.0285, grad=0.0000), Var(v=0.1605, grad=0.0000), Var(v=-0.1893, grad=0.0000), Var(v=0.0389, grad=0.0000), Var(v=-0.0695, grad=0.0000), Var(v=-0.0403, grad=0.0000), Var(v=0.1556, grad=0.0000), Var(v=-0.1226, grad=0.0000), Var(v=0.0736, grad=0.0000), Var(v=-0.1610, grad=0.0000), Var(v=0.1165, grad=0.0000), Var(v=-0.0284, grad=0.0000)], [Var(v=-0.0456, grad=0.0000), Var(v=0.0827, grad=0.0000), Var(v=0.0119, grad=0.0000), Var(v=0.0238, grad=0.0000), Var(v=0.0479, grad=0.0000), Var(v=0.1411, grad=0.0000), Var(v=0.0421, grad=0.0000), Var(v=-0.1285, grad=0.0000), Var(v=0.0532, grad=0.0000), Var(v=0.0764, grad=0.0000), Var(v=0.0953, grad=0.0000), Var(v=0.0999, grad=0.0000), Var(v=0.0824, grad=0.0000), Var(v=-0.1652, grad=0.0000), Var(v=0.0330, grad=0.0000), Var(v=-0.0006, grad=0.0000), Var(v=-0.0753, grad=0.0000), Var(v=0.1324, grad=0.0000), Var(v=-0.0808, grad=0.0000), Var(v=-0.0255, grad=0.0000), Var(v=0.0398, grad=0.0000), Var(v=-0.0430, grad=0.0000), Var(v=0.0822, grad=0.0000), Var(v=0.1553, grad=0.0000), Var(v=0.0752, grad=0.0000), Var(v=0.0301, grad=0.0000), Var(v=-0.0805, grad=0.0000), Var(v=0.1702, grad=0.0000), Var(v=-0.1694, grad=0.0000), Var(v=-0.1283, grad=0.0000), Var(v=0.0150, grad=0.0000), Var(v=0.0113, grad=0.0000), Var(v=0.1011, grad=0.0000), Var(v=-0.1403, grad=0.0000), Var(v=0.0274, grad=0.0000), Var(v=0.1635, grad=0.0000), Var(v=-0.0728, grad=0.0000), Var(v=0.0590, grad=0.0000), Var(v=-0.1939, grad=0.0000), Var(v=-0.0544, grad=0.0000), Var(v=-0.1317, grad=0.0000), Var(v=-0.1125, grad=0.0000), Var(v=0.0429, grad=0.0000), Var(v=0.0372, grad=0.0000), Var(v=0.0863, grad=0.0000), Var(v=0.0319, grad=0.0000), Var(v=0.0088, grad=0.0000), Var(v=-0.1262, grad=0.0000), Var(v=-0.0619, grad=0.0000), Var(v=0.0594, grad=0.0000)], [Var(v=0.2177, grad=0.0000), Var(v=0.1245, grad=0.0000), Var(v=-0.0220, grad=0.0000), Var(v=-0.0349, grad=0.0000), Var(v=0.0283, grad=0.0000), Var(v=0.1758, grad=0.0000), Var(v=-0.0308, grad=0.0000), Var(v=0.0615, grad=0.0000), Var(v=-0.0160, grad=0.0000), Var(v=-0.0054, grad=0.0000), Var(v=0.0567, grad=0.0000), Var(v=-0.2374, grad=0.0000), Var(v=-0.2251, grad=0.0000), Var(v=0.0174, grad=0.0000), Var(v=-0.0122, grad=0.0000), Var(v=-0.2043, grad=0.0000), Var(v=-0.1461, grad=0.0000), Var(v=-0.0611, grad=0.0000), Var(v=-0.1418, grad=0.0000), Var(v=0.1180, grad=0.0000), Var(v=-0.0266, grad=0.0000), Var(v=0.0043, grad=0.0000), Var(v=0.0648, grad=0.0000), Var(v=0.1021, grad=0.0000), Var(v=0.0595, grad=0.0000), Var(v=0.0422, grad=0.0000), Var(v=0.0042, grad=0.0000), Var(v=0.1031, grad=0.0000), Var(v=-0.0654, grad=0.0000), Var(v=-0.0110, grad=0.0000), Var(v=-0.1239, grad=0.0000), Var(v=0.0398, grad=0.0000), Var(v=0.0667, grad=0.0000), Var(v=0.0688, grad=0.0000), Var(v=-0.1341, grad=0.0000), Var(v=0.0554, grad=0.0000), Var(v=0.0870, grad=0.0000), Var(v=0.1076, grad=0.0000), Var(v=0.0557, grad=0.0000), Var(v=0.0464, grad=0.0000), Var(v=-0.0274, grad=0.0000), Var(v=0.1527, grad=0.0000), Var(v=0.0534, grad=0.0000), Var(v=0.0158, grad=0.0000), Var(v=-0.1262, grad=0.0000), Var(v=-0.0037, grad=0.0000), Var(v=-0.0769, grad=0.0000), Var(v=-0.0809, grad=0.0000), Var(v=-0.0773, grad=0.0000), Var(v=0.0114, grad=0.0000)], [Var(v=-0.1090, grad=0.0000), Var(v=-0.1283, grad=0.0000), Var(v=-0.0509, grad=0.0000), Var(v=-0.0655, grad=0.0000), Var(v=-0.0060, grad=0.0000), Var(v=-0.0506, grad=0.0000), Var(v=0.0897, grad=0.0000), Var(v=0.0227, grad=0.0000), Var(v=0.0299, grad=0.0000), Var(v=0.0258, grad=0.0000), Var(v=0.1461, grad=0.0000), Var(v=0.1558, grad=0.0000), Var(v=0.1004, grad=0.0000), Var(v=-0.0581, grad=0.0000), Var(v=0.1567, grad=0.0000), Var(v=0.1436, grad=0.0000), Var(v=0.0424, grad=0.0000), Var(v=0.0817, grad=0.0000), Var(v=-0.0665, grad=0.0000), Var(v=-0.0195, grad=0.0000), Var(v=0.1164, grad=0.0000), Var(v=-0.0573, grad=0.0000), Var(v=-0.0814, grad=0.0000), Var(v=-0.0442, grad=0.0000), Var(v=0.1535, grad=0.0000), Var(v=0.2410, grad=0.0000), Var(v=0.0411, grad=0.0000), Var(v=0.0511, grad=0.0000), Var(v=-0.0312, grad=0.0000), Var(v=-0.0324, grad=0.0000), Var(v=0.2333, grad=0.0000), Var(v=0.1263, grad=0.0000), Var(v=0.1011, grad=0.0000), Var(v=-0.1948, grad=0.0000), Var(v=0.0274, grad=0.0000), Var(v=0.0501, grad=0.0000), Var(v=-0.0171, grad=0.0000), Var(v=0.0450, grad=0.0000), Var(v=-0.1904, grad=0.0000), Var(v=-0.1007, grad=0.0000), Var(v=-0.0430, grad=0.0000), Var(v=0.0803, grad=0.0000), Var(v=-0.1143, grad=0.0000), Var(v=0.0349, grad=0.0000), Var(v=0.1035, grad=0.0000), Var(v=-0.0787, grad=0.0000), Var(v=0.0904, grad=0.0000), Var(v=0.1475, grad=0.0000), Var(v=0.0745, grad=0.0000), Var(v=0.0494, grad=0.0000)], [Var(v=0.0160, grad=0.0000), Var(v=-0.2446, grad=0.0000), Var(v=0.0656, grad=0.0000), Var(v=-0.0752, grad=0.0000), Var(v=0.0872, grad=0.0000), Var(v=0.0430, grad=0.0000), Var(v=0.0822, grad=0.0000), Var(v=-0.0920, grad=0.0000), Var(v=0.1122, grad=0.0000), Var(v=0.0915, grad=0.0000), Var(v=0.0388, grad=0.0000), Var(v=-0.0052, grad=0.0000), Var(v=0.1524, grad=0.0000), Var(v=-0.3063, grad=0.0000), Var(v=0.0289, grad=0.0000), Var(v=-0.0500, grad=0.0000), Var(v=-0.1148, grad=0.0000), Var(v=0.0427, grad=0.0000), Var(v=0.1251, grad=0.0000), Var(v=-0.0081, grad=0.0000), Var(v=0.0871, grad=0.0000), Var(v=-0.0300, grad=0.0000), Var(v=-0.1274, grad=0.0000), Var(v=0.0811, grad=0.0000), Var(v=0.1399, grad=0.0000), Var(v=0.1401, grad=0.0000), Var(v=0.1064, grad=0.0000), Var(v=0.0732, grad=0.0000), Var(v=-0.1231, grad=0.0000), Var(v=0.1255, grad=0.0000), Var(v=0.1467, grad=0.0000), Var(v=0.0829, grad=0.0000), Var(v=-0.0792, grad=0.0000), Var(v=0.1173, grad=0.0000), Var(v=-0.1090, grad=0.0000), Var(v=0.0746, grad=0.0000), Var(v=-0.0487, grad=0.0000), Var(v=-0.0869, grad=0.0000), Var(v=0.0535, grad=0.0000), Var(v=0.1182, grad=0.0000), Var(v=0.0528, grad=0.0000), Var(v=0.0912, grad=0.0000), Var(v=0.0097, grad=0.0000), Var(v=0.1332, grad=0.0000), Var(v=-0.0707, grad=0.0000), Var(v=-0.0727, grad=0.0000), Var(v=0.0642, grad=0.0000), Var(v=-0.1774, grad=0.0000), Var(v=0.1116, grad=0.0000), Var(v=-0.0345, grad=0.0000)], [Var(v=0.1376, grad=0.0000), Var(v=0.1326, grad=0.0000), Var(v=-0.0303, grad=0.0000), Var(v=0.0594, grad=0.0000), Var(v=-0.0191, grad=0.0000), Var(v=0.0418, grad=0.0000), Var(v=0.0270, grad=0.0000), Var(v=-0.1265, grad=0.0000), Var(v=-0.0958, grad=0.0000), Var(v=0.1397, grad=0.0000), Var(v=-0.0999, grad=0.0000), Var(v=0.1151, grad=0.0000), Var(v=0.0995, grad=0.0000), Var(v=-0.0780, grad=0.0000), Var(v=0.0394, grad=0.0000), Var(v=-0.1212, grad=0.0000), Var(v=-0.1174, grad=0.0000), Var(v=-0.0491, grad=0.0000), Var(v=-0.1462, grad=0.0000), Var(v=-0.0681, grad=0.0000), Var(v=-0.0831, grad=0.0000), Var(v=0.0638, grad=0.0000), Var(v=-0.2630, grad=0.0000), Var(v=0.0008, grad=0.0000), Var(v=-0.0139, grad=0.0000), Var(v=0.1857, grad=0.0000), Var(v=-0.0150, grad=0.0000), Var(v=-0.0263, grad=0.0000), Var(v=-0.0205, grad=0.0000), Var(v=-0.0334, grad=0.0000), Var(v=-0.1364, grad=0.0000), Var(v=0.1830, grad=0.0000), Var(v=-0.0814, grad=0.0000), Var(v=0.1339, grad=0.0000), Var(v=-0.0295, grad=0.0000), Var(v=-0.0973, grad=0.0000), Var(v=0.1100, grad=0.0000), Var(v=-0.1770, grad=0.0000), Var(v=-0.1400, grad=0.0000), Var(v=0.1729, grad=0.0000), Var(v=-0.1210, grad=0.0000), Var(v=-0.0135, grad=0.0000), Var(v=0.0401, grad=0.0000), Var(v=-0.1017, grad=0.0000), Var(v=-0.0875, grad=0.0000), Var(v=0.0859, grad=0.0000), Var(v=-0.0263, grad=0.0000), Var(v=-0.0043, grad=0.0000), Var(v=-0.1094, grad=0.0000), Var(v=0.0277, grad=0.0000)], [Var(v=-0.1147, grad=0.0000), Var(v=-0.0793, grad=0.0000), Var(v=-0.0013, grad=0.0000), Var(v=0.0546, grad=0.0000), Var(v=0.0001, grad=0.0000), Var(v=0.2709, grad=0.0000), Var(v=0.0524, grad=0.0000), Var(v=0.0084, grad=0.0000), Var(v=-0.1124, grad=0.0000), Var(v=-0.1141, grad=0.0000), Var(v=-0.0052, grad=0.0000), Var(v=-0.3104, grad=0.0000), Var(v=-0.0008, grad=0.0000), Var(v=-0.0684, grad=0.0000), Var(v=0.0574, grad=0.0000), Var(v=0.0025, grad=0.0000), Var(v=0.0458, grad=0.0000), Var(v=0.0132, grad=0.0000), Var(v=0.0204, grad=0.0000), Var(v=-0.0629, grad=0.0000), Var(v=-0.0859, grad=0.0000), Var(v=-0.1314, grad=0.0000), Var(v=0.0199, grad=0.0000), Var(v=0.1080, grad=0.0000), Var(v=-0.0152, grad=0.0000), Var(v=-0.0602, grad=0.0000), Var(v=0.0755, grad=0.0000), Var(v=-0.0805, grad=0.0000), Var(v=-0.1820, grad=0.0000), Var(v=-0.1248, grad=0.0000), Var(v=0.1210, grad=0.0000), Var(v=0.1326, grad=0.0000), Var(v=0.0490, grad=0.0000), Var(v=0.0753, grad=0.0000), Var(v=-0.0505, grad=0.0000), Var(v=-0.0385, grad=0.0000), Var(v=0.0002, grad=0.0000), Var(v=-0.0032, grad=0.0000), Var(v=0.0310, grad=0.0000), Var(v=0.1048, grad=0.0000), Var(v=-0.1621, grad=0.0000), Var(v=-0.0197, grad=0.0000), Var(v=0.0107, grad=0.0000), Var(v=-0.1092, grad=0.0000), Var(v=-0.1079, grad=0.0000), Var(v=0.0479, grad=0.0000), Var(v=-0.0296, grad=0.0000), Var(v=0.2102, grad=0.0000), Var(v=-0.0958, grad=0.0000), Var(v=0.0621, grad=0.0000)], [Var(v=-0.0660, grad=0.0000), Var(v=-0.1763, grad=0.0000), Var(v=-0.1354, grad=0.0000), Var(v=-0.0197, grad=0.0000), Var(v=-0.1244, grad=0.0000), Var(v=0.2671, grad=0.0000), Var(v=0.1227, grad=0.0000), Var(v=0.0581, grad=0.0000), Var(v=0.0462, grad=0.0000), Var(v=0.1199, grad=0.0000), Var(v=0.1130, grad=0.0000), Var(v=0.1173, grad=0.0000), Var(v=-0.0594, grad=0.0000), Var(v=-0.1450, grad=0.0000), Var(v=0.1172, grad=0.0000), Var(v=0.0906, grad=0.0000), Var(v=0.0159, grad=0.0000), Var(v=-0.0109, grad=0.0000), Var(v=-0.0442, grad=0.0000), Var(v=-0.2574, grad=0.0000), Var(v=-0.1134, grad=0.0000), Var(v=0.0115, grad=0.0000), Var(v=0.0785, grad=0.0000), Var(v=-0.0832, grad=0.0000), Var(v=0.0130, grad=0.0000), Var(v=0.1319, grad=0.0000), Var(v=0.0117, grad=0.0000), Var(v=-0.0734, grad=0.0000), Var(v=-0.0113, grad=0.0000), Var(v=-0.0450, grad=0.0000), Var(v=-0.0539, grad=0.0000), Var(v=-0.0250, grad=0.0000), Var(v=-0.0251, grad=0.0000), Var(v=-0.0646, grad=0.0000), Var(v=0.1409, grad=0.0000), Var(v=0.0407, grad=0.0000), Var(v=-0.0235, grad=0.0000), Var(v=0.0399, grad=0.0000), Var(v=0.0370, grad=0.0000), Var(v=-0.1037, grad=0.0000), Var(v=-0.0769, grad=0.0000), Var(v=0.1080, grad=0.0000), Var(v=-0.0656, grad=0.0000), Var(v=0.1030, grad=0.0000), Var(v=0.1136, grad=0.0000), Var(v=-0.1686, grad=0.0000), Var(v=0.0186, grad=0.0000), Var(v=-0.0908, grad=0.0000), Var(v=0.0408, grad=0.0000), Var(v=0.0180, grad=0.0000)], [Var(v=-0.0211, grad=0.0000), Var(v=-0.0354, grad=0.0000), Var(v=-0.1238, grad=0.0000), Var(v=0.1225, grad=0.0000), Var(v=0.1857, grad=0.0000), Var(v=0.0721, grad=0.0000), Var(v=0.0515, grad=0.0000), Var(v=0.0724, grad=0.0000), Var(v=-0.0918, grad=0.0000), Var(v=-0.2706, grad=0.0000), Var(v=-0.1303, grad=0.0000), Var(v=-0.0154, grad=0.0000), Var(v=-0.0923, grad=0.0000), Var(v=0.1128, grad=0.0000), Var(v=0.0111, grad=0.0000), Var(v=0.1166, grad=0.0000), Var(v=-0.0038, grad=0.0000), Var(v=-0.0105, grad=0.0000), Var(v=-0.0580, grad=0.0000), Var(v=-0.0296, grad=0.0000), Var(v=-0.0296, grad=0.0000), Var(v=-0.0149, grad=0.0000), Var(v=0.0429, grad=0.0000), Var(v=-0.0451, grad=0.0000), Var(v=0.1192, grad=0.0000), Var(v=-0.0011, grad=0.0000), Var(v=0.1185, grad=0.0000), Var(v=0.0723, grad=0.0000), Var(v=-0.0698, grad=0.0000), Var(v=-0.0199, grad=0.0000), Var(v=-0.2270, grad=0.0000), Var(v=-0.0684, grad=0.0000), Var(v=-0.0755, grad=0.0000), Var(v=0.0813, grad=0.0000), Var(v=0.0832, grad=0.0000), Var(v=0.0227, grad=0.0000), Var(v=-0.0642, grad=0.0000), Var(v=0.0081, grad=0.0000), Var(v=0.1488, grad=0.0000), Var(v=0.1383, grad=0.0000), Var(v=0.1150, grad=0.0000), Var(v=-0.0139, grad=0.0000), Var(v=-0.0788, grad=0.0000), Var(v=0.0527, grad=0.0000), Var(v=-0.0149, grad=0.0000), Var(v=-0.0901, grad=0.0000), Var(v=-0.0570, grad=0.0000), Var(v=-0.0328, grad=0.0000), Var(v=-0.0134, grad=0.0000), Var(v=-0.0225, grad=0.0000)], [Var(v=0.0461, grad=0.0000), Var(v=-0.1977, grad=0.0000), Var(v=-0.1564, grad=0.0000), Var(v=0.1597, grad=0.0000), Var(v=-0.0232, grad=0.0000), Var(v=-0.0141, grad=0.0000), Var(v=-0.0623, grad=0.0000), Var(v=0.0508, grad=0.0000), Var(v=-0.1110, grad=0.0000), Var(v=-0.1578, grad=0.0000), Var(v=0.0070, grad=0.0000), Var(v=0.0135, grad=0.0000), Var(v=0.0736, grad=0.0000), Var(v=0.1733, grad=0.0000), Var(v=-0.1074, grad=0.0000), Var(v=-0.1168, grad=0.0000), Var(v=-0.0385, grad=0.0000), Var(v=0.0184, grad=0.0000), Var(v=0.1331, grad=0.0000), Var(v=0.1133, grad=0.0000), Var(v=-0.0983, grad=0.0000), Var(v=0.0151, grad=0.0000), Var(v=0.0303, grad=0.0000), Var(v=0.1446, grad=0.0000), Var(v=0.2486, grad=0.0000), Var(v=-0.1605, grad=0.0000), Var(v=-0.0264, grad=0.0000), Var(v=0.1919, grad=0.0000), Var(v=-0.0250, grad=0.0000), Var(v=0.0697, grad=0.0000), Var(v=0.0602, grad=0.0000), Var(v=-0.0761, grad=0.0000), Var(v=0.1908, grad=0.0000), Var(v=0.1726, grad=0.0000), Var(v=-0.1242, grad=0.0000), Var(v=-0.1687, grad=0.0000), Var(v=-0.0091, grad=0.0000), Var(v=-0.0069, grad=0.0000), Var(v=-0.1555, grad=0.0000), Var(v=0.1330, grad=0.0000), Var(v=-0.0089, grad=0.0000), Var(v=0.1205, grad=0.0000), Var(v=0.1105, grad=0.0000), Var(v=-0.2761, grad=0.0000), Var(v=-0.0771, grad=0.0000), Var(v=0.0463, grad=0.0000), Var(v=-0.1240, grad=0.0000), Var(v=-0.1077, grad=0.0000), Var(v=-0.1251, grad=0.0000), Var(v=0.0344, grad=0.0000)], [Var(v=0.0079, grad=0.0000), Var(v=-0.0822, grad=0.0000), Var(v=0.0297, grad=0.0000), Var(v=-0.1161, grad=0.0000), Var(v=0.0922, grad=0.0000), Var(v=0.2233, grad=0.0000), Var(v=0.0246, grad=0.0000), Var(v=0.2895, grad=0.0000), Var(v=-0.0842, grad=0.0000), Var(v=0.0030, grad=0.0000), Var(v=-0.1944, grad=0.0000), Var(v=0.1516, grad=0.0000), Var(v=-0.1135, grad=0.0000), Var(v=-0.0478, grad=0.0000), Var(v=0.0436, grad=0.0000), Var(v=-0.1395, grad=0.0000), Var(v=-0.1128, grad=0.0000), Var(v=-0.1410, grad=0.0000), Var(v=-0.0050, grad=0.0000), Var(v=-0.0814, grad=0.0000), Var(v=0.1005, grad=0.0000), Var(v=-0.0222, grad=0.0000), Var(v=-0.0573, grad=0.0000), Var(v=0.0255, grad=0.0000), Var(v=0.0139, grad=0.0000), Var(v=0.0528, grad=0.0000), Var(v=0.0350, grad=0.0000), Var(v=0.0969, grad=0.0000), Var(v=-0.0354, grad=0.0000), Var(v=0.0635, grad=0.0000), Var(v=-0.0838, grad=0.0000), Var(v=0.0129, grad=0.0000), Var(v=-0.0378, grad=0.0000), Var(v=-0.0212, grad=0.0000), Var(v=0.0783, grad=0.0000), Var(v=0.0429, grad=0.0000), Var(v=0.0523, grad=0.0000), Var(v=0.0537, grad=0.0000), Var(v=-0.0631, grad=0.0000), Var(v=-0.0642, grad=0.0000), Var(v=-0.0598, grad=0.0000), Var(v=-0.2292, grad=0.0000), Var(v=-0.1007, grad=0.0000), Var(v=0.1465, grad=0.0000), Var(v=0.0451, grad=0.0000), Var(v=0.1815, grad=0.0000), Var(v=-0.1230, grad=0.0000), Var(v=0.0057, grad=0.0000), Var(v=0.1572, grad=0.0000), Var(v=0.0984, grad=0.0000)], [Var(v=-0.1308, grad=0.0000), Var(v=0.0264, grad=0.0000), Var(v=-0.1018, grad=0.0000), Var(v=-0.1314, grad=0.0000), Var(v=0.0433, grad=0.0000), Var(v=0.0397, grad=0.0000), Var(v=0.0425, grad=0.0000), Var(v=0.1702, grad=0.0000), Var(v=-0.0337, grad=0.0000), Var(v=-0.0285, grad=0.0000), Var(v=-0.1517, grad=0.0000), Var(v=-0.1003, grad=0.0000), Var(v=-0.1217, grad=0.0000), Var(v=0.0928, grad=0.0000), Var(v=0.1564, grad=0.0000), Var(v=0.2182, grad=0.0000), Var(v=0.1640, grad=0.0000), Var(v=-0.1360, grad=0.0000), Var(v=-0.1444, grad=0.0000), Var(v=-0.0637, grad=0.0000), Var(v=0.0664, grad=0.0000), Var(v=0.0939, grad=0.0000), Var(v=-0.0032, grad=0.0000), Var(v=0.0314, grad=0.0000), Var(v=-0.0833, grad=0.0000), Var(v=0.0171, grad=0.0000), Var(v=-0.1728, grad=0.0000), Var(v=0.0745, grad=0.0000), Var(v=0.1441, grad=0.0000), Var(v=-0.1119, grad=0.0000), Var(v=-0.1356, grad=0.0000), Var(v=-0.0090, grad=0.0000), Var(v=0.1088, grad=0.0000), Var(v=0.0374, grad=0.0000), Var(v=-0.0541, grad=0.0000), Var(v=-0.0062, grad=0.0000), Var(v=0.1092, grad=0.0000), Var(v=-0.1613, grad=0.0000), Var(v=0.0691, grad=0.0000), Var(v=0.1458, grad=0.0000), Var(v=-0.0336, grad=0.0000), Var(v=0.0524, grad=0.0000), Var(v=0.0142, grad=0.0000), Var(v=0.0009, grad=0.0000), Var(v=0.0884, grad=0.0000), Var(v=0.1174, grad=0.0000), Var(v=0.0208, grad=0.0000), Var(v=-0.0893, grad=0.0000), Var(v=0.0820, grad=0.0000), Var(v=0.1245, grad=0.0000)], [Var(v=0.1322, grad=0.0000), Var(v=0.1252, grad=0.0000), Var(v=0.0118, grad=0.0000), Var(v=-0.0668, grad=0.0000), Var(v=-0.0225, grad=0.0000), Var(v=0.0261, grad=0.0000), Var(v=-0.0978, grad=0.0000), Var(v=0.0724, grad=0.0000), Var(v=0.0691, grad=0.0000), Var(v=-0.0105, grad=0.0000), Var(v=0.0376, grad=0.0000), Var(v=-0.1572, grad=0.0000), Var(v=-0.0010, grad=0.0000), Var(v=0.0538, grad=0.0000), Var(v=-0.0840, grad=0.0000), Var(v=0.0321, grad=0.0000), Var(v=-0.0889, grad=0.0000), Var(v=0.0189, grad=0.0000), Var(v=-0.0304, grad=0.0000), Var(v=0.1202, grad=0.0000), Var(v=0.0029, grad=0.0000), Var(v=-0.0497, grad=0.0000), Var(v=0.0260, grad=0.0000), Var(v=-0.0383, grad=0.0000), Var(v=-0.1940, grad=0.0000), Var(v=0.0526, grad=0.0000), Var(v=-0.1150, grad=0.0000), Var(v=-0.1128, grad=0.0000), Var(v=-0.0659, grad=0.0000), Var(v=0.0623, grad=0.0000), Var(v=0.0773, grad=0.0000), Var(v=0.0602, grad=0.0000), Var(v=0.0118, grad=0.0000), Var(v=0.0051, grad=0.0000), Var(v=-0.2262, grad=0.0000), Var(v=-0.1996, grad=0.0000), Var(v=-0.1205, grad=0.0000), Var(v=-0.0100, grad=0.0000), Var(v=0.0399, grad=0.0000), Var(v=-0.1099, grad=0.0000), Var(v=0.1411, grad=0.0000), Var(v=0.0167, grad=0.0000), Var(v=-0.0168, grad=0.0000), Var(v=-0.1662, grad=0.0000), Var(v=0.1441, grad=0.0000), Var(v=-0.0295, grad=0.0000), Var(v=-0.0516, grad=0.0000), Var(v=-0.2047, grad=0.0000), Var(v=0.1323, grad=0.0000), Var(v=-0.0870, grad=0.0000)], [Var(v=-0.1647, grad=0.0000), Var(v=0.1958, grad=0.0000), Var(v=0.1246, grad=0.0000), Var(v=0.1309, grad=0.0000), Var(v=-0.0007, grad=0.0000), Var(v=-0.0247, grad=0.0000), Var(v=0.1426, grad=0.0000), Var(v=0.1280, grad=0.0000), Var(v=-0.0390, grad=0.0000), Var(v=-0.0981, grad=0.0000), Var(v=-0.0129, grad=0.0000), Var(v=0.0432, grad=0.0000), Var(v=0.0158, grad=0.0000), Var(v=-0.2013, grad=0.0000), Var(v=-0.0447, grad=0.0000), Var(v=-0.0960, grad=0.0000), Var(v=0.1152, grad=0.0000), Var(v=0.2230, grad=0.0000), Var(v=0.0659, grad=0.0000), Var(v=0.1882, grad=0.0000), Var(v=0.0803, grad=0.0000), Var(v=-0.1394, grad=0.0000), Var(v=-0.0604, grad=0.0000), Var(v=-0.0221, grad=0.0000), Var(v=0.1546, grad=0.0000), Var(v=-0.1174, grad=0.0000), Var(v=0.0787, grad=0.0000), Var(v=-0.1264, grad=0.0000), Var(v=-0.0957, grad=0.0000), Var(v=-0.0542, grad=0.0000), Var(v=-0.0517, grad=0.0000), Var(v=0.1833, grad=0.0000), Var(v=-0.0326, grad=0.0000), Var(v=0.0187, grad=0.0000), Var(v=-0.0841, grad=0.0000), Var(v=0.1258, grad=0.0000), Var(v=0.0085, grad=0.0000), Var(v=-0.1143, grad=0.0000), Var(v=-0.0632, grad=0.0000), Var(v=0.0445, grad=0.0000), Var(v=0.1696, grad=0.0000), Var(v=0.0082, grad=0.0000), Var(v=-0.0156, grad=0.0000), Var(v=-0.0131, grad=0.0000), Var(v=0.2068, grad=0.0000), Var(v=0.0546, grad=0.0000), Var(v=0.1052, grad=0.0000), Var(v=-0.0161, grad=0.0000), Var(v=0.0919, grad=0.0000), Var(v=0.1268, grad=0.0000)]]\n",
            "\tBiases: [Var(v=0.0026, grad=0.0000), Var(v=-0.0333, grad=0.0000), Var(v=0.0000, grad=0.0000), Var(v=-0.0141, grad=0.0000), Var(v=-0.0004, grad=0.0000), Var(v=-0.0006, grad=0.0000), Var(v=0.0015, grad=0.0000), Var(v=0.0000, grad=0.0000), Var(v=-0.0021, grad=0.0000), Var(v=0.0004, grad=0.0000), Var(v=0.1315, grad=0.0000), Var(v=-0.0324, grad=0.0000), Var(v=0.0525, grad=0.0000), Var(v=0.0000, grad=0.0000), Var(v=0.0565, grad=0.0000), Var(v=0.0000, grad=0.0000), Var(v=0.0000, grad=0.0000), Var(v=-0.1000, grad=0.0000), Var(v=0.0000, grad=0.0000), Var(v=0.0000, grad=0.0000), Var(v=0.0000, grad=0.0000), Var(v=0.0000, grad=0.0000), Var(v=0.0118, grad=0.0000), Var(v=-0.0000, grad=0.0000), Var(v=-0.0004, grad=0.0000), Var(v=0.0061, grad=0.0000), Var(v=0.0032, grad=0.0000), Var(v=-0.0018, grad=0.0000), Var(v=0.0000, grad=0.0000), Var(v=0.0000, grad=0.0000), Var(v=-0.0480, grad=0.0000), Var(v=-0.0010, grad=0.0000), Var(v=0.0292, grad=0.0000), Var(v=0.0354, grad=0.0000), Var(v=0.0000, grad=0.0000), Var(v=-0.0026, grad=0.0000), Var(v=0.0000, grad=0.0000), Var(v=-0.0029, grad=0.0000), Var(v=0.0000, grad=0.0000), Var(v=-0.0001, grad=0.0000), Var(v=0.0000, grad=0.0000), Var(v=0.0069, grad=0.0000), Var(v=0.0000, grad=0.0000), Var(v=0.0000, grad=0.0000), Var(v=0.0198, grad=0.0000), Var(v=0.0000, grad=0.0000), Var(v=0.0301, grad=0.0000), Var(v=0.0000, grad=0.0000), Var(v=-0.0004, grad=0.0000), Var(v=-0.0019, grad=0.0000)]\n",
            "Layer 2 \n",
            " \n",
            "\tWeights: [[Var(v=0.1376, grad=0.0000)], [Var(v=0.0370, grad=0.0000)], [Var(v=-0.1290, grad=0.0000)], [Var(v=-0.0049, grad=0.0000)], [Var(v=-0.0323, grad=0.0000)], [Var(v=0.0749, grad=0.0000)], [Var(v=0.1092, grad=0.0000)], [Var(v=-0.0027, grad=0.0000)], [Var(v=-0.1075, grad=0.0000)], [Var(v=0.0389, grad=0.0000)], [Var(v=0.1604, grad=0.0000)], [Var(v=0.0211, grad=0.0000)], [Var(v=0.0610, grad=0.0000)], [Var(v=0.1149, grad=0.0000)], [Var(v=0.0938, grad=0.0000)], [Var(v=-0.1262, grad=0.0000)], [Var(v=0.1048, grad=0.0000)], [Var(v=-0.0875, grad=0.0000)], [Var(v=0.0274, grad=0.0000)], [Var(v=-0.0809, grad=0.0000)], [Var(v=0.0449, grad=0.0000)], [Var(v=0.1800, grad=0.0000)], [Var(v=-0.0230, grad=0.0000)], [Var(v=-0.0089, grad=0.0000)], [Var(v=-0.0101, grad=0.0000)], [Var(v=0.0829, grad=0.0000)], [Var(v=0.1780, grad=0.0000)], [Var(v=-0.1239, grad=0.0000)], [Var(v=0.1159, grad=0.0000)], [Var(v=-0.0140, grad=0.0000)], [Var(v=-0.0176, grad=0.0000)], [Var(v=0.0291, grad=0.0000)], [Var(v=-0.0420, grad=0.0000)], [Var(v=0.0697, grad=0.0000)], [Var(v=-0.0475, grad=0.0000)], [Var(v=-0.1502, grad=0.0000)], [Var(v=0.0617, grad=0.0000)], [Var(v=-0.1724, grad=0.0000)], [Var(v=-0.0747, grad=0.0000)], [Var(v=0.0158, grad=0.0000)], [Var(v=-0.0102, grad=0.0000)], [Var(v=0.0594, grad=0.0000)], [Var(v=-0.1052, grad=0.0000)], [Var(v=-0.1229, grad=0.0000)], [Var(v=-0.0457, grad=0.0000)], [Var(v=0.0097, grad=0.0000)], [Var(v=-0.0374, grad=0.0000)], [Var(v=0.0470, grad=0.0000)], [Var(v=-0.0141, grad=0.0000)], [Var(v=-0.0842, grad=0.0000)]]\n",
            "\tBiases: [Var(v=0.0179, grad=0.0000)]\n"
          ]
        },
        {
          "data": {
            "text/plain": [
              "[None, None, None]"
            ]
          },
          "execution_count": 55,
          "metadata": {},
          "output_type": "execute_result"
        }
      ],
      "source": [
        "print('Network before update:')\n",
        "[print('Layer', i, '\\n', NN[i]) for i in range(len(NN))]\n",
        "\n",
        "def parameters(network):\n",
        "  params = []\n",
        "  for layer in range(len(network)):\n",
        "    params += network[layer].parameters()\n",
        "  return params\n",
        "\n",
        "def update_parameters(params, learning_rate=0.01):\n",
        "  for p in params:\n",
        "    p.v -= learning_rate*p.grad\n",
        "\n",
        "def zero_gradients(params):\n",
        "  for p in params:\n",
        "    p.grad = 0.0\n",
        "\n",
        "update_parameters(parameters(NN))\n",
        "\n",
        "print('\\nNetwork after update:')\n",
        "[print('Layer', i, '\\n', NN[i]) for i in range(len(NN))]\n",
        "\n",
        "zero_gradients(parameters(NN))\n",
        "\n",
        "print('\\nNetwork after zeroing gradients:')\n",
        "[print('Layer', i, '\\n', NN[i]) for i in range(len(NN))]"
      ]
    },
    {
      "cell_type": "code",
      "execution_count": 30,
      "metadata": {
        "id": "woWYpdw6FtIO"
      },
      "outputs": [],
      "source": [
        "# Initialize an arbitrary neural network\n",
        "NN = [\n",
        "    DenseLayer(1, 8, lambda x: x.relu()),\n",
        "    DenseLayer(8, 1, lambda x: x.identity())\n",
        "]\n",
        "\n",
        "# Recommended hyper-parameters for 3-D:\n",
        "#NN = [\n",
        "#    DenseLayer(3, 16, lambda x: x.relu()),\n",
        "#    DenseLayer(16, 1, lambda x: x.identity())\n",
        "#]\n",
        "\n",
        "\n",
        "### Notice that, when we switch from tanh to relu activation, we decrease the learning rate. This is due the stability of the gradients\n",
        "## of the activation functions."
      ]
    },
    {
      "cell_type": "code",
      "execution_count": 31,
      "metadata": {
        "id": "mdqaqYBVFtIR"
      },
      "outputs": [],
      "source": [
        "# Initialize training hyperparameters\n",
        "EPOCHS = 200\n",
        "LEARN_R = 2e-3"
      ]
    },
    {
      "cell_type": "code",
      "execution_count": 32,
      "metadata": {
        "colab": {
          "base_uri": "https://localhost:8080/"
        },
        "id": "5kfg76GMFtIW",
        "outputId": "907e9464-62e1-4c2d-f399-463ba7fbada7",
        "scrolled": true
      },
      "outputs": [
        {
          "name": "stdout",
          "output_type": "stream",
          "text": [
            "   0 ( 0.00%) Train loss: 101.158 \t Validation loss: 99.315\n",
            "  10 ( 5.00%) Train loss: 15.936 \t Validation loss: 12.327\n",
            "  20 (10.00%) Train loss: 13.736 \t Validation loss: 10.545\n",
            "  30 (15.00%) Train loss: 13.176 \t Validation loss: 10.040\n",
            "  40 (20.00%) Train loss: 12.817 \t Validation loss: 9.641\n",
            "  50 (25.00%) Train loss: 12.606 \t Validation loss: 9.386\n",
            "  60 (30.00%) Train loss: 12.444 \t Validation loss: 9.167\n",
            "  70 (35.00%) Train loss: 12.303 \t Validation loss: 9.007\n",
            "  80 (40.00%) Train loss: 12.175 \t Validation loss: 8.897\n",
            "  90 (45.00%) Train loss: 12.089 \t Validation loss: 8.860\n",
            " 100 (50.00%) Train loss: 12.010 \t Validation loss: 8.875\n",
            " 110 (55.00%) Train loss: 11.937 \t Validation loss: 8.896\n",
            " 120 (60.00%) Train loss: 11.917 \t Validation loss: 8.906\n",
            " 130 (65.00%) Train loss: 11.906 \t Validation loss: 8.922\n",
            " 140 (70.00%) Train loss: 11.900 \t Validation loss: 8.937\n",
            " 150 (75.00%) Train loss: 11.896 \t Validation loss: 8.950\n",
            " 160 (80.00%) Train loss: 11.894 \t Validation loss: 8.959\n",
            " 170 (85.00%) Train loss: 11.893 \t Validation loss: 8.965\n",
            " 180 (90.00%) Train loss: 11.892 \t Validation loss: 8.970\n",
            " 190 (95.00%) Train loss: 11.891 \t Validation loss: 8.975\n"
          ]
        }
      ],
      "source": [
        "train_loss = []\n",
        "val_loss = []\n",
        "\n",
        "for e in range(EPOCHS):\n",
        "\n",
        "    # Forward pass and loss computation\n",
        "    Loss = squared_loss(y_train, forward(x_train, NN))\n",
        "\n",
        "    # Backward pass\n",
        "    Loss.backward()\n",
        "\n",
        "    # gradient descent update\n",
        "    update_parameters(parameters(NN), LEARN_R)\n",
        "    zero_gradients(parameters(NN))\n",
        "\n",
        "    # Training loss\n",
        "    train_loss.append(Loss.v)\n",
        "\n",
        "    # Validation\n",
        "    Loss_validation = squared_loss(y_validation, forward(x_validation, NN))\n",
        "    val_loss.append(Loss_validation.v)\n",
        "\n",
        "    if e%10==0:\n",
        "        print(\"{:4d}\".format(e),\n",
        "              \"({:5.2f}%)\".format(e/EPOCHS*100),\n",
        "              \"Train loss: {:4.3f} \\t Validation loss: {:4.3f}\".format(train_loss[-1], val_loss[-1]))\n",
        "\n"
      ]
    },
    {
      "cell_type": "code",
      "execution_count": 33,
      "metadata": {
        "colab": {
          "base_uri": "https://localhost:8080/",
          "height": 447
        },
        "id": "VetyRWFwFtIY",
        "outputId": "f1a460ca-a6b7-4642-d2ef-660beed2776b"
      },
      "outputs": [
        {
          "data": {
            "text/plain": [
              "<matplotlib.legend.Legend at 0x13462fec0>"
            ]
          },
          "execution_count": 33,
          "metadata": {},
          "output_type": "execute_result"
        },
        {
          "data": {
            "image/png": "[encoded data removed]",
            "text/plain": [
              "<Figure size 640x480 with 1 Axes>"
            ]
          },
          "metadata": {},
          "output_type": "display_data"
        }
      ],
      "source": [
        "plt.plot(range(len(train_loss)), train_loss);\n",
        "plt.plot(range(len(val_loss)), val_loss);\n",
        "plt.legend(['Train Loss', 'Validation Loss'])"
      ]
    },
    {
      "cell_type": "markdown",
      "metadata": {
        "id": "8OgmIrM9FtIb"
      },
      "source": [
        "# Testing\n",
        "\n",
        "We have kept the calculation of the test error separate in order to emphasize that you should not use the test set in optimization."
      ]
    },
    {
      "cell_type": "code",
      "execution_count": 34,
      "metadata": {
        "id": "HmNi7S-vFtIc"
      },
      "outputs": [],
      "source": [
        "output_test = forward(x_test, NN)"
      ]
    },
    {
      "cell_type": "code",
      "execution_count": 35,
      "metadata": {
        "colab": {
          "base_uri": "https://localhost:8080/",
          "height": 504
        },
        "id": "7mmJOTSEFtIf",
        "outputId": "708f498a-194c-4317-b7c1-059ce839e308"
      },
      "outputs": [
        {
          "name": "stdout",
          "output_type": "stream",
          "text": [
            "Test loss:  9.809\n"
          ]
        },
        {
          "data": {
            "image/png": "[encoded data removed]",
            "text/plain": [
              "<Figure size 640x480 with 1 Axes>"
            ]
          },
          "metadata": {},
          "output_type": "display_data"
        }
      ],
      "source": [
        "y_test_np = Var_to_nparray(y_test)\n",
        "plt.scatter(y_test_np, Var_to_nparray(output_test));\n",
        "plt.plot([np.min(y_test_np), np.max(y_test_np)], [np.min(y_test_np), np.max(y_test_np)], color='k');\n",
        "plt.xlabel(\"y\");\n",
        "plt.ylabel(\"$\\\\hat{y}$\");\n",
        "plt.title(\"Model prediction vs real in the test set, the close to the line the better\")\n",
        "plt.grid(True);\n",
        "plt.axis('equal');\n",
        "plt.tight_layout();\n",
        "\n",
        "Loss_test = squared_loss(y_test, forward(x_test, NN))\n",
        "\n",
        "print(\"Test loss:  {:4.3f}\".format(Loss_test.v))"
      ]
    },
    {
      "cell_type": "code",
      "execution_count": 36,
      "metadata": {
        "colab": {
          "base_uri": "https://localhost:8080/",
          "height": 449
        },
        "id": "ODi0WlmQFtIh",
        "outputId": "271f7d3d-0b0a-4b6d-f55f-92be270252f4"
      },
      "outputs": [
        {
          "data": {
            "image/png": "[encoded data removed]",
            "text/plain": [
              "<Figure size 640x480 with 1 Axes>"
            ]
          },
          "metadata": {},
          "output_type": "display_data"
        }
      ],
      "source": [
        "x_test_np = Var_to_nparray(x_test)\n",
        "x_train_np = Var_to_nparray(x_train)\n",
        "y_train_np = Var_to_nparray(y_train)\n",
        "if D1:\n",
        "    plt.scatter(x_train_np, y_train_np, label=\"train data\");\n",
        "    plt.scatter(x_test_np, Var_to_nparray(output_test), label=\"test prediction\");\n",
        "    plt.scatter(x_test_np, y_test_np, label=\"test data\");\n",
        "    plt.legend();\n",
        "    plt.xlabel(\"x\");\n",
        "    plt.ylabel(\"y\");\n",
        "else:\n",
        "    plt.scatter(x_train_np[:,1], y_train, label=\"train data\");\n",
        "    plt.scatter(x_test_np[:,1], Var_to_nparray(output_test), label=\"test data prediction\");\n",
        "    plt.scatter(x_test_np[:,1], y_test_np, label=\"test data\");\n",
        "    plt.legend();\n",
        "    plt.xlabel(\"x\");\n",
        "    plt.ylabel(\"y\");"
      ]
    },
    {
      "cell_type": "markdown",
      "metadata": {
        "id": "zTBAmjsAFtIk"
      },
      "source": [
        "## Exercise l) Show overfitting, underfitting and just right fitting\n",
        "\n",
        "Vary the architecture and other things to show clear signs of overfitting (=training loss significantly lower than test loss) and underfitting (=not fitting enoung to training data so that test performance is also hurt).\n",
        "\n",
        "See also if you can get a good compromise which leads to a low validation loss.\n",
        "\n",
        "For this problem do you see any big difference between validation and test loss? The answer here will probably be no. Discuss cases where it is important to keep the two separate.\n",
        "\n",
        "_Insert written answer here._\n"
      ]
    },
    {
      "cell_type": "code",
      "execution_count": 34,
      "metadata": {
        "id": "tQZCn2dxFtIl"
      },
      "outputs": [],
      "source": [
        "# Insert your code for getting overfitting, underfitting and just right fitting\n",
        "hyperparameters = [\n",
        "    {\n",
        "        'NN': [\n",
        "            DenseLayer(1, 4, lambda x: x.relu()),\n",
        "            DenseLayer(4, 1, lambda x: x.identity()),\n",
        "        ],\n",
        "        'TRAIN_LOSS': [],\n",
        "        'VAL_LOSS': [],\n",
        "        'LR': 4e-3,\n",
        "        'EPOCHS': 50,\n",
        "        'TITLE': 'Underfit'\n",
        "    },\n",
        "    {\n",
        "        'NN': [\n",
        "            DenseLayer(1, 8, lambda x: x.relu()),\n",
        "            DenseLayer(8, 8, lambda x: x.relu()),\n",
        "            DenseLayer(8, 1, lambda x: x.identity()),\n",
        "        ],\n",
        "        'TRAIN_LOSS': [],\n",
        "        'VAL_LOSS': [],\n",
        "        'LR': 1e-3,\n",
        "        'EPOCHS': 1500,\n",
        "        'TITLE': 'Overfit'\n",
        "    },\n",
        "    {\n",
        "        'NN': [\n",
        "            DenseLayerInit('glorot', 'relu', 1, 8),\n",
        "            DenseLayerInit('glorot', 'relu', 8, 16),\n",
        "            DenseLayerInit('he', 'id' , 16, 1),\n",
        "        ],\n",
        "        'TRAIN_LOSS': [],\n",
        "        'VAL_LOSS': [],\n",
        "        'LR': 4e-4,\n",
        "        'EPOCHS': 1500,\n",
        "        'TITLE': 'Optimal fit'\n",
        "    }\n",
        "]\n"
      ]
    },
    {
      "cell_type": "code",
      "execution_count": 35,
      "metadata": {
        "colab": {
          "base_uri": "https://localhost:8080/"
        },
        "id": "eXOzxQdGfviy",
        "outputId": "373c57c5-46a3-464f-bcf3-41582ac81bb0"
      },
      "outputs": [
        {
          "name": "stdout",
          "output_type": "stream",
          "text": [
            "{'NN': [\n",
            "\tWeights: [[Var(v=0.0119, grad=0.0000), Var(v=-0.0672, grad=0.0000), Var(v=0.0059, grad=0.0000), Var(v=0.0543, grad=0.0000)]]\n",
            "\tBiases: [Var(v=0.0000, grad=0.0000), Var(v=0.0000, grad=0.0000), Var(v=0.0000, grad=0.0000), Var(v=0.0000, grad=0.0000)], \n",
            "\tWeights: [[Var(v=-0.0072, grad=0.0000)], [Var(v=0.0813, grad=0.0000)], [Var(v=-0.0056, grad=0.0000)], [Var(v=-0.1155, grad=0.0000)]]\n",
            "\tBiases: [Var(v=0.0000, grad=0.0000)]], 'TRAIN_LOSS': [], 'VAL_LOSS': [], 'LR': 0.004, 'EPOCHS': 50, 'TITLE': 'Underfit'}\n",
            "   0 ( 0.00%) Train loss: 106.178 \t Validation loss: 107.801\n",
            "  10 (20.00%) Train loss: 104.437 \t Validation loss: 106.264\n",
            "  20 (40.00%) Train loss: 23.020 \t Validation loss: 17.918\n",
            "  30 (60.00%) Train loss: 15.068 \t Validation loss: 12.607\n",
            "  40 (80.00%) Train loss: 105.000 \t Validation loss: 107.764\n"
          ]
        }
      ],
      "source": [
        "for params in hyperparameters:\n",
        "    print(params)\n",
        "\n",
        "    for e in range(params['EPOCHS']):\n",
        "\n",
        "        net = params['NN']\n",
        "\n",
        "        # Forward pass and loss computation\n",
        "        Loss = squared_loss(y_train, forward(x_train, net))\n",
        "\n",
        "        # Backward pass\n",
        "        Loss.backward()\n",
        "\n",
        "        # gradient descent update\n",
        "        update_parameters(parameters(net), params['LR'])\n",
        "        zero_gradients(parameters(net))\n",
        "\n",
        "        # Training loss\n",
        "        params['TRAIN_LOSS'].append(Loss.v)\n",
        "\n",
        "        # Validation\n",
        "        Loss_validation = squared_loss(y_validation, forward(x_validation, net))\n",
        "        params['VAL_LOSS'].append(Loss_validation.v)\n",
        "\n",
        "        if e % 10==0:\n",
        "            print(\"{:4d}\".format(e),\n",
        "                \"({:5.2f}%)\".format(e / params['EPOCHS']*100),\n",
        "                \"Train loss: {:4.3f} \\t Validation loss: {:4.3f}\".format(params['TRAIN_LOSS'][-1], params['VAL_LOSS'][-1]))"
      ]
    },
    {
      "cell_type": "code",
      "execution_count": 36,
      "metadata": {
        "colab": {
          "base_uri": "https://localhost:8080/",
          "height": 452
        },
        "id": "c5zQEWp5fviy",
        "outputId": "a4788079-9037-4aa5-f355-26edf62ae23d"
      },
      "outputs": [
        {
          "data": {
            "text/plain": [
              "<matplotlib.legend.Legend at 0x10b22c050>"
            ]
          },
          "execution_count": 36,
          "metadata": {},
          "output_type": "execute_result"
        },
        {
          "data": {
            "image/png": "[encoded data removed]",
            "text/plain": [
              "<Figure size 640x480 with 1 Axes>"
            ]
          },
          "metadata": {},
          "output_type": "display_data"
        }
      ],
      "source": [
        "plt.plot(range(len(params['TRAIN_LOSS'])), params['TRAIN_LOSS']);\n",
        "plt.plot(range(len(params['VAL_LOSS'])), params['VAL_LOSS']);\n",
        "plt.ylim(0, 30)\n",
        "plt.yticks(np.linspace(30, 0, 20))\n",
        "plt.legend(['Train Loss', 'Validation Loss'])"
      ]
    },
    {
      "cell_type": "code",
      "execution_count": 48,
      "metadata": {},
      "outputs": [
        {
          "name": "stdout",
          "output_type": "stream",
          "text": [
            "Test loss:  9.504\n"
          ]
        },
        {
          "data": {
            "image/png": "[encoded data removed]",
            "text/plain": [
              "<Figure size 640x480 with 1 Axes>"
            ]
          },
          "metadata": {},
          "output_type": "display_data"
        }
      ],
      "source": [
        "# Overfit\n",
        "output_test = forward(x_test, params['NN'])\n",
        "\n",
        "y_test_np = Var_to_nparray(y_test)\n",
        "plt.scatter(y_test_np, Var_to_nparray(output_test));\n",
        "plt.plot([np.min(y_test_np), np.max(y_test_np)], [np.min(y_test_np), np.max(y_test_np)], color='k');\n",
        "plt.xlabel(\"y\");\n",
        "plt.ylabel(\"$\\\\hat{y}$\");\n",
        "plt.title(\"Model prediction vs real in the test set, the close to the line the better\")\n",
        "plt.grid(True);\n",
        "plt.axis('equal');\n",
        "plt.tight_layout();\n",
        "\n",
        "Loss_test = squared_loss(y_test, forward(x_test, params['NN']))\n",
        "\n",
        "print(\"Test loss:  {:4.3f}\".format(Loss_test.v))"
      ]
    },
    {
      "cell_type": "code",
      "execution_count": 38,
      "metadata": {},
      "outputs": [
        {
          "name": "stdout",
          "output_type": "stream",
          "text": [
            "Test loss:  9.058\n"
          ]
        },
        {
          "data": {
            "image/png": "[encoded data removed]",
            "text/plain": [
              "<Figure size 640x480 with 1 Axes>"
            ]
          },
          "metadata": {},
          "output_type": "display_data"
        }
      ],
      "source": [
        "# Optimal fit\n",
        "output_test = forward(x_test, params['NN'])\n",
        "\n",
        "y_test_np = Var_to_nparray(y_test)\n",
        "plt.scatter(y_test_np, Var_to_nparray(output_test));\n",
        "plt.plot([np.min(y_test_np), np.max(y_test_np)], [np.min(y_test_np), np.max(y_test_np)], color='k');\n",
        "plt.xlabel(\"y\");\n",
        "plt.ylabel(\"$\\\\hat{y}$\");\n",
        "plt.title(\"Model prediction vs real in the test set, the close to the line the better\")\n",
        "plt.grid(True);\n",
        "plt.axis('equal');\n",
        "plt.tight_layout();\n",
        "\n",
        "Loss_test = squared_loss(y_test, forward(x_test, params['NN']))\n",
        "\n",
        "print(\"Test loss:  {:4.3f}\".format(Loss_test.v))"
      ]
    },
    {
      "cell_type": "code",
      "execution_count": 39,
      "metadata": {
        "colab": {
          "base_uri": "https://localhost:8080/",
          "height": 449
        },
        "id": "kQZEKCi_fviy",
        "outputId": "c9815433-ffea-4cd6-89fd-309c7e16c5ee"
      },
      "outputs": [
        {
          "data": {
            "image/png": "[encoded data removed]",
            "text/plain": [
              "<Figure size 640x480 with 1 Axes>"
            ]
          },
          "metadata": {},
          "output_type": "display_data"
        }
      ],
      "source": [
        "x_test_np = Var_to_nparray(x_test)\n",
        "x_train_np = Var_to_nparray(x_train)\n",
        "y_train_np = Var_to_nparray(y_train)\n",
        "if D1:\n",
        "    plt.scatter(x_train_np, y_train_np, label=\"train data\");\n",
        "    plt.scatter(x_test_np, Var_to_nparray(output_test), label=\"test prediction\");\n",
        "    plt.scatter(x_test_np, y_test_np, label=\"test data\");\n",
        "    plt.legend();\n",
        "    plt.xlabel(\"x\");\n",
        "    plt.ylabel(\"y\");\n",
        "else:\n",
        "    plt.scatter(x_train_np[:,1], y_train, label=\"train data\");\n",
        "    plt.scatter(x_test_np[:,1], Var_to_nparray(output_test), label=\"test data prediction\");\n",
        "    plt.scatter(x_test_np[:,1], y_test_np, label=\"test data\");\n",
        "    plt.legend();\n",
        "    plt.xlabel(\"x\");\n",
        "    plt.ylabel(\"y\");"
      ]
    },
    {
      "cell_type": "markdown",
      "metadata": {
        "id": "GVUzvnthfviy"
      },
      "source": [
        "$\\rule{100cm}{0.4pt}$\n",
        "### Overfitting\n",
        "Overfitting happens with significantly lower training loss compared to test loss, once more neurons are trained for longer (more epochs). The learning rate decreases in this case to allow the training loss to decrease and not get stuck.\n",
        "\n",
        "### Underfitting\n",
        "For underfitting, the training takes considerably less epochs with a high learning rate, when the loss has not saturated yet and the predictions are rather poor.\n",
        "\n",
        "### Optimality\n",
        "The appropriate learning rate is chosen (lowered) and enough epochs are allowed for training in a deeper network, which will lead to better fitting."
      ]
    },
    {
      "cell_type": "markdown",
      "metadata": {
        "id": "fYPZP-eTFtIo"
      },
      "source": [
        "# Next steps - classification\n",
        "\n",
        "It is straight forward to extend what we have done to classification.\n",
        "\n",
        "For numerical stability it is better to make softmax and cross-entropy as one function so we write the cross entropy loss as a function of the logits we talked about last week.\n",
        "\n",
        "Next week we will see how to perform classification in PyTorch."
      ]
    },
    {
      "cell_type": "markdown",
      "metadata": {
        "id": "qsVPul3QFtIo"
      },
      "source": [
        "## Exercise m) optional - Implement backpropagation for classification\n",
        "\n",
        "Should be possible with very few lines of code. :-)"
      ]
    },
    {
      "cell_type": "code",
      "execution_count": 57,
      "metadata": {
        "id": "oC8QrI2tFtIp"
      },
      "outputs": [
        {
          "name": "stdout",
          "output_type": "stream",
          "text": [
            "   0 ( 0.00%) Train loss: 0.093 \t Validation loss: -0.121\n",
            "  10 ( 5.00%) Train loss: 0.093 \t Validation loss: -0.121\n",
            "  20 (10.00%) Train loss: 0.093 \t Validation loss: -0.121\n",
            "  30 (15.00%) Train loss: 0.093 \t Validation loss: -0.121\n",
            "  40 (20.00%) Train loss: 0.093 \t Validation loss: -0.121\n",
            "  50 (25.00%) Train loss: 0.093 \t Validation loss: -0.121\n",
            "  60 (30.00%) Train loss: 0.093 \t Validation loss: -0.121\n",
            "  70 (35.00%) Train loss: 0.093 \t Validation loss: -0.121\n",
            "  80 (40.00%) Train loss: 0.093 \t Validation loss: -0.121\n",
            "  90 (45.00%) Train loss: 0.093 \t Validation loss: -0.121\n",
            " 100 (50.00%) Train loss: 0.093 \t Validation loss: -0.121\n",
            " 110 (55.00%) Train loss: 0.093 \t Validation loss: -0.121\n",
            " 120 (60.00%) Train loss: 0.093 \t Validation loss: -0.121\n",
            " 130 (65.00%) Train loss: 0.093 \t Validation loss: -0.121\n",
            " 140 (70.00%) Train loss: 0.093 \t Validation loss: -0.121\n",
            " 150 (75.00%) Train loss: 0.093 \t Validation loss: -0.121\n",
            " 160 (80.00%) Train loss: 0.093 \t Validation loss: -0.121\n",
            " 170 (85.00%) Train loss: 0.093 \t Validation loss: -0.121\n",
            " 180 (90.00%) Train loss: 0.093 \t Validation loss: -0.121\n",
            " 190 (95.00%) Train loss: 0.093 \t Validation loss: -0.121\n"
          ]
        }
      ],
      "source": [
        "NN = [\n",
        "    DenseLayerInit('he', 'relu', 1, 8),\n",
        "    DenseLayerInit('he', 'sigmoid', 8, 1)\n",
        "]\n",
        "\n",
        "# Initialize training hyperparameters\n",
        "EPOCHS = 200\n",
        "LEARN_R = 2e-3\n",
        "\n",
        "train_loss = []\n",
        "val_loss = []\n",
        "\n",
        "for e in range(EPOCHS):\n",
        "\n",
        "    # Forward pass and loss computation\n",
        "    Loss = cross_entropy_loss(y_train, forward(x_train, NN))\n",
        "\n",
        "    # Backward pass\n",
        "    Loss.backward()\n",
        "\n",
        "    # gradient descent update\n",
        "    update_parameters(parameters(NN), LEARN_R)\n",
        "    zero_gradients(parameters(NN))\n",
        "\n",
        "    # Training loss\n",
        "    train_loss.append(Loss.v)\n",
        "\n",
        "    # Validation\n",
        "    Loss_validation = cross_entropy_loss(y_validation, forward(x_validation, NN))\n",
        "    val_loss.append(Loss_validation.v)\n",
        "\n",
        "    if e%10==0:\n",
        "        print(\"{:4d}\".format(e),\n",
        "              \"({:5.2f}%)\".format(e / EPOCHS*100),\n",
        "              \"Train loss: {:4.3f} \\t Validation loss: {:4.3f}\".format(train_loss[-1], val_loss[-1]))"
      ]
    },
    {
      "cell_type": "markdown",
      "metadata": {
        "id": "APqhJv3tta1O"
      },
      "source": [
        "## Exercise n) optional - Introduce a NeuralNetwork class\n",
        "\n",
        "The functions we applied on the neural network (parameters, update_parameters and zero_gradients) can more naturally be included as methods in a NeuralNetwork class. Make such a class and modify the code to use it."
      ]
    },
    {
      "cell_type": "code",
      "execution_count": 45,
      "metadata": {
        "id": "Dqfnor1ouMLq"
      },
      "outputs": [
        {
          "name": "stdout",
          "output_type": "stream",
          "text": [
            "[Var(v=0.6283, grad=0.0000), Var(v=0.6747, grad=0.0000), Var(v=0.4801, grad=0.0000), Var(v=0.7496, grad=0.0000), Var(v=0.7752, grad=0.0000), Var(v=0.6228, grad=0.0000), Var(v=0.6947, grad=0.0000), Var(v=0.5473, grad=0.0000), Var(v=0.0000, grad=0.0000), Var(v=0.0000, grad=0.0000), Var(v=0.0000, grad=0.0000), Var(v=0.0000, grad=0.0000), Var(v=0.0000, grad=0.0000), Var(v=0.0000, grad=0.0000), Var(v=0.0000, grad=0.0000), Var(v=0.0000, grad=0.0000), Var(v=0.4730, grad=0.0000), Var(v=0.2955, grad=0.0000), Var(v=0.5232, grad=0.0000), Var(v=0.4543, grad=0.0000), Var(v=0.2899, grad=0.0000), Var(v=0.4321, grad=0.0000), Var(v=0.4531, grad=0.0000), Var(v=0.6522, grad=0.0000), Var(v=0.0000, grad=0.0000)]\n",
            "   0 ( 0.00%) Train loss: 155.091 \t Validation loss: 47.831\n",
            "  10 ( 5.00%) Train loss: 33.224 \t Validation loss: 30.206\n",
            "  20 (10.00%) Train loss: 29.589 \t Validation loss: 27.408\n",
            "  30 (15.00%) Train loss: 27.425 \t Validation loss: 25.015\n",
            "  40 (20.00%) Train loss: 25.661 \t Validation loss: 22.813\n",
            "  50 (25.00%) Train loss: 23.958 \t Validation loss: 20.688\n",
            "  60 (30.00%) Train loss: 21.850 \t Validation loss: 18.332\n",
            "  70 (35.00%) Train loss: 19.642 \t Validation loss: 16.388\n",
            "  80 (40.00%) Train loss: 18.267 \t Validation loss: 15.153\n",
            "  90 (45.00%) Train loss: 17.415 \t Validation loss: 14.320\n",
            " 100 (50.00%) Train loss: 16.747 \t Validation loss: 13.631\n",
            " 110 (55.00%) Train loss: 16.173 \t Validation loss: 13.042\n",
            " 120 (60.00%) Train loss: 15.681 \t Validation loss: 12.531\n",
            " 130 (65.00%) Train loss: 15.253 \t Validation loss: 12.094\n",
            " 140 (70.00%) Train loss: 14.880 \t Validation loss: 11.716\n",
            " 150 (75.00%) Train loss: 14.541 \t Validation loss: 11.382\n",
            " 160 (80.00%) Train loss: 14.218 \t Validation loss: 11.081\n",
            " 170 (85.00%) Train loss: 13.888 \t Validation loss: 10.799\n",
            " 180 (90.00%) Train loss: 13.583 \t Validation loss: 10.539\n",
            " 190 (95.00%) Train loss: 13.298 \t Validation loss: 10.305\n",
            " 200 (100.00%) Train loss: 13.041 \t Validation loss: 10.101\n",
            " 210 (105.00%) Train loss: 12.874 \t Validation loss: 9.960\n",
            " 220 (110.00%) Train loss: 12.744 \t Validation loss: 9.840\n",
            " 230 (115.00%) Train loss: 12.636 \t Validation loss: 9.735\n",
            " 240 (120.00%) Train loss: 12.542 \t Validation loss: 9.650\n",
            " 250 (125.00%) Train loss: 12.459 \t Validation loss: 9.586\n",
            " 260 (130.00%) Train loss: 12.387 \t Validation loss: 9.514\n",
            " 270 (135.00%) Train loss: 12.325 \t Validation loss: 9.445\n",
            " 280 (140.00%) Train loss: 12.270 \t Validation loss: 9.397\n",
            " 290 (145.00%) Train loss: 12.224 \t Validation loss: 9.346\n",
            " 300 (150.00%) Train loss: 12.184 \t Validation loss: 9.311\n",
            " 310 (155.00%) Train loss: 12.148 \t Validation loss: 9.281\n",
            " 320 (160.00%) Train loss: 12.117 \t Validation loss: 9.254\n",
            " 330 (165.00%) Train loss: 12.090 \t Validation loss: 9.243\n",
            " 340 (170.00%) Train loss: 12.065 \t Validation loss: 9.212\n",
            " 350 (175.00%) Train loss: 12.044 \t Validation loss: 9.198\n",
            " 360 (180.00%) Train loss: 12.026 \t Validation loss: 9.193\n",
            " 370 (185.00%) Train loss: 12.010 \t Validation loss: 9.175\n",
            " 380 (190.00%) Train loss: 11.995 \t Validation loss: 9.162\n",
            " 390 (195.00%) Train loss: 11.983 \t Validation loss: 9.155\n",
            " 400 (200.00%) Train loss: 11.972 \t Validation loss: 9.148\n",
            " 410 (205.00%) Train loss: 11.963 \t Validation loss: 9.143\n",
            " 420 (210.00%) Train loss: 11.955 \t Validation loss: 9.138\n",
            " 430 (215.00%) Train loss: 11.948 \t Validation loss: 9.134\n",
            " 440 (220.00%) Train loss: 11.942 \t Validation loss: 9.131\n",
            " 450 (225.00%) Train loss: 11.937 \t Validation loss: 9.127\n",
            " 460 (230.00%) Train loss: 11.933 \t Validation loss: 9.125\n",
            " 470 (235.00%) Train loss: 11.929 \t Validation loss: 9.122\n",
            " 480 (240.00%) Train loss: 11.926 \t Validation loss: 9.120\n",
            " 490 (245.00%) Train loss: 11.923 \t Validation loss: 9.115\n",
            " 500 (250.00%) Train loss: 11.921 \t Validation loss: 9.113\n",
            " 510 (255.00%) Train loss: 11.919 \t Validation loss: 9.105\n",
            " 520 (260.00%) Train loss: 11.917 \t Validation loss: 9.107\n",
            " 530 (265.00%) Train loss: 11.915 \t Validation loss: 9.106\n",
            " 540 (270.00%) Train loss: 11.914 \t Validation loss: 9.100\n",
            " 550 (275.00%) Train loss: 11.913 \t Validation loss: 9.099\n",
            " 560 (280.00%) Train loss: 11.912 \t Validation loss: 9.099\n",
            " 570 (285.00%) Train loss: 11.911 \t Validation loss: 9.100\n",
            " 580 (290.00%) Train loss: 11.910 \t Validation loss: 9.097\n",
            " 590 (295.00%) Train loss: 11.909 \t Validation loss: 9.096\n",
            " 600 (300.00%) Train loss: 11.909 \t Validation loss: 9.094\n",
            " 610 (305.00%) Train loss: 11.908 \t Validation loss: 9.093\n",
            " 620 (310.00%) Train loss: 11.908 \t Validation loss: 9.096\n",
            " 630 (315.00%) Train loss: 11.907 \t Validation loss: 9.092\n",
            " 640 (320.00%) Train loss: 11.907 \t Validation loss: 9.096\n",
            " 650 (325.00%) Train loss: 11.907 \t Validation loss: 9.093\n",
            " 660 (330.00%) Train loss: 11.906 \t Validation loss: 9.093\n",
            " 670 (335.00%) Train loss: 11.906 \t Validation loss: 9.091\n",
            " 680 (340.00%) Train loss: 11.906 \t Validation loss: 9.089\n",
            " 690 (345.00%) Train loss: 11.906 \t Validation loss: 9.090\n",
            " 700 (350.00%) Train loss: 11.905 \t Validation loss: 9.088\n",
            " 710 (355.00%) Train loss: 11.905 \t Validation loss: 9.088\n",
            " 720 (360.00%) Train loss: 11.905 \t Validation loss: 9.087\n",
            " 730 (365.00%) Train loss: 11.905 \t Validation loss: 9.087\n",
            " 740 (370.00%) Train loss: 11.905 \t Validation loss: 9.086\n",
            " 750 (375.00%) Train loss: 11.904 \t Validation loss: 9.086\n",
            " 760 (380.00%) Train loss: 11.904 \t Validation loss: 9.085\n",
            " 770 (385.00%) Train loss: 11.904 \t Validation loss: 9.085\n",
            " 780 (390.00%) Train loss: 11.904 \t Validation loss: 9.084\n",
            " 790 (395.00%) Train loss: 11.904 \t Validation loss: 9.084\n",
            " 800 (400.00%) Train loss: 11.904 \t Validation loss: 9.083\n",
            " 810 (405.00%) Train loss: 11.903 \t Validation loss: 9.082\n",
            " 820 (410.00%) Train loss: 11.903 \t Validation loss: 9.081\n",
            " 830 (415.00%) Train loss: 11.903 \t Validation loss: 9.080\n",
            " 840 (420.00%) Train loss: 11.902 \t Validation loss: 9.079\n",
            " 850 (425.00%) Train loss: 11.902 \t Validation loss: 9.078\n",
            " 860 (430.00%) Train loss: 11.902 \t Validation loss: 9.077\n",
            " 870 (435.00%) Train loss: 11.901 \t Validation loss: 9.076\n",
            " 880 (440.00%) Train loss: 11.901 \t Validation loss: 9.075\n",
            " 890 (445.00%) Train loss: 11.901 \t Validation loss: 9.075\n",
            " 900 (450.00%) Train loss: 11.900 \t Validation loss: 9.074\n",
            " 910 (455.00%) Train loss: 11.900 \t Validation loss: 9.073\n",
            " 920 (460.00%) Train loss: 11.900 \t Validation loss: 9.072\n",
            " 930 (465.00%) Train loss: 11.900 \t Validation loss: 9.071\n",
            " 940 (470.00%) Train loss: 11.899 \t Validation loss: 9.070\n",
            " 950 (475.00%) Train loss: 11.899 \t Validation loss: 9.069\n",
            " 960 (480.00%) Train loss: 11.899 \t Validation loss: 9.069\n",
            " 970 (485.00%) Train loss: 11.899 \t Validation loss: 9.068\n",
            " 980 (490.00%) Train loss: 11.898 \t Validation loss: 9.067\n",
            " 990 (495.00%) Train loss: 11.898 \t Validation loss: 9.066\n",
            "1000 (500.00%) Train loss: 11.898 \t Validation loss: 9.065\n",
            "1010 (505.00%) Train loss: 11.898 \t Validation loss: 9.065\n",
            "1020 (510.00%) Train loss: 11.897 \t Validation loss: 9.064\n",
            "1030 (515.00%) Train loss: 11.897 \t Validation loss: 9.063\n",
            "1040 (520.00%) Train loss: 11.897 \t Validation loss: 9.062\n",
            "1050 (525.00%) Train loss: 11.897 \t Validation loss: 9.061\n",
            "1060 (530.00%) Train loss: 11.896 \t Validation loss: 9.061\n",
            "1070 (535.00%) Train loss: 11.896 \t Validation loss: 9.060\n",
            "1080 (540.00%) Train loss: 11.896 \t Validation loss: 9.059\n",
            "1090 (545.00%) Train loss: 11.896 \t Validation loss: 9.058\n",
            "1100 (550.00%) Train loss: 11.895 \t Validation loss: 9.058\n",
            "1110 (555.00%) Train loss: 11.895 \t Validation loss: 9.057\n",
            "1120 (560.00%) Train loss: 11.895 \t Validation loss: 9.056\n",
            "1130 (565.00%) Train loss: 11.895 \t Validation loss: 9.056\n",
            "1140 (570.00%) Train loss: 11.895 \t Validation loss: 9.055\n",
            "1150 (575.00%) Train loss: 11.894 \t Validation loss: 9.054\n",
            "1160 (580.00%) Train loss: 11.894 \t Validation loss: 9.054\n",
            "1170 (585.00%) Train loss: 11.894 \t Validation loss: 9.053\n",
            "1180 (590.00%) Train loss: 11.894 \t Validation loss: 9.052\n",
            "1190 (595.00%) Train loss: 11.894 \t Validation loss: 9.052\n",
            "1200 (600.00%) Train loss: 11.893 \t Validation loss: 9.051\n",
            "1210 (605.00%) Train loss: 11.893 \t Validation loss: 9.051\n",
            "1220 (610.00%) Train loss: 11.893 \t Validation loss: 9.050\n",
            "1230 (615.00%) Train loss: 11.893 \t Validation loss: 9.049\n",
            "1240 (620.00%) Train loss: 11.893 \t Validation loss: 9.049\n",
            "1250 (625.00%) Train loss: 11.893 \t Validation loss: 9.048\n",
            "1260 (630.00%) Train loss: 11.893 \t Validation loss: 9.047\n",
            "1270 (635.00%) Train loss: 11.892 \t Validation loss: 9.047\n",
            "1280 (640.00%) Train loss: 11.892 \t Validation loss: 9.046\n",
            "1290 (645.00%) Train loss: 11.892 \t Validation loss: 9.045\n",
            "1300 (650.00%) Train loss: 11.891 \t Validation loss: 9.044\n",
            "1310 (655.00%) Train loss: 11.890 \t Validation loss: 9.042\n",
            "1320 (660.00%) Train loss: 11.889 \t Validation loss: 9.041\n",
            "1330 (665.00%) Train loss: 11.888 \t Validation loss: 9.039\n",
            "1340 (670.00%) Train loss: 11.887 \t Validation loss: 9.038\n",
            "1350 (675.00%) Train loss: 11.886 \t Validation loss: 9.038\n",
            "1360 (680.00%) Train loss: 11.885 \t Validation loss: 9.034\n",
            "1370 (685.00%) Train loss: 11.884 \t Validation loss: 9.032\n",
            "1380 (690.00%) Train loss: 11.883 \t Validation loss: 9.031\n",
            "1390 (695.00%) Train loss: 11.881 \t Validation loss: 9.028\n",
            "1400 (700.00%) Train loss: 11.878 \t Validation loss: 9.025\n",
            "1410 (705.00%) Train loss: 11.876 \t Validation loss: 9.025\n",
            "1420 (710.00%) Train loss: 11.874 \t Validation loss: 9.022\n",
            "1430 (715.00%) Train loss: 11.872 \t Validation loss: 9.018\n",
            "1440 (720.00%) Train loss: 11.867 \t Validation loss: 9.012\n",
            "1450 (725.00%) Train loss: 11.862 \t Validation loss: 9.009\n",
            "1460 (730.00%) Train loss: 11.857 \t Validation loss: 9.006\n",
            "1470 (735.00%) Train loss: 11.850 \t Validation loss: 9.001\n",
            "1480 (740.00%) Train loss: 11.843 \t Validation loss: 8.997\n",
            "1490 (745.00%) Train loss: 11.836 \t Validation loss: 8.994\n",
            "1500 (750.00%) Train loss: 11.828 \t Validation loss: 8.991\n",
            "1510 (755.00%) Train loss: 11.820 \t Validation loss: 8.984\n",
            "1520 (760.00%) Train loss: 11.812 \t Validation loss: 8.981\n",
            "1530 (765.00%) Train loss: 11.805 \t Validation loss: 8.975\n",
            "1540 (770.00%) Train loss: 11.797 \t Validation loss: 8.971\n",
            "1550 (775.00%) Train loss: 11.788 \t Validation loss: 8.964\n",
            "1560 (780.00%) Train loss: 11.780 \t Validation loss: 8.955\n",
            "1570 (785.00%) Train loss: 11.770 \t Validation loss: 8.948\n",
            "1580 (790.00%) Train loss: 11.761 \t Validation loss: 8.941\n",
            "1590 (795.00%) Train loss: 11.751 \t Validation loss: 8.933\n",
            "1600 (800.00%) Train loss: 11.738 \t Validation loss: 8.928\n",
            "1610 (805.00%) Train loss: 11.724 \t Validation loss: 8.919\n",
            "1620 (810.00%) Train loss: 11.710 \t Validation loss: 8.908\n",
            "1630 (815.00%) Train loss: 11.695 \t Validation loss: 8.897\n",
            "1640 (820.00%) Train loss: 11.680 \t Validation loss: 8.888\n",
            "1650 (825.00%) Train loss: 11.668 \t Validation loss: 8.880\n",
            "1660 (830.00%) Train loss: 11.657 \t Validation loss: 8.874\n",
            "1670 (835.00%) Train loss: 11.646 \t Validation loss: 8.867\n",
            "1680 (840.00%) Train loss: 11.634 \t Validation loss: 8.859\n",
            "1690 (845.00%) Train loss: 11.623 \t Validation loss: 8.852\n",
            "1700 (850.00%) Train loss: 11.613 \t Validation loss: 8.846\n",
            "1710 (855.00%) Train loss: 11.604 \t Validation loss: 8.840\n",
            "1720 (860.00%) Train loss: 11.595 \t Validation loss: 8.834\n",
            "1730 (865.00%) Train loss: 11.586 \t Validation loss: 8.828\n",
            "1740 (870.00%) Train loss: 11.577 \t Validation loss: 8.821\n",
            "1750 (875.00%) Train loss: 11.568 \t Validation loss: 8.815\n",
            "1760 (880.00%) Train loss: 11.559 \t Validation loss: 8.812\n",
            "1770 (885.00%) Train loss: 11.550 \t Validation loss: 8.810\n",
            "1780 (890.00%) Train loss: 11.541 \t Validation loss: 8.797\n",
            "1790 (895.00%) Train loss: 11.532 \t Validation loss: 8.809\n",
            "1800 (900.00%) Train loss: 11.523 \t Validation loss: 8.783\n",
            "1810 (905.00%) Train loss: 11.515 \t Validation loss: 8.784\n",
            "1820 (910.00%) Train loss: 11.505 \t Validation loss: 8.791\n",
            "1830 (915.00%) Train loss: 11.496 \t Validation loss: 8.761\n",
            "1840 (920.00%) Train loss: 11.487 \t Validation loss: 8.756\n",
            "1850 (925.00%) Train loss: 11.478 \t Validation loss: 8.749\n",
            "1860 (930.00%) Train loss: 11.469 \t Validation loss: 8.741\n",
            "1870 (935.00%) Train loss: 11.460 \t Validation loss: 8.733\n",
            "1880 (940.00%) Train loss: 11.451 \t Validation loss: 8.724\n",
            "1890 (945.00%) Train loss: 11.442 \t Validation loss: 8.738\n",
            "1900 (950.00%) Train loss: 11.433 \t Validation loss: 8.720\n",
            "1910 (955.00%) Train loss: 11.423 \t Validation loss: 8.701\n",
            "1920 (960.00%) Train loss: 11.415 \t Validation loss: 8.702\n",
            "1930 (965.00%) Train loss: 11.405 \t Validation loss: 8.684\n",
            "1940 (970.00%) Train loss: 11.396 \t Validation loss: 8.685\n",
            "1950 (975.00%) Train loss: 11.387 \t Validation loss: 8.684\n",
            "1960 (980.00%) Train loss: 11.377 \t Validation loss: 8.682\n",
            "1970 (985.00%) Train loss: 11.368 \t Validation loss: 8.674\n",
            "1980 (990.00%) Train loss: 11.359 \t Validation loss: 8.665\n",
            "1990 (995.00%) Train loss: 11.350 \t Validation loss: 8.644\n"
          ]
        }
      ],
      "source": [
        "class NeuralNetwork:\n",
        "    def __init__(self):\n",
        "        self.network = [\n",
        "            DenseLayerInit('glorot', 'relu', 1, 8),\n",
        "            DenseLayerInit('glorot', 'id', 8, 1)\n",
        "        ]\n",
        "        \n",
        "        self.EPOCHS = 2000\n",
        "        self.LR = 9e-4\n",
        "        self.train_loss = []\n",
        "        self.val_loss = []\n",
        "        self.params = self.parameters()\n",
        "    \n",
        "    def parameters(self):\n",
        "        params = []\n",
        "        for layer in range(len(self.network)):\n",
        "            params += self.network[layer].parameters()\n",
        "        return params\n",
        "\n",
        "    def update_parameters(self):\n",
        "        for p in self.params:\n",
        "            p.v -= self.LR * p.grad\n",
        "\n",
        "    def zero_gradients(self):\n",
        "        for p in self.params:\n",
        "            p.grad = 0.0\n",
        "            \n",
        "    def train(self, x_train, y_train, x_validation, y_validation):\n",
        "        for e in range(self.EPOCHS):\n",
        "            # Forward pass and loss computation\n",
        "            Loss = squared_loss(y_train, forward(x_train, self.network))\n",
        "\n",
        "            # Backward pass\n",
        "            Loss.backward()\n",
        "\n",
        "            # gradient descent update\n",
        "            self.update_parameters()\n",
        "            self.zero_gradients()\n",
        "\n",
        "            # Training loss\n",
        "            self.train_loss.append(Loss.v)\n",
        "\n",
        "            # Validation\n",
        "            Loss_validation = squared_loss(y_validation, forward(x_validation, self.network))\n",
        "            self.val_loss.append(Loss_validation.v)\n",
        "\n",
        "            if e % 10 == 0:\n",
        "                print(\"{:4d}\".format(e),\n",
        "                    \"({:5.2f}%)\".format(e / self.EPOCHS * 100),\n",
        "                    \"Train loss: {:4.3f} \\t Validation loss: {:4.3f}\".format(self.train_loss[-1], self.val_loss[-1]))\n",
        "                \n",
        "net = NeuralNetwork()\n",
        "print(net.params)\n",
        "net.train(x_train, y_train, x_validation, y_validation)"
      ]
    },
    {
      "cell_type": "code",
      "execution_count": 46,
      "metadata": {},
      "outputs": [
        {
          "name": "stdout",
          "output_type": "stream",
          "text": [
            "Test loss:  9.361\n"
          ]
        }
      ],
      "source": [
        "output_test = forward(x_test, net.network)\n",
        "\n",
        "Loss_test = squared_loss(y_test, forward(x_test, net.network))\n",
        "\n",
        "print(\"Test loss:  {:4.3f}\".format(Loss_test.v))"
      ]
    }
  ],
  "metadata": {
    "anaconda-cloud": {},
    "colab": {
      "collapsed_sections": [
        "jpIZPBpNI0pO",
        "qsVPul3QFtIo",
        "APqhJv3tta1O"
      ],
      "provenance": []
    },
    "kernelspec": {
      "display_name": "deep-learn",
      "language": "python",
      "name": "python3"
    },
    "language_info": {
      "codemirror_mode": {
        "name": "ipython",
        "version": 3
      },
      "file_extension": ".py",
      "mimetype": "text/x-python",
      "name": "python",
      "nbconvert_exporter": "python",
      "pygments_lexer": "ipython3",
      "version": "3.12.3"
    }
  },
  "nbformat": 4,
  "nbformat_minor": 0
}
