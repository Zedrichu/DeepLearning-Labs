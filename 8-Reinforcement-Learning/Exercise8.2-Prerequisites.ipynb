{
 "cells": [
  {
   "cell_type": "markdown",
   "metadata": {},
   "source": [
    "# Prerequisites\n",
    "\n",
    "> By Jonas Busk ([jbusk@dtu.dk](mailto:jbusk@dtu.dk))\n",
    "\n",
    "**2019 update:** Changes have been made to the display of environments due to the previous `viewer` being incompatible with newer versions of Gym.\n",
    "\n",
    "**2022 update:** Rendering was disabled, and the notebook now uses the `colabgymrender` package to render a video.\n",
    "\n",
    "**2023 update:** Changed to packages `gymnasium` and `renderlab`, and to `CartPole-v1`.\n",
    "\n",
    "In this lab we will create neural network reinforcement learning agents with [PyTorch](https://pytorch.org/) to navigate various environments from [Gymnasium](https://github.com/Farama-Foundation/Gymnasium) originally developed by [OpenAI](https://openai.com/).\n",
    "\n",
    "Please refer to the [docs](https://gymnasium.farama.org) on how to get started with Gymnasium."
   ]
  },
  {
   "cell_type": "markdown",
   "metadata": {},
   "source": [
    "## Installation\n",
    "\n",
    "Below is a brief guide on how to install Gymnasium. For more details, please refer to the repository on [GitHub](https://gymnasium.farama.org) and the [docs](https://gym.openai.com/docs).\n",
    "\n",
    "You can do a minimal install of the packaged version of Gym directly from PyPI:\n",
    "\n",
    "```\n",
    "pip install gymnasium\n",
    "```\n",
    "\n",
    "If you run in Colab, you can do a quick pip install of Gym in the cell below:"
   ]
  },
  {
   "cell_type": "code",
   "execution_count": 8,
   "metadata": {},
   "outputs": [
    {
     "name": "stdout",
     "output_type": "stream",
     "text": [
      "Requirement already satisfied: gymnasium in /Users/adrianzvizdenco/Master -  Courses/DTU CSE/02456 Deep Learning/Course Labs/deep-learn/lib/python3.12/site-packages (1.0.0)\n",
      "Requirement already satisfied: numpy>=1.21.0 in /Users/adrianzvizdenco/Master -  Courses/DTU CSE/02456 Deep Learning/Course Labs/deep-learn/lib/python3.12/site-packages (from gymnasium) (1.26.4)\n",
      "Requirement already satisfied: cloudpickle>=1.2.0 in /Users/adrianzvizdenco/Master -  Courses/DTU CSE/02456 Deep Learning/Course Labs/deep-learn/lib/python3.12/site-packages (from gymnasium) (3.1.0)\n",
      "Requirement already satisfied: typing-extensions>=4.3.0 in /Users/adrianzvizdenco/Master -  Courses/DTU CSE/02456 Deep Learning/Course Labs/deep-learn/lib/python3.12/site-packages (from gymnasium) (4.12.2)\n",
      "Requirement already satisfied: farama-notifications>=0.0.1 in /Users/adrianzvizdenco/Master -  Courses/DTU CSE/02456 Deep Learning/Course Labs/deep-learn/lib/python3.12/site-packages (from gymnasium) (0.0.4)\n",
      "\n",
      "\u001b[1m[\u001b[0m\u001b[34;49mnotice\u001b[0m\u001b[1;39;49m]\u001b[0m\u001b[39;49m A new release of pip is available: \u001b[0m\u001b[31;49m24.2\u001b[0m\u001b[39;49m -> \u001b[0m\u001b[32;49m24.3.1\u001b[0m\n",
      "\u001b[1m[\u001b[0m\u001b[34;49mnotice\u001b[0m\u001b[1;39;49m]\u001b[0m\u001b[39;49m To update, run: \u001b[0m\u001b[32;49mpip install --upgrade pip\u001b[0m\n",
      "Requirement already satisfied: renderlab in /Users/adrianzvizdenco/Master -  Courses/DTU CSE/02456 Deep Learning/Course Labs/deep-learn/lib/python3.12/site-packages (0.1.20230421184216)\n",
      "Requirement already satisfied: moviepy in /Users/adrianzvizdenco/Master -  Courses/DTU CSE/02456 Deep Learning/Course Labs/deep-learn/lib/python3.12/site-packages (from renderlab) (1.0.3)\n",
      "Requirement already satisfied: gymnasium in /Users/adrianzvizdenco/Master -  Courses/DTU CSE/02456 Deep Learning/Course Labs/deep-learn/lib/python3.12/site-packages (from renderlab) (1.0.0)\n",
      "Requirement already satisfied: numpy>=1.21.0 in /Users/adrianzvizdenco/Master -  Courses/DTU CSE/02456 Deep Learning/Course Labs/deep-learn/lib/python3.12/site-packages (from gymnasium->renderlab) (1.26.4)\n",
      "Requirement already satisfied: cloudpickle>=1.2.0 in /Users/adrianzvizdenco/Master -  Courses/DTU CSE/02456 Deep Learning/Course Labs/deep-learn/lib/python3.12/site-packages (from gymnasium->renderlab) (3.1.0)\n",
      "Requirement already satisfied: typing-extensions>=4.3.0 in /Users/adrianzvizdenco/Master -  Courses/DTU CSE/02456 Deep Learning/Course Labs/deep-learn/lib/python3.12/site-packages (from gymnasium->renderlab) (4.12.2)\n",
      "Requirement already satisfied: farama-notifications>=0.0.1 in /Users/adrianzvizdenco/Master -  Courses/DTU CSE/02456 Deep Learning/Course Labs/deep-learn/lib/python3.12/site-packages (from gymnasium->renderlab) (0.0.4)\n",
      "Requirement already satisfied: decorator<5.0,>=4.0.2 in /Users/adrianzvizdenco/Master -  Courses/DTU CSE/02456 Deep Learning/Course Labs/deep-learn/lib/python3.12/site-packages (from moviepy->renderlab) (4.4.2)\n",
      "Requirement already satisfied: imageio<3.0,>=2.5 in /Users/adrianzvizdenco/Master -  Courses/DTU CSE/02456 Deep Learning/Course Labs/deep-learn/lib/python3.12/site-packages (from moviepy->renderlab) (2.36.0)\n",
      "Requirement already satisfied: imageio_ffmpeg>=0.2.0 in /Users/adrianzvizdenco/Master -  Courses/DTU CSE/02456 Deep Learning/Course Labs/deep-learn/lib/python3.12/site-packages (from moviepy->renderlab) (0.5.1)\n",
      "Requirement already satisfied: tqdm<5.0,>=4.11.2 in /Users/adrianzvizdenco/Master -  Courses/DTU CSE/02456 Deep Learning/Course Labs/deep-learn/lib/python3.12/site-packages (from moviepy->renderlab) (4.66.5)\n",
      "Requirement already satisfied: requests<3.0,>=2.8.1 in /Users/adrianzvizdenco/Master -  Courses/DTU CSE/02456 Deep Learning/Course Labs/deep-learn/lib/python3.12/site-packages (from moviepy->renderlab) (2.32.3)\n",
      "Requirement already satisfied: proglog<=1.0.0 in /Users/adrianzvizdenco/Master -  Courses/DTU CSE/02456 Deep Learning/Course Labs/deep-learn/lib/python3.12/site-packages (from moviepy->renderlab) (0.1.10)\n",
      "Requirement already satisfied: pillow>=8.3.2 in /Users/adrianzvizdenco/Master -  Courses/DTU CSE/02456 Deep Learning/Course Labs/deep-learn/lib/python3.12/site-packages (from imageio<3.0,>=2.5->moviepy->renderlab) (10.4.0)\n",
      "Requirement already satisfied: setuptools in /Users/adrianzvizdenco/Master -  Courses/DTU CSE/02456 Deep Learning/Course Labs/deep-learn/lib/python3.12/site-packages (from imageio_ffmpeg>=0.2.0->moviepy->renderlab) (72.2.0)\n",
      "Requirement already satisfied: charset-normalizer<4,>=2 in /Users/adrianzvizdenco/Master -  Courses/DTU CSE/02456 Deep Learning/Course Labs/deep-learn/lib/python3.12/site-packages (from requests<3.0,>=2.8.1->moviepy->renderlab) (3.3.2)\n",
      "Requirement already satisfied: idna<4,>=2.5 in /Users/adrianzvizdenco/Master -  Courses/DTU CSE/02456 Deep Learning/Course Labs/deep-learn/lib/python3.12/site-packages (from requests<3.0,>=2.8.1->moviepy->renderlab) (3.10)\n",
      "Requirement already satisfied: urllib3<3,>=1.21.1 in /Users/adrianzvizdenco/Master -  Courses/DTU CSE/02456 Deep Learning/Course Labs/deep-learn/lib/python3.12/site-packages (from requests<3.0,>=2.8.1->moviepy->renderlab) (2.2.3)\n",
      "Requirement already satisfied: certifi>=2017.4.17 in /Users/adrianzvizdenco/Master -  Courses/DTU CSE/02456 Deep Learning/Course Labs/deep-learn/lib/python3.12/site-packages (from requests<3.0,>=2.8.1->moviepy->renderlab) (2024.8.30)\n",
      "\n",
      "\u001b[1m[\u001b[0m\u001b[34;49mnotice\u001b[0m\u001b[1;39;49m]\u001b[0m\u001b[39;49m A new release of pip is available: \u001b[0m\u001b[31;49m24.2\u001b[0m\u001b[39;49m -> \u001b[0m\u001b[32;49m24.3.1\u001b[0m\n",
      "\u001b[1m[\u001b[0m\u001b[34;49mnotice\u001b[0m\u001b[1;39;49m]\u001b[0m\u001b[39;49m To update, run: \u001b[0m\u001b[32;49mpip install --upgrade pip\u001b[0m\n",
      "Requirement already satisfied: opencv-python in /Users/adrianzvizdenco/Master -  Courses/DTU CSE/02456 Deep Learning/Course Labs/deep-learn/lib/python3.12/site-packages (4.10.0.84)\n",
      "Requirement already satisfied: numpy>=1.21.2 in /Users/adrianzvizdenco/Master -  Courses/DTU CSE/02456 Deep Learning/Course Labs/deep-learn/lib/python3.12/site-packages (from opencv-python) (1.26.4)\n",
      "\n",
      "\u001b[1m[\u001b[0m\u001b[34;49mnotice\u001b[0m\u001b[1;39;49m]\u001b[0m\u001b[39;49m A new release of pip is available: \u001b[0m\u001b[31;49m24.2\u001b[0m\u001b[39;49m -> \u001b[0m\u001b[32;49m24.3.1\u001b[0m\n",
      "\u001b[1m[\u001b[0m\u001b[34;49mnotice\u001b[0m\u001b[1;39;49m]\u001b[0m\u001b[39;49m To update, run: \u001b[0m\u001b[32;49mpip install --upgrade pip\u001b[0m\n"
     ]
    }
   ],
   "source": [
    "!pip install gymnasium\n",
    "!pip install renderlab\n",
    "!pip install opencv-python"
   ]
  },
  {
   "cell_type": "markdown",
   "metadata": {},
   "source": [
    " **If run on your local machine**, you may need to install `gymnasium[classic-control]` by running the following line:"
   ]
  },
  {
   "cell_type": "code",
   "execution_count": null,
   "metadata": {},
   "outputs": [],
   "source": [
    "!pip uninstall \"gymnasium[classic-control]\"\n",
    "!pip uninstall moviepy"
   ]
  },
  {
   "cell_type": "markdown",
   "metadata": {},
   "source": [
    "## Running an environment\n",
    "\n",
    "Here is a bare minimum example of running a Gym environment. This creates an instance of the [CartPole-v0](https://gym.openai.com/envs/CartPole-v0) environment and runs until the rollout is done, taking random actions and rendering the environment at each step. With Gym installed, you should be able to see a small animation of the environment below."
   ]
  },
  {
   "cell_type": "code",
   "execution_count": null,
   "metadata": {},
   "outputs": [],
   "source": [
    "import os\n",
    "os.environ[\"IMAGEIO_FFMPEG_EXE\"] = \"/opt/homebrew/bin/ffmpeg\"\n",
    "import moviepy.editor as mpe\n",
    "mpe.ffmpeg_tools.ffmpeg_binary = \"/opt/homebrew/bin/ffmpeg\"\n",
    "import gymnasium as gym\n",
    "import renderlab as rl\n",
    "\n",
    "env = gym.make(\"CartPole-v1\", render_mode = \"rgb_array\") # Create the environment\n",
    "env = rl.RenderFrame(env, \"./output\") # Directory for the recorded video\n",
    "env.reset()\n",
    "\n",
    "# Run environment\n",
    "while True:\n",
    "    action = env.action_space.sample() # Get a random action\n",
    "    _, _, done, _, _ = env.step(action) # Take a step\n",
    "    if done: break # Break if environment is done\n",
    "\n",
    "env.close() # Close environment\n",
    "env.play() # Show the video"
   ]
  },
  {
   "cell_type": "markdown",
   "metadata": {},
   "source": [
    "Hooray! You now have a working `Gym` environment that we can take actions in and render."
   ]
  }
 ],
 "metadata": {
  "kernelspec": {
   "display_name": "deep-learn",
   "language": "python",
   "name": "python3"
  },
  "language_info": {
   "codemirror_mode": {
    "name": "ipython",
    "version": 3
   },
   "file_extension": ".py",
   "mimetype": "text/x-python",
   "name": "python",
   "nbconvert_exporter": "python",
   "pygments_lexer": "ipython3",
   "version": "3.12.3"
  }
 },
 "nbformat": 4,
 "nbformat_minor": 2
}
