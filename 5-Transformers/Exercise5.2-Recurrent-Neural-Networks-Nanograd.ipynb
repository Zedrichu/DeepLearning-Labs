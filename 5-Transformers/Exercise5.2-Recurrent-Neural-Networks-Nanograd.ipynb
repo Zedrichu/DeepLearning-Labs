{
 "cells": [
  {
   "cell_type": "markdown",
   "metadata": {
    "id": "y-CptVs7iACc"
   },
   "source": [
    "# Week 5 - Recurrent Neural Networks\n",
    "\n",
    "In this lab, we will introduce different ways of learning from sequential data.\n",
    "\n",
    "As a recurring example, we will train neural networks to do language modelling, i.e. predict the next token in a sentence. In the context of natural language processing a token could be a character or a word, but mind you that the concepts introduced here apply to all kinds of sequential data, such as e.g. protein sequences, weather measurements, audio signals, or videos, just to name a few.\n",
    "\n",
    "To really get a grasp of what is going on inside a recurrent neural network (RNN), we will carry out a substantial part of this exercise in Nanograd rather than PyTorch. \n",
    "\n",
    "We start off with a simple toy problem, build an RNN using Nanograd, train it, and see for ourselves that it really works. Once we're convinced, you will implement the Long Short-Term Memory (LSTM) cell, also in Nanograd. \n",
    "\n",
    "This is *not* simple but with the DenseLayer class we already have, it is doable. Having done it yourself will help you understand what happens under the hood of the PyTorch code we will use throughout the course.\n",
    "\n",
    "To summarize, in this notebook we will show you:\n",
    "* How to represent sequences of categorical variables\n",
    "* How to build and train an RNN in Nanograd\n",
    "* How to build and train an LSTM network in Nanograd\n",
    "* How to build and train an LSTM network in PyTorch\n",
    "\n",
    "\n",
    "[Numpy version of the Notebook (previous version)](https://github.com/DeepLearningDTU/02456-deep-learning-with-PyTorch/blob/master/5_Recurrent/OLD-5.1-Numpy-Recurrent-Neural-Networks.ipynb)"
   ]
  },
  {
   "cell_type": "markdown",
   "metadata": {
    "id": "XapO8SLwiACd"
   },
   "source": [
    "## Representing tokens or text\n",
    "\n",
    "In previous labs we mainly considered data $x \\in \\mathbb{R}^d$, where $d$ is the feature space dimension.\n",
    "With time sequences our data can be represented as $x \\in \\mathbb{R}^{t \\, \\times \\, d}$, where $t$ is the sequence length. \n",
    "This emphasises sequence dependence and that the samples along the sequence are not independent and identically distributed (i.i.d.).\n",
    "\n",
    "With RNNs, we can model both many-to-one functions: $\\mathbb{R}^{t \\, \\times \\, d} \\rightarrow \\mathbb{R}^c$ and many-to-many functions: $\\mathbb{R}^{t \\, \\times \\, d} \\rightarrow \\mathbb{R}^{t \\, \\times \\, c}$, where $c$ is the amount of classes/output dimensions.\n",
    "\n",
    "There are several ways to represent sequences. With text, the challenge is how to represent a word as a feature vector in $d$ dimensions, as we are required to represent text with decimal numbers in order to apply neural networks to it.\n",
    "\n",
    "In this exercise we will use a simple one-hot encoding but for categorical variables that can take on many values (e.g. words in the English language) this may be infeasible. For such scenarios, you can project the encodings into a smaller space by use of embeddings. If you want to learn more about tokens, encodings and embeddings than what is covered in this exercise, we highly recommend [this lecture](https://www.youtube.com/watch?v=kEMJRjEdNzM&list=PLoROMvodv4rOhcuXMZkNm7j3fVwBBY42z)."
   ]
  },
  {
   "cell_type": "markdown",
   "metadata": {
    "id": "bdA4LPsFiACe"
   },
   "source": [
    "### One-hot encoding over vocabulary\n",
    "\n",
    "One way to represent a fixed amount of words is by making a one-hot encoded vector, which consists of 0s in all cells with the exception of a single 1 in a cell used uniquely to identify each word.\n",
    "\n",
    "| vocabulary    | one-hot encoded vector   |\n",
    "| ------------- |--------------------------|\n",
    "| Paris         | $= [1, 0, 0, \\ldots, 0]$ |\n",
    "| Rome          | $= [0, 1, 0, \\ldots, 0]$ |\n",
    "| Copenhagen    | $= [0, 0, 1, \\ldots, 0]$ |\n",
    "\n",
    "Representing a large vocabulary with one-hot encodings often becomes inefficient because of the size of each sparse vector.\n",
    "To overcome this challenge it is common practice to truncate the vocabulary to contain the $k$ most used words and represent the rest with a special symbol, $\\mathtt{UNK}$, to define unknown/unimportant words.\n",
    "This often causes entities such as names to be represented with $\\mathtt{UNK}$ because they are rare.\n",
    "\n",
    "Consider the following text\n",
    "> I love the corny jokes in Spielberg's new movie.\n",
    "\n",
    "where an example result would be similar to\n",
    "> I love the corny jokes in $\\mathtt{UNK}$'s new movie."
   ]
  },
  {
   "cell_type": "markdown",
   "metadata": {
    "id": "KNmyPw7zk2gY"
   },
   "source": [
    "## Generating a dataset"
   ]
  },
  {
   "cell_type": "markdown",
   "metadata": {
    "id": "M9IEA4t2k2gb"
   },
   "source": [
    "For this exercise we will create a simple dataset that we can learn from. We generate sequences of the form:\n",
    "\n",
    "`a b EOS`,\n",
    "\n",
    "`a a b b EOS`,\n",
    "\n",
    "`a a a a a b b b b b EOS`\n",
    "\n",
    "where `EOS` is a special character denoting the end of a sequence. The task is to predict the next token $t_n$, i.e. `a`, `b`, `EOS` or the unknown token `UNK` given a sequence of tokens $\\{ t_{1}, t_{2}, \\dots , t_{n-1}\\}$, and we are to process sequences in a sequential manner. As such, the network will need to learn that e.g. 5 `b`s and an `EOS` token will follow 5 `a`s."
   ]
  },
  {
   "cell_type": "code",
   "execution_count": 1,
   "metadata": {
    "id": "dcoN-kb7k2gc"
   },
   "outputs": [
    {
     "name": "stdout",
     "output_type": "stream",
     "text": [
      "A single sample from the generated dataset:\n",
      "['a', 'a', 'a', 'b', 'b', 'b', 'EOS']\n"
     ]
    }
   ],
   "source": [
    "import numpy as np\n",
    "\n",
    "# Set seed such that we always get the same dataset\n",
    "# (this is a good idea in general)\n",
    "np.random.seed(42)\n",
    "\n",
    "def generate_dataset(num_sequences=2**5):\n",
    "    \"\"\"\n",
    "    Generates a number of sequences as our dataset.\n",
    "    \n",
    "    Args:\n",
    "     `num_sequences`: the number of sequences to be generated.\n",
    "     \n",
    "    Returns a list of sequences.\n",
    "    \"\"\"\n",
    "    samples = []\n",
    "    \n",
    "    for _ in range(num_sequences): \n",
    "        num_tokens = np.random.randint(1, 4)\n",
    "        sample = ['a'] * num_tokens + ['b'] * num_tokens + ['EOS']\n",
    "        samples.append(sample)\n",
    "        \n",
    "    return samples\n",
    "\n",
    "\n",
    "sequences = generate_dataset()\n",
    "\n",
    "print('A single sample from the generated dataset:')\n",
    "print(sequences[0])"
   ]
  },
  {
   "cell_type": "markdown",
   "metadata": {
    "id": "YMLd3Gzak2gp"
   },
   "source": [
    "## Representing tokens as indices"
   ]
  },
  {
   "cell_type": "markdown",
   "metadata": {
    "id": "S9LSqaJSk2gp"
   },
   "source": [
    "To build a one-hot encoding, we need to assign each possible word in our vocabulary an index. We do that by creating two dictionaries: one that allows us to go from a given word to its corresponding index in our vocabulary, and one for the reverse direction. Let's call them `word_to_idx` and `idx_to_word`. The keyword `vocab_size` specifies the maximum size of our vocabulary. If we try to access a word that does not exist in our vocabulary, it is automatically replaced by the `UNK` token or its corresponding index."
   ]
  },
  {
   "cell_type": "markdown",
   "metadata": {
    "id": "sNY1OOS_k2gy"
   },
   "source": [
    "## Exercise a) Sequence to dictionary function \n",
    "\n",
    "Complete the sequences_to_dicts function below. You will need to fill the word_to_idx and idx_to_word dictionaries so that we can go back and forth between the two representations."
   ]
  },
  {
   "cell_type": "code",
   "execution_count": 3,
   "metadata": {
    "id": "Smdo70UMk2gr"
   },
   "outputs": [
    {
     "name": "stdout",
     "output_type": "stream",
     "text": [
      "We have 32 sentences and 4 unique tokens in our dataset (including UNK).\n",
      "\n",
      "The index of 'b' is 1\n",
      "The word corresponding to index 1 is 'b'\n"
     ]
    }
   ],
   "source": [
    "from collections import defaultdict\n",
    "\n",
    "def sequences_to_dicts(sequences):\n",
    "    \"\"\"\n",
    "    Creates word_to_idx and idx_to_word dictionaries for a list of sequences.\n",
    "    \"\"\"\n",
    "    # A bit of Python-magic to flatten a nested list\n",
    "    flatten = lambda l: [item for sublist in l for item in sublist]\n",
    "    \n",
    "    # Flatten the dataset\n",
    "    all_words = flatten(sequences)\n",
    "    \n",
    "    # Count number of word occurences\n",
    "    word_count = defaultdict(int)\n",
    "    for word in flatten(sequences):\n",
    "        word_count[word] += 1\n",
    "\n",
    "    # Sort by frequency\n",
    "    word_count = sorted(list(word_count.items()), key=lambda l: -l[1])\n",
    "\n",
    "    # Create a list of all unique words\n",
    "    unique_words = [item[0] for item in word_count]\n",
    "    \n",
    "    # Add UNK token to list of words\n",
    "    unique_words.append('UNK')\n",
    "\n",
    "    # Count number of sequences and number of unique words\n",
    "    num_sentences, vocab_size = len(sequences), len(unique_words)\n",
    "\n",
    "    # Create dictionaries so that we can go from word to index and back\n",
    "    # If a word is not in our vocabulary, we assign it to token 'UNK'\n",
    "    word_to_idx = defaultdict(lambda: vocab_size-1)\n",
    "    idx_to_word = defaultdict(lambda: 'UNK')\n",
    "\n",
    "    # Fill dictionaries\n",
    "    for idx, word in enumerate(unique_words):\n",
    "        word_to_idx[word] = idx \n",
    "        idx_to_word[idx] = word\n",
    "\n",
    "    return word_to_idx, idx_to_word, num_sentences, vocab_size\n",
    "\n",
    "\n",
    "word_to_idx, idx_to_word, num_sequences, vocab_size = sequences_to_dicts(sequences)\n",
    "\n",
    "print(f'We have {num_sequences} sentences and {len(word_to_idx)} unique tokens in our dataset (including UNK).\\n')\n",
    "print('The index of \\'b\\' is', word_to_idx['b'])\n",
    "print(f'The word corresponding to index 1 is \\'{idx_to_word[1]}\\'')\n",
    "\n",
    "assert idx_to_word[word_to_idx['b']] == 'b', \\\n",
    "    'Consistency error: something went wrong in the conversion.'"
   ]
  },
  {
   "cell_type": "markdown",
   "metadata": {
    "id": "cGSoDRgHk2g1"
   },
   "source": [
    "## Partitioning the dataset"
   ]
  },
  {
   "cell_type": "markdown",
   "metadata": {
    "id": "UMTn1iLIk2g1"
   },
   "source": [
    "To build our dataset, we need to create inputs and targets for each sequences and partition sentences it into training, validation and test sets. 80%, 10% and 10% is a common distribution, but mind you that this largely depends on the size of the dataset. Since we are doing next-word predictions, our target sequence is simply the input sequence shifted by one word.\n",
    "\n",
    "We can use PyTorch's `Dataset` class to build a simple dataset where we can easily retrieve (inputs, targets) pairs for each of our sequences."
   ]
  },
  {
   "cell_type": "code",
   "execution_count": 4,
   "metadata": {
    "id": "9dW7MrPnk2g3"
   },
   "outputs": [
    {
     "name": "stdout",
     "output_type": "stream",
     "text": [
      "We have 25 samples in the training set.\n",
      "We have 3 samples in the validation set.\n",
      "We have 3 samples in the test set.\n"
     ]
    }
   ],
   "source": [
    "from torch.utils import data\n",
    "\n",
    "class Dataset(data.Dataset):\n",
    "    def __init__(self, inputs, targets):\n",
    "        self.inputs = inputs\n",
    "        self.targets = targets\n",
    "\n",
    "    def __len__(self):\n",
    "        # Return the size of the dataset\n",
    "        return len(self.targets)\n",
    "\n",
    "    def __getitem__(self, index):\n",
    "        # Retrieve inputs and targets at the given index\n",
    "        X = self.inputs[index]\n",
    "        y = self.targets[index]\n",
    "\n",
    "        return X, y\n",
    "\n",
    "    \n",
    "def create_datasets(sequences, dataset_class, p_train=0.8, p_val=0.1, p_test=0.1):\n",
    "    # Define partition sizes\n",
    "    num_train = int(len(sequences)*p_train)\n",
    "    num_val = int(len(sequences)*p_val)\n",
    "    num_test = int(len(sequences)*p_test)\n",
    "\n",
    "    # Split sequences into partitions\n",
    "    sequences_train = sequences[:num_train]\n",
    "    sequences_val = sequences[num_train:num_train+num_val]\n",
    "    sequences_test = sequences[-num_test:]\n",
    "\n",
    "    def get_inputs_targets_from_sequences(sequences):\n",
    "        # Define empty lists\n",
    "        inputs, targets = [], []\n",
    "        \n",
    "        # Append inputs and targets s.t. both lists contain L-1 words of a sentence of length L\n",
    "        # but targets are shifted right by one so that we can predict the next word\n",
    "        for sequence in sequences:\n",
    "            inputs.append(sequence[:-1])\n",
    "            targets.append(sequence[1:])\n",
    "            \n",
    "        return inputs, targets\n",
    "\n",
    "    # Get inputs and targets for each partition\n",
    "    inputs_train, targets_train = get_inputs_targets_from_sequences(sequences_train)\n",
    "    inputs_val, targets_val = get_inputs_targets_from_sequences(sequences_val)\n",
    "    inputs_test, targets_test = get_inputs_targets_from_sequences(sequences_test)\n",
    "\n",
    "    # Create datasets\n",
    "    training_set = dataset_class(inputs_train, targets_train)\n",
    "    validation_set = dataset_class(inputs_val, targets_val)\n",
    "    test_set = dataset_class(inputs_test, targets_test)\n",
    "\n",
    "    return training_set, validation_set, test_set\n",
    "    \n",
    "\n",
    "training_set, validation_set, test_set = create_datasets(sequences, Dataset)\n",
    "\n",
    "print(f'We have {len(training_set)} samples in the training set.')\n",
    "print(f'We have {len(validation_set)} samples in the validation set.')\n",
    "print(f'We have {len(test_set)} samples in the test set.')"
   ]
  },
  {
   "cell_type": "markdown",
   "metadata": {
    "id": "4xMMSm7Mk2g9"
   },
   "source": [
    "When working with more complex data than what we use in this exercise, creating a PyTorch `DataLoader` on top of the dataset can be beneficial. A data loader is basically a fancy generator/iterator that we can use to abstract away all of the data handling and pre-processing + it's super useful for processing batches of data as well! Data loaders will come in handy later when you start to work on your projects, so be sure to check them out!\n",
    "\n",
    "For more information on how to use datasets and data loaders in PyTorch, [consult the official guide](https://pytorch.org/tutorials/beginner/data_loading_tutorial.html)."
   ]
  },
  {
   "cell_type": "markdown",
   "metadata": {
    "id": "t-rfgDfZeMQ6"
   },
   "source": [
    "## Nanograd utilities"
   ]
  },
  {
   "cell_type": "markdown",
   "metadata": {
    "id": "oRO5ssg0eQMK"
   },
   "source": [
    "We load necessary utility functions for the Nanograd library, which we saw in Lab 2."
   ]
  },
  {
   "cell_type": "code",
   "execution_count": 160,
   "metadata": {
    "id": "Jd4CoEBNzNWS"
   },
   "outputs": [],
   "source": [
    "# Copy and pasted from https://github.com/rasmusbergpalm/nanograd/blob/main/nanograd.py\n",
    "\n",
    "from math import exp, log, tanh\n",
    "\n",
    "class Var:\n",
    "    \"\"\"\n",
    "    A variable which holds a float and enables gradient computations.\n",
    "    \"\"\"\n",
    "\n",
    "    def __init__(self, val: float, grad_fn=lambda: []):\n",
    "        assert type(val) == float\n",
    "        self.v = val\n",
    "        self.grad_fn = grad_fn\n",
    "        self.grad = 0.0\n",
    "\n",
    "    def backprop(self, bp):\n",
    "        self.grad += bp\n",
    "        for input, grad in self.grad_fn():\n",
    "            input.backprop(grad * bp)\n",
    "\n",
    "    def backward(self):\n",
    "        self.backprop(1.0)\n",
    "\n",
    "    def __add__(self: 'Var', other: 'Var') -> 'Var':\n",
    "        return Var(self.v + other.v, lambda: [(self, 1.0), (other, 1.0)])\n",
    "\n",
    "    def __mul__(self: 'Var', other: 'Var') -> 'Var':\n",
    "        return Var(self.v * other.v, lambda: [(self, other.v), (other, self.v)])\n",
    "\n",
    "    def __pow__(self, power):\n",
    "        assert type(power) in {float, int}, \"power must be float or int\"\n",
    "        return Var(self.v ** power, lambda: [(self, power * self.v ** (power - 1))])\n",
    "\n",
    "    def __neg__(self: 'Var') -> 'Var':\n",
    "        return Var(-1.0) * self\n",
    "\n",
    "    def __sub__(self: 'Var', other: 'Var') -> 'Var':\n",
    "        return self + (-other)\n",
    "\n",
    "    def __truediv__(self: 'Var', other: 'Var') -> 'Var':\n",
    "        return self * other ** -1\n",
    "\n",
    "    def __repr__(self):\n",
    "        return \"Var(v=%.4f, grad=%.4f)\" % (self.v, self.grad)\n",
    "    \n",
    "    def exp(self):\n",
    "        return Var(exp(self.v), lambda: [(self, exp(self.v))])\n",
    "    \n",
    "    def log(self):\n",
    "        return Var(log(self.v), lambda: [(self, self.v ** -1)])\n",
    "\n",
    "    def relu(self):\n",
    "        return Var(self.v if self.v > 0.0 else 0.0, lambda: [(self, 1.0 if self.v > 0.0 else 0.0)])\n",
    "    \n",
    "    def identity(self):\n",
    "        return self\n",
    "\n",
    "    def sigmoid(self):\n",
    "        return Var(0.5) * (Var(1.0) + (Var(0.5) * self).tanh()) # logistic function is a scaled and shifted version of tanh\n",
    "    \n",
    "    def tanh(self):\n",
    "        return Var(tanh(self.v), lambda: [(self, 1-tanh(self.v) ** 2)])"
   ]
  },
  {
   "cell_type": "code",
   "execution_count": 161,
   "metadata": {
    "id": "9AMqMsiseMfz"
   },
   "outputs": [],
   "source": [
    "# convert from ndarray to Var\n",
    "def nparray_to_Var(x):\n",
    "  if x.ndim==1:\n",
    "    y = [[Var(float(x[i]))] for i in range(x.shape[0])] # always work with list of list\n",
    "  else:\n",
    "    y = [[Var(float(x[i,j])) for j in range(x.shape[1])] for i in range(x.shape[0])]\n",
    "  return y\n",
    "\n",
    "# convert from Var to ndarray  \n",
    "def Var_to_nparray(x):\n",
    "  try:\n",
    "    y = np.zeros((len(x),len(x[0])))\n",
    "    for i in range(len(x)):\n",
    "      for j in range(len(x[0])):\n",
    "        y[i,j] = x[i][j].v\n",
    "  except TypeError:\n",
    "    y = np.zeros((len(x)))\n",
    "    for i in range(len(x)):\n",
    "      y[i] = x[i].v\n",
    "\n",
    "  return y"
   ]
  },
  {
   "cell_type": "code",
   "execution_count": 162,
   "metadata": {
    "id": "ij_ieRsAt7Xt"
   },
   "outputs": [],
   "source": [
    "class Initializer:\n",
    "\n",
    "  def init_weights(self, n_in, n_out):\n",
    "    raise NotImplementedError\n",
    "\n",
    "  def init_bias(self, n_out):\n",
    "    raise NotImplementedError"
   ]
  },
  {
   "cell_type": "code",
   "execution_count": 163,
   "metadata": {
    "id": "eb18N5phuIha"
   },
   "outputs": [],
   "source": [
    "import random\n",
    "\n",
    "class NormalInitializer(Initializer):\n",
    "\n",
    "  def __init__(self, mean=0, std=0.1):\n",
    "    self.mean = mean\n",
    "    self.std = std\n",
    "\n",
    "  def init_weights(self, n_in, n_out):\n",
    "    return [[Var(random.gauss(self.mean, self.std)) for _ in range(n_out)] for _ in range(n_in)]\n",
    "\n",
    "  def init_bias(self, n_out):\n",
    "    return [Var(0.0) for _ in range(n_out)]\n",
    "\n",
    "class ConstantInitializer(Initializer):\n",
    "\n",
    "  def __init__(self, weight=1.0, bias=0.0):\n",
    "    self.weight = weight\n",
    "    self.bias = bias\n",
    "\n",
    "  def init_weights(self, n_in, n_out):\n",
    "    return [[Var(self.weight) for _ in range(n_out)] for _ in range(n_in)]\n",
    "\n",
    "  def init_bias(self, n_out):\n",
    "    return [Var(self.bias) for _ in range(n_out)]"
   ]
  },
  {
   "cell_type": "markdown",
   "metadata": {
    "id": "Dzmryk72k2g-"
   },
   "source": [
    "## One-hot encodings"
   ]
  },
  {
   "cell_type": "markdown",
   "metadata": {
    "id": "abRN9f8Xk2g_"
   },
   "source": [
    "We now create a simple function that returns the one-hot encoded representation of a given index of a word in our vocabulary. Notice that the shape of the one-hot encoding is equal to the entire vocabulary (which can be huge!). Additionally, we define a function to automatically one-hot encode a sentence."
   ]
  },
  {
   "cell_type": "code",
   "execution_count": 164,
   "metadata": {
    "id": "IZruCIHJk2hB"
   },
   "outputs": [
    {
     "name": "stdout",
     "output_type": "stream",
     "text": [
      "Our one-hot encoding of 'a' has shape (1, 4).\n",
      "Our one-hot encoding of 'a b' has shape (2, 4).\n",
      "[[Var(v=1.0000, grad=0.0000), Var(v=0.0000, grad=0.0000), Var(v=0.0000, grad=0.0000), Var(v=0.0000, grad=0.0000)]]\n",
      "[[Var(v=1.0000, grad=0.0000), Var(v=0.0000, grad=0.0000), Var(v=0.0000, grad=0.0000), Var(v=0.0000, grad=0.0000)], [Var(v=0.0000, grad=0.0000), Var(v=1.0000, grad=0.0000), Var(v=0.0000, grad=0.0000), Var(v=0.0000, grad=0.0000)]]\n"
     ]
    },
    {
     "name": "stderr",
     "output_type": "stream",
     "text": [
      "/var/folders/qs/5nthhxwd0mvfmc02zfmpp2380000gn/T/ipykernel_56415/170811074.py:6: DeprecationWarning: Conversion of an array with ndim > 0 to a scalar is deprecated, and will error in future. Ensure you extract a single element from your array before performing this operation. (Deprecated NumPy 1.25.)\n",
      "  y = [[Var(float(x[i,j])) for j in range(x.shape[1])] for i in range(x.shape[0])]\n"
     ]
    }
   ],
   "source": [
    "def one_hot_encode(idx, vocab_size):\n",
    "    \"\"\"\n",
    "    One-hot encodes a single word given its index and the size of the vocabulary.\n",
    "    \n",
    "    Args:\n",
    "     `idx`: the index of the given word\n",
    "     `vocab_size`: the size of the vocabulary\n",
    "    \n",
    "    Returns a 1-D numpy array of length `vocab_size`.\n",
    "    \"\"\"\n",
    "    # Initialize the encoded array\n",
    "    one_hot = np.array([np.zeros(vocab_size)])\n",
    "    \n",
    "    # Set the appropriate element to one\n",
    "    one_hot[0][idx] = 1.0\n",
    "    return nparray_to_Var(one_hot)\n",
    "\n",
    "\n",
    "def one_hot_encode_sequence(sequence, vocab_size):\n",
    "    \"\"\"\n",
    "    One-hot encodes a sequence of words given a fixed vocabulary size.\n",
    "    \n",
    "    Args:\n",
    "     `sentence`: a list of words to encode\n",
    "     `vocab_size`: the size of the vocabulary\n",
    "     \n",
    "    Returns a 3-D numpy array of shape (num words, vocab size, 1).\n",
    "    \"\"\"\n",
    "    # Encode each word in the sentence\n",
    "    encoding = np.array([Var_to_nparray(one_hot_encode(word_to_idx[word], vocab_size)) for word in sequence])\n",
    "\n",
    "    # Reshape encoding s.t. it has shape (num words, vocab size, 1)\n",
    "    encoding = encoding.reshape(encoding.shape[0], encoding.shape[2], 1)\n",
    "    return nparray_to_Var(encoding)\n",
    "\n",
    "test_word = one_hot_encode(word_to_idx['a'], vocab_size)\n",
    "print(f'Our one-hot encoding of \\'a\\' has shape {Var_to_nparray(test_word).shape}.')\n",
    "\n",
    "test_sentence = one_hot_encode_sequence(['a', 'b'], vocab_size)\n",
    "print(f'Our one-hot encoding of \\'a b\\' has shape {Var_to_nparray(test_sentence).shape}.')\n",
    "\n",
    "print(test_word)\n",
    "print(test_sentence)"
   ]
  },
  {
   "cell_type": "code",
   "execution_count": 165,
   "metadata": {
    "id": "JT6BqYrU_NxQ"
   },
   "outputs": [
    {
     "name": "stderr",
     "output_type": "stream",
     "text": [
      "/var/folders/qs/5nthhxwd0mvfmc02zfmpp2380000gn/T/ipykernel_56415/170811074.py:6: DeprecationWarning: Conversion of an array with ndim > 0 to a scalar is deprecated, and will error in future. Ensure you extract a single element from your array before performing this operation. (Deprecated NumPy 1.25.)\n",
      "  y = [[Var(float(x[i,j])) for j in range(x.shape[1])] for i in range(x.shape[0])]\n"
     ]
    }
   ],
   "source": [
    "encoded_training_set_x = []\n",
    "encoded_training_set_y = []\n",
    "encoded_validation_set_x = []\n",
    "encoded_validation_set_y = []\n",
    "encoded_test_set_x = []\n",
    "encoded_test_set_y = []\n",
    "\n",
    "for n in range(len(training_set)):\n",
    "  encoded_training_set_x.append(one_hot_encode_sequence(training_set[n][0], vocab_size))\n",
    "  encoded_training_set_y.append(one_hot_encode_sequence(training_set[n][1], vocab_size))\n",
    "for n in range(len(validation_set)):\n",
    "  encoded_validation_set_x.append(one_hot_encode_sequence(validation_set[n][0], vocab_size))\n",
    "  encoded_validation_set_y.append(one_hot_encode_sequence(validation_set[n][1], vocab_size))\n",
    "for n in range(len(test_set)):\n",
    "  encoded_test_set_x.append(one_hot_encode_sequence(test_set[n][0], vocab_size))\n",
    "  encoded_test_set_y.append(one_hot_encode_sequence(test_set[n][1], vocab_size))"
   ]
  },
  {
   "cell_type": "markdown",
   "metadata": {
    "id": "erI_MXvKk2hG"
   },
   "source": [
    "Great! Now that we have our one-hot encodings in place, we can move on to the RNNs!"
   ]
  },
  {
   "cell_type": "markdown",
   "metadata": {
    "id": "MA6bxjGWjeSB"
   },
   "source": [
    "# Introduction to Recurrent Neural Networks (RNN)\n",
    "\n",
    "Reading material: [blog post](http://karpathy.github.io/2015/05/21/rnn-effectiveness/) and (optionally) [this lecture](https://www.youtube.com/watch?v=iWea12EAu6U&list=PLoROMvodv4rOhcuXMZkNm7j3fVwBBY42z).\n",
    "\n",
    "___\n",
    "\n",
    "A recurrent neural network (RNN) is a type of neural network that has been succesful in modelling sequential data, e.g. language, speech, protein sequences, etc.\n",
    "\n",
    "A RNN performs its computations in a cyclic manner, where the same computation is applied to every sample of a given sequence.\n",
    "The idea is that the network should be able to use the previous computations as some form of memory and apply this to future computations.\n",
    "An image may best explain how this is to be understood,\n",
    "\n",
    "![rnn-unroll image](https://github.com/DeepLearningDTU/02456-deep-learning-with-PyTorch/blob/master/static_files/rnn-unfold.png?raw=1)\n",
    "\n",
    "\n",
    "where it the network contains the following elements:\n",
    "\n",
    "- $x$ is the input sequence of samples, \n",
    "- $U$ is a weight matrix applied to the given input sample,\n",
    "- $V$ is a weight matrix used for the recurrent computation in order to pass memory along the sequence,\n",
    "- $W$ is a weight matrix used to compute the output of the every timestep (given that every timestep requires an output),\n",
    "- $h$ is the hidden state (the network's memory) for a given time step, and\n",
    "- $o$ is the resulting output.\n",
    "\n",
    "When the network is unrolled as shown, it is easier to refer to a timestep, $t$.\n",
    "We have the following computations through the network:\n",
    "\n",
    "- $h_t = f(U\\,{x_t} + V\\,{h_{t-1}})$, where $f$ is a non-linear activation function, e.g. $\\mathrm{tanh}$.\n",
    "- $o_t = W\\,{h_t}$\n",
    "\n",
    "When we are doing language modelling using a cross-entropy loss, we additionally apply the softmax function to the output $o_{t}$:\n",
    "\n",
    "- $\\hat{y}_t = \\mathrm{softmax}(o_{t})$\n",
    "\n",
    "\n",
    "### Backpropagation through time\n",
    "\n",
    "We define a loss function\n",
    "\n",
    "- $E = \\sum_t E_t  = \\sum_t E_t(y_t ,\\hat{y}_t ) \\ , $\n",
    "\n",
    "where $E_t(y_t ,\\hat{y}_t )$ is the cross-entropy function.\n",
    "\n",
    "Backpropagation through time amounts to computing the gradients of the loss using the same type of clever bookkeeping we applied to the feed-forward network in week 1. This you will do in Exercise D."
   ]
  },
  {
   "cell_type": "markdown",
   "metadata": {
    "id": "GuvwbvsGz9KE"
   },
   "source": [
    "## Implementing an RNN\n",
    "\n",
    "We will implement the forward pass, backward pass, optimization and training loop for an RNN in Nanograd so that you can get familiar with the recurrent nature of RNNs. Later, we will go back to PyTorch."
   ]
  },
  {
   "cell_type": "markdown",
   "metadata": {
    "id": "gfbfcB-NJZuM"
   },
   "source": [
    "We define the Nanograd DenseLayer class from [lab 2](https://github.com/DeepLearningDTU/02456-deep-learning-with-PyTorch/blob/master/2_Feedforward_Python/2.1-EXE-FNN-AutoDif-Nanograd.ipynb) with a few additions:\n",
    "* the option use_bias to define a layer without bias. This is useful when we define the recurrent layer and\n",
    "* a method forward_sequence which is useful when a DenseLayer is used as part of a recurrent neural network"
   ]
  },
  {
   "cell_type": "code",
   "execution_count": 267,
   "metadata": {
    "id": "TqkVyEEACHKS"
   },
   "outputs": [],
   "source": [
    "from typing import Sequence\n",
    "\n",
    "class DenseLayer:\n",
    "    def __init__(self, n_in: int, n_out: int, act_fn, initializer = NormalInitializer(), use_bias=True):\n",
    "        self.weights = initializer.init_weights(n_in, n_out)\n",
    "        self.use_bias = use_bias\n",
    "        if use_bias:\n",
    "          self.bias = initializer.init_bias(n_out)\n",
    "        self.act_fn = act_fn\n",
    "    \n",
    "    def __repr__(self):    \n",
    "        return 'Weights: ' + repr(self.weights) + (' Biases: ' + repr(self.bias) if self.use_bias else '')\n",
    "\n",
    "    def parameters(self) -> Sequence[Var]:\n",
    "      params = []\n",
    "      for r in self.weights:\n",
    "        params += r\n",
    "\n",
    "      if self.use_bias:\n",
    "        params += self.bias\n",
    "\n",
    "      return params\n",
    "\n",
    "    def forward(self, input: Sequence[Var]) -> Sequence[Var]:\n",
    "        # self.weights is a matrix with dimension n_in x n_out. We check that the dimensionality of the input \n",
    "        # to the current layer matches the number of nodes in the current layer\n",
    "        assert len(self.weights) == len(input), \"weights and input must match in first dimension\"\n",
    "        weights = self.weights\n",
    "        out = []\n",
    "        # For some given data point single_input, we now want to calculate the resulting value in each node in the current layer\n",
    "        # We therefore loop over the (number of) nodes in the current layer:\n",
    "        for j in range(len(weights[0])): \n",
    "            # Initialize the node value depending on its corresponding parameters.\n",
    "            node = self.bias[j] if self.use_bias else Var(0.0)\n",
    "            # We now finish the linear transformation corresponding to the parameters of the currently considered node.\n",
    "            for i in range(len(input)):\n",
    "                node += input[i] * weights[i][j]\n",
    "            node = self.act_fn(node)\n",
    "            out.append(node)\n",
    "\n",
    "        return out\n",
    "    \n",
    "    def forward_sequence(self, input: Sequence[Sequence[Var]]) -> Sequence[Sequence[Var]]:\n",
    "        out = []\n",
    "        for i in range(len(input)): \n",
    "            node = self.forward(input[i])\n",
    "            out.append(node)\n",
    "        return out"
   ]
  },
  {
   "cell_type": "markdown",
   "metadata": {
    "id": "qDKFjjQEM-xX"
   },
   "source": [
    "## Exercise b) The RNNLayer class\n",
    "\n",
    "Complete the RNNLayer class below.\n",
    "\n",
    "Explain how we reuse the DenseLayer class.\n",
    "\n",
    "Explain what the forward and the forward_sequence method do."
   ]
  },
  {
   "cell_type": "code",
   "execution_count": 268,
   "metadata": {
    "id": "IcM1N6PQrT7l"
   },
   "outputs": [],
   "source": [
    "from typing import Sequence\n",
    "\n",
    "class RNNLayer:\n",
    "    def __init__(self, n_in: int, n_hid: int, act_fn, initializer = NormalInitializer(), initializer_hid = NormalInitializer()):\n",
    "        self.n_hid = n_hid\n",
    "        self.in_hid_layer = DenseLayer(n_in, n_hid, lambda x: x, initializer)\n",
    "        self.hid_hid_layer = DenseLayer (n_hid, n_hid, lambda x: x, initializer_hid, use_bias=False) # we already get a bias through in_hid_layer        \n",
    "        self.initial_hid = [Var(0.0) for _ in range(n_hid)]\n",
    "        self.stored_hid = [Var(0.0) for _ in range(n_hid)]\n",
    "        self.act_fn = act_fn\n",
    "    \n",
    "    def __repr__(self):    \n",
    "        return 'Feed-forward: ' + repr(self.in_hid_layer) + '\\nRecurrent: ' + repr(self.hid_hid_layer) + '\\nInitial hidden: ' + repr(self.initial_hid)\n",
    "\n",
    "    def parameters(self) -> Sequence[Var]:      \n",
    "      return self.in_hid_layer.parameters() + self.hid_hid_layer.parameters() + self.initial_hid\n",
    "\n",
    "    def forward_step(self, input: Sequence[Var], input_hid: Sequence[Var]) -> Sequence[Var]:\n",
    "        in_hids = self.in_hid_layer.forward(input)  # contribution from input U @ x_t\n",
    "        hid_hids = self.hid_hid_layer.forward(input_hid)  # contribution from hidden state V @ h_t-1\n",
    "\n",
    "        hids = []\n",
    "        for i in range(self.n_hid):\n",
    "          hids.append(self.act_fn(in_hids[i] + hid_hids[i])) # combining contributions into h_t\n",
    "\n",
    "        return hids\n",
    "    \n",
    "    def forward_sequence(self, input: Sequence[Sequence[Var]], use_stored_hid = False) -> Sequence[Sequence[Var]]:\n",
    "        out = []\n",
    "        if use_stored_hid:\n",
    "            hid = self.stored_hid\n",
    "        else:\n",
    "            hid = self.initial_hid\n",
    "        # Takes a sequence and loops over each character in the sequence. Note that each character has dimension equal to the embedding dimension\n",
    "        for i in range(len(input)):\n",
    "            hid = self.forward_step(input[i], hid)\n",
    "            out.append(hid)\n",
    "        self.stored_hid = hid\n",
    "        return out"
   ]
  },
  {
   "cell_type": "markdown",
   "metadata": {
    "id": "VgAU6qPHKJFr"
   },
   "source": [
    "Now we can define a network and pass some data through it."
   ]
  },
  {
   "cell_type": "code",
   "execution_count": 269,
   "metadata": {
    "id": "MFkZ5gNG6d7c"
   },
   "outputs": [
    {
     "name": "stdout",
     "output_type": "stream",
     "text": [
      "Feed-forward: Weights: [[Var(v=0.0038, grad=0.0000), Var(v=-0.0109, grad=0.0000), Var(v=0.1402, grad=0.0000), Var(v=0.0845, grad=0.0000), Var(v=-0.0014, grad=0.0000)]] Biases: [Var(v=0.0000, grad=0.0000), Var(v=0.0000, grad=0.0000), Var(v=0.0000, grad=0.0000), Var(v=0.0000, grad=0.0000), Var(v=0.0000, grad=0.0000)]\n",
      "Recurrent: Weights: [[Var(v=0.0227, grad=0.0000), Var(v=0.1507, grad=0.0000), Var(v=0.1743, grad=0.0000), Var(v=0.1049, grad=0.0000), Var(v=-0.2059, grad=0.0000)], [Var(v=0.0150, grad=0.0000), Var(v=0.1172, grad=0.0000), Var(v=-0.0230, grad=0.0000), Var(v=-0.0378, grad=0.0000), Var(v=-0.1246, grad=0.0000)], [Var(v=-0.0779, grad=0.0000), Var(v=-0.1042, grad=0.0000), Var(v=0.0581, grad=0.0000), Var(v=0.1169, grad=0.0000), Var(v=-0.0398, grad=0.0000)], [Var(v=-0.0265, grad=0.0000), Var(v=0.0113, grad=0.0000), Var(v=0.0124, grad=0.0000), Var(v=0.0048, grad=0.0000), Var(v=0.1353, grad=0.0000)], [Var(v=-0.0098, grad=0.0000), Var(v=0.1574, grad=0.0000), Var(v=0.0348, grad=0.0000), Var(v=0.2625, grad=0.0000), Var(v=-0.0380, grad=0.0000)]]\n",
      "Initial hidden: [Var(v=0.0000, grad=0.0000), Var(v=0.0000, grad=0.0000), Var(v=0.0000, grad=0.0000), Var(v=0.0000, grad=0.0000), Var(v=0.0000, grad=0.0000)]\n",
      "Training Output: [[[Var(v=0.0143, grad=1.0000)], [Var(v=0.0302, grad=0.0000)], [Var(v=0.0446, grad=0.0000)]], [[Var(v=0.0143, grad=0.0000)], [Var(v=0.0302, grad=0.0000)], [Var(v=0.0446, grad=0.0000)]]]\n"
     ]
    }
   ],
   "source": [
    "NN = [\n",
    "    RNNLayer(1, 5, lambda x: x.tanh()),\n",
    "    DenseLayer(5, 1, lambda x: x.identity())\n",
    "]\n",
    "\n",
    "def forward_batch(input: Sequence[Sequence[Sequence[Var]]], network, use_stored_hid=False):\n",
    "  \n",
    "  def forward_single_sequence(x, network, use_stored_hid):\n",
    "    for layer in network:\n",
    "        if isinstance(layer, RNNLayer):\n",
    "            x = layer.forward_sequence(x, use_stored_hid) \n",
    "        else:\n",
    "            x = layer.forward_sequence(x)\n",
    "    return x\n",
    "\n",
    "  output = [ forward_single_sequence(input[n], network, use_stored_hid) for n in range(len(input))]\n",
    "  \n",
    "  return output\n",
    "\n",
    "print(NN[0])\n",
    "x_train =[\n",
    "          [[Var(1.0)], [Var(2.0)], [Var(3.0)]],\n",
    "          [[Var(1.0)], [Var(2.0)], [Var(3.0)]]\n",
    "          ]\n",
    "\n",
    "output_train = forward_batch(x_train, NN)          \n",
    "output_train[0][0][0].backward()\n",
    "\n",
    "print(f'Training Output: {output_train}')"
   ]
  },
  {
   "cell_type": "markdown",
   "metadata": {
    "id": "yolo5dKrk2hR"
   },
   "source": [
    "## Exercise c) Unit test\n",
    "\n",
    "Make unit tests to make sure that the output and the backward method work as it should.\n",
    "\n",
    "NOTE: The .backward() call above simply backpropagates a value in the output (and not a loss). Below, we will extend our loss functions to be able to handle backpropagation through time.\n",
    "\n",
    "Recycling code from [Lab 2](https://github.com/DeepLearningDTU/02456-deep-learning-with-PyTorch/blob/master/2_Feedforward_Python/2.1-EXE-FNN-AutoDif-Nanograd.ipynb) is fine. "
   ]
  },
  {
   "cell_type": "code",
   "execution_count": 207,
   "metadata": {
    "id": "GhCB1ASwK3X7"
   },
   "outputs": [
    {
     "name": "stdout",
     "output_type": "stream",
     "text": [
      "Var(v=0.0181, grad=1.0000)\n"
     ]
    }
   ],
   "source": [
    "print(output_train[0][0][0])"
   ]
  },
  {
   "cell_type": "markdown",
   "metadata": {
    "id": "4d4_2b6mK5jH"
   },
   "source": [
    "## Exercise d) Advanced initialization\n",
    "\n",
    "How can we use He initialization for the recurrent layer?\n",
    "\n",
    "Hint: the sum of two unit variance stochastic variables have variance 2.\n",
    "\n",
    "Insert code for He initialization of the recurrent layer. Again, recycling code from Lab 2 is fine. "
   ]
  },
  {
   "cell_type": "code",
   "execution_count": 208,
   "metadata": {
    "id": "oRn3mDnzLxu2"
   },
   "outputs": [],
   "source": [
    "import math\n",
    "## He\n",
    "def DenseLayer_He_tanh(n_in: int, n_out: int):\n",
    "  std = math.sqrt(2.0 / n_in)\n",
    "  return DenseLayer(n_in, n_out, lambda x: x.relu(), initializer = NormalInitializer(std))"
   ]
  },
  {
   "cell_type": "markdown",
   "metadata": {
    "id": "ozNN9xXML0yc"
   },
   "source": [
    "## Exercise e) Sequence loss function\n",
    "\n",
    "We want to solve a sequence to sequence problem. So you need a sequence loss function. \n",
    "\n",
    "Implement the function such that the sequence loss can take flexible input dimensions and so that it can take any loss as an argument, such as squared loss and cross entropy. (We recommend using cross entropy below)\n",
    "\n",
    "We have provided a bit of code to try it out.\n",
    "\n",
    "Hints: You can get inspiration from the forward_sequence method above. You can copy and paste squared loss and cross entropy from Lab 2. "
   ]
  },
  {
   "cell_type": "code",
   "execution_count": 209,
   "metadata": {
    "id": "bYpEnbeMP4yL"
   },
   "outputs": [],
   "source": [
    "def squared_loss_sequence(t: Sequence[Sequence[Var]], y: Sequence[Sequence[Var]]):\n",
    "    \n",
    "    assert len(t) == len(y)\n",
    "    \n",
    "    def squared_loss_single(t: Sequence[Var], y: Sequence[Var]):\n",
    "\n",
    "        assert len(t) == len(y)\n",
    "        \n",
    "        Loss = Var(0.0)\n",
    "        \n",
    "        for i in range(len(t)):\n",
    "          Loss += (t[i] - y[i]) ** 2\n",
    "\n",
    "        return Loss\n",
    "\n",
    "    Loss = Var(0.0)\n",
    "    \n",
    "    for n in range(len(t)): # sum over the number of samples\n",
    "      for time in range(len(t[n])): # sum over the time-steps      \n",
    "        Loss += squared_loss_single(t[n][time], y[n][time])\n",
    "\n",
    "    return Loss\n",
    "\n",
    "def cross_entropy_loss_sequence(t: Sequence[Sequence[Var]], y: Sequence[Sequence[Var]]):\n",
    "    \"\"\"\n",
    "    Compute the cross-entropy loss over a sequence of predicted outputs and target labels.\n",
    "    Args:\n",
    "    t: list of target sequences, each sequence contains one-hot encoded target vectors\n",
    "    y: list of predicted sequences, each sequence contains predicted probabilities\n",
    "\n",
    "    Returns:\n",
    "    Loss: Cross-entropy loss over the entire sequence\n",
    "    \"\"\"\n",
    "    assert len(t) == len(y), \"Target and prediction sequences must have the same length\"\n",
    "\n",
    "    def cross_entropy_single(t: Sequence[Var], y: Sequence[Var]):\n",
    "        \"\"\"\n",
    "        Compute the cross-entropy loss for a single data point (sequence).\n",
    "        Args:\n",
    "        t: one-hot encoded target vector\n",
    "        y: predicted probabilities for each class\n",
    "\n",
    "        Returns:\n",
    "        Loss: Cross-entropy loss for the single data point\n",
    "        \"\"\"\n",
    "        assert len(t) == len(y)\n",
    "        \n",
    "        Loss = Var(0.0)\n",
    "        denominator = Var(0.0)\n",
    "        \n",
    "        for i in range(len(y)):\n",
    "          denominator += y[i].exp()\n",
    "          \n",
    "        denominator += Var(1e-10) # numerical stability\n",
    "        \n",
    "        for i in range(len(t)):\n",
    "            softmax = y[i].exp() / denominator\n",
    "            Loss -= t[i] * softmax.log()\n",
    "        \n",
    "        return Loss\n",
    "\n",
    "    Loss = Var(0.0)\n",
    "\n",
    "    # Compute the cross-entropy loss for the entire training data\n",
    "    for n in range(len(t)): # sum over training data points\n",
    "      for time in range(len(t[n])): # sum over time-steps\n",
    "        Loss += cross_entropy_single(t[n][time], y[n][time])\n",
    "        break\n",
    "  \n",
    "    return Loss\n",
    "\n",
    "def sequence_loss(t: Sequence[Sequence[Var]], y: Sequence[Sequence[Var]], loss_fn=cross_entropy_loss_sequence) -> Var:\n",
    "    assert len(t) == len(y)\n",
    "    return loss_fn(t, y)"
   ]
  },
  {
   "cell_type": "code",
   "execution_count": 210,
   "metadata": {},
   "outputs": [
    {
     "name": "stdout",
     "output_type": "stream",
     "text": [
      "[[[Var(v=0.0024, grad=0.0000), Var(v=-0.0264, grad=0.0000), Var(v=-0.0083, grad=0.0000), Var(v=0.0056, grad=0.0000)], [Var(v=0.0053, grad=0.0000), Var(v=-0.0255, grad=0.0000), Var(v=-0.0074, grad=0.0000), Var(v=0.0065, grad=0.0000)], [Var(v=0.0048, grad=0.0000), Var(v=-0.0252, grad=0.0000), Var(v=-0.0074, grad=0.0000), Var(v=0.0063, grad=0.0000)], [Var(v=-0.0154, grad=0.0000), Var(v=0.0744, grad=0.0000), Var(v=0.0215, grad=0.0000), Var(v=-0.0190, grad=0.0000)], [Var(v=-0.0245, grad=0.0000), Var(v=0.0702, grad=0.0000), Var(v=0.0180, grad=0.0000), Var(v=-0.0215, grad=0.0000)], [Var(v=-0.0226, grad=0.0000), Var(v=0.0694, grad=0.0000), Var(v=0.0182, grad=0.0000), Var(v=-0.0207, grad=0.0000)]], [[Var(v=0.0024, grad=0.0000), Var(v=-0.0264, grad=0.0000), Var(v=-0.0083, grad=0.0000), Var(v=0.0056, grad=0.0000)], [Var(v=-0.0149, grad=0.0000), Var(v=0.0741, grad=0.0000), Var(v=0.0215, grad=0.0000), Var(v=-0.0188, grad=0.0000)]], [[Var(v=0.0024, grad=0.0000), Var(v=-0.0264, grad=0.0000), Var(v=-0.0083, grad=0.0000), Var(v=0.0056, grad=0.0000)], [Var(v=0.0053, grad=0.0000), Var(v=-0.0255, grad=0.0000), Var(v=-0.0074, grad=0.0000), Var(v=0.0065, grad=0.0000)], [Var(v=0.0048, grad=0.0000), Var(v=-0.0252, grad=0.0000), Var(v=-0.0074, grad=0.0000), Var(v=0.0063, grad=0.0000)], [Var(v=-0.0154, grad=0.0000), Var(v=0.0744, grad=0.0000), Var(v=0.0215, grad=0.0000), Var(v=-0.0190, grad=0.0000)], [Var(v=-0.0245, grad=0.0000), Var(v=0.0702, grad=0.0000), Var(v=0.0180, grad=0.0000), Var(v=-0.0215, grad=0.0000)], [Var(v=-0.0226, grad=0.0000), Var(v=0.0694, grad=0.0000), Var(v=0.0182, grad=0.0000), Var(v=-0.0207, grad=0.0000)]]]\n",
      "Loss: Var(v=4.1607, grad=0.0000)\n",
      "Output: [[[Var(v=0.0024, grad=-0.7477), Var(v=-0.0264, grad=0.2451), Var(v=-0.0083, grad=0.2496), Var(v=0.0056, grad=0.2531)], [Var(v=0.0053, grad=0.0000), Var(v=-0.0255, grad=0.0000), Var(v=-0.0074, grad=0.0000), Var(v=0.0065, grad=0.0000)], [Var(v=0.0048, grad=0.0000), Var(v=-0.0252, grad=0.0000), Var(v=-0.0074, grad=0.0000), Var(v=0.0063, grad=0.0000)], [Var(v=-0.0154, grad=0.0000), Var(v=0.0744, grad=0.0000), Var(v=0.0215, grad=0.0000), Var(v=-0.0190, grad=0.0000)], [Var(v=-0.0245, grad=0.0000), Var(v=0.0702, grad=0.0000), Var(v=0.0180, grad=0.0000), Var(v=-0.0215, grad=0.0000)], [Var(v=-0.0226, grad=0.0000), Var(v=0.0694, grad=0.0000), Var(v=0.0182, grad=0.0000), Var(v=-0.0207, grad=0.0000)]], [[Var(v=0.0024, grad=0.2523), Var(v=-0.0264, grad=-0.7549), Var(v=-0.0083, grad=0.2496), Var(v=0.0056, grad=0.2531)], [Var(v=-0.0149, grad=0.0000), Var(v=0.0741, grad=0.0000), Var(v=0.0215, grad=0.0000), Var(v=-0.0188, grad=0.0000)]], [[Var(v=0.0024, grad=-0.7477), Var(v=-0.0264, grad=0.2451), Var(v=-0.0083, grad=0.2496), Var(v=0.0056, grad=0.2531)], [Var(v=0.0053, grad=0.0000), Var(v=-0.0255, grad=0.0000), Var(v=-0.0074, grad=0.0000), Var(v=0.0065, grad=0.0000)], [Var(v=0.0048, grad=0.0000), Var(v=-0.0252, grad=0.0000), Var(v=-0.0074, grad=0.0000), Var(v=0.0063, grad=0.0000)], [Var(v=-0.0154, grad=0.0000), Var(v=0.0744, grad=0.0000), Var(v=0.0215, grad=0.0000), Var(v=-0.0190, grad=0.0000)], [Var(v=-0.0245, grad=0.0000), Var(v=0.0702, grad=0.0000), Var(v=0.0180, grad=0.0000), Var(v=-0.0215, grad=0.0000)], [Var(v=-0.0226, grad=0.0000), Var(v=0.0694, grad=0.0000), Var(v=0.0182, grad=0.0000), Var(v=-0.0207, grad=0.0000)]]]\n",
      "Network before update:\n",
      "Layer 0 \n",
      " Feed-forward: Weights: [[Var(v=0.0722, grad=0.0583), Var(v=0.0143, grad=-0.1527)], [Var(v=-0.1983, grad=0.0000), Var(v=-0.0960, grad=0.0000)], [Var(v=0.0081, grad=0.0000), Var(v=0.0785, grad=0.0000)], [Var(v=0.1423, grad=0.0000), Var(v=0.2409, grad=0.0000)]] Biases: [Var(v=0.0000, grad=0.0583), Var(v=0.0000, grad=-0.1527)]\n",
      "Recurrent: Weights: [[Var(v=-0.0413, grad=0.0000), Var(v=0.2292, grad=0.0000)], [Var(v=-0.0456, grad=0.0000), Var(v=-0.1342, grad=0.0000)]]\n",
      "Initial hidden: [Var(v=0.0000, grad=-0.0374), Var(v=0.0000, grad=0.0178)]\n",
      "Layer 1 \n",
      " Weights: [[Var(v=-0.0054, grad=-0.0896), Var(v=-0.3596, grad=-0.0191), Var(v=-0.1219, grad=0.0539), Var(v=0.0633, grad=0.0547)], [Var(v=0.1964, grad=-0.0178), Var(v=-0.0310, grad=-0.0038), Var(v=0.0339, grad=0.0107), Var(v=0.0762, grad=0.0109)]] Biases: [Var(v=0.0000, grad=-1.2432), Var(v=0.0000, grad=-0.2647), Var(v=0.0000, grad=0.7487), Var(v=0.0000, grad=0.7592)]\n",
      "\n",
      "Network after update:\n",
      "Layer 0 \n",
      " Feed-forward: Weights: [[Var(v=0.0716, grad=0.0583), Var(v=0.0158, grad=-0.1527)], [Var(v=-0.1983, grad=0.0000), Var(v=-0.0960, grad=0.0000)], [Var(v=0.0081, grad=0.0000), Var(v=0.0785, grad=0.0000)], [Var(v=0.1423, grad=0.0000), Var(v=0.2409, grad=0.0000)]] Biases: [Var(v=-0.0006, grad=0.0583), Var(v=0.0015, grad=-0.1527)]\n",
      "Recurrent: Weights: [[Var(v=-0.0413, grad=0.0000), Var(v=0.2292, grad=0.0000)], [Var(v=-0.0456, grad=0.0000), Var(v=-0.1342, grad=0.0000)]]\n",
      "Initial hidden: [Var(v=0.0004, grad=-0.0374), Var(v=-0.0002, grad=0.0178)]\n",
      "Layer 1 \n",
      " Weights: [[Var(v=-0.0045, grad=-0.0896), Var(v=-0.3594, grad=-0.0191), Var(v=-0.1225, grad=0.0539), Var(v=0.0627, grad=0.0547)], [Var(v=0.1966, grad=-0.0178), Var(v=-0.0309, grad=-0.0038), Var(v=0.0338, grad=0.0107), Var(v=0.0761, grad=0.0109)]] Biases: [Var(v=0.0124, grad=-1.2432), Var(v=0.0026, grad=-0.2647), Var(v=-0.0075, grad=0.7487), Var(v=-0.0076, grad=0.7592)]\n",
      "\n",
      "Network after zeroing gradients:\n",
      "Layer 0 \n",
      " Feed-forward: Weights: [[Var(v=0.0716, grad=0.0000), Var(v=0.0158, grad=0.0000)], [Var(v=-0.1983, grad=0.0000), Var(v=-0.0960, grad=0.0000)], [Var(v=0.0081, grad=0.0000), Var(v=0.0785, grad=0.0000)], [Var(v=0.1423, grad=0.0000), Var(v=0.2409, grad=0.0000)]] Biases: [Var(v=-0.0006, grad=0.0000), Var(v=0.0015, grad=0.0000)]\n",
      "Recurrent: Weights: [[Var(v=-0.0413, grad=0.0000), Var(v=0.2292, grad=0.0000)], [Var(v=-0.0456, grad=0.0000), Var(v=-0.1342, grad=0.0000)]]\n",
      "Initial hidden: [Var(v=0.0004, grad=0.0000), Var(v=-0.0002, grad=0.0000)]\n",
      "Layer 1 \n",
      " Weights: [[Var(v=-0.0045, grad=0.0000), Var(v=-0.3594, grad=0.0000), Var(v=-0.1225, grad=0.0000), Var(v=0.0627, grad=0.0000)], [Var(v=0.1966, grad=0.0000), Var(v=-0.0309, grad=0.0000), Var(v=0.0338, grad=0.0000), Var(v=0.0761, grad=0.0000)]] Biases: [Var(v=0.0124, grad=0.0000), Var(v=0.0026, grad=0.0000), Var(v=-0.0075, grad=0.0000), Var(v=-0.0076, grad=0.0000)]\n"
     ]
    },
    {
     "data": {
      "text/plain": [
       "[None, None]"
      ]
     },
     "execution_count": 210,
     "metadata": {},
     "output_type": "execute_result"
    }
   ],
   "source": [
    "# Test of loss func\n",
    "NN = [\n",
    "    RNNLayer(4, 2, lambda x: x.tanh()),\n",
    "    DenseLayer(2, 4, lambda x: x.identity())\n",
    "]\n",
    "\n",
    "output_train = forward_batch(encoded_training_set_x[:3], NN)\n",
    "print(output_train)\n",
    "loss = sequence_loss(encoded_training_set_y[:3], output_train, cross_entropy_loss_sequence)\n",
    "print(\"Loss:\", loss)\n",
    "loss.backward()\n",
    "\n",
    "print(\"Output:\", output_train)\n",
    "\n",
    "print('Network before update:')\n",
    "[print('Layer', i, '\\n', NN[i]) for i in range(len(NN))] \n",
    "\n",
    "def parameters(network):\n",
    "  params = []\n",
    "  for layer in range(len(network)):\n",
    "    params += network[layer].parameters()\n",
    "  return params\n",
    "\n",
    "def update_parameters(params, learning_rate=0.01):\n",
    "  for p in params:\n",
    "    p.v -= learning_rate*p.grad\n",
    "\n",
    "def zero_gradients(params):\n",
    "  for p in params:\n",
    "    p.grad = 0.0\n",
    "\n",
    "update_parameters(parameters(NN))\n",
    "\n",
    "print('\\nNetwork after update:')\n",
    "[print('Layer', i, '\\n', NN[i]) for i in range(len(NN))] \n",
    "\n",
    "zero_gradients(parameters(NN))\n",
    "\n",
    "print('\\nNetwork after zeroing gradients:')\n",
    "[print('Layer', i, '\\n', NN[i]) for i in range(len(NN))] \n"
   ]
  },
  {
   "cell_type": "markdown",
   "metadata": {
    "id": "ezSRiVJzk2h5"
   },
   "source": [
    "# Backpropagation through time \n",
    "\n",
    "Since we have automatic differentiation we don't have to code the backpropagation rule by hand. Just to give you a bit of appreciation for how much bookkeeping is necessary we have given the derivation below.\n",
    "\n",
    "We need to compute the partial derivatives\n",
    "$\n",
    "\\frac{\\partial E}{\\partial W},~\\frac{\\partial E}{\\partial U},~\\frac{\\partial E}{\\partial V}\n",
    "$. \n",
    "We repeat the definition of the RNN forward pass from above:\n",
    "\n",
    "- $h_t = f(U\\,{x_t} + V\\,{h_{t-1}})$, where $f$ usually is an activation function, e.g. $\\mathrm{tanh}$.\n",
    "- $o_t = W\\,{h_t}$\n",
    "- $\\hat{y}_t = \\mathrm{softmax}(o_{t})$\n",
    "\n",
    "where\n",
    "- $U$ is a weight matrix applied to the given input sample,\n",
    "- $V$ is a weight matrix used for the recurrent computation in order to pass memory along the sequence,\n",
    "- $W$ is a weight matrix used to compute the output of the every timestep (given that every timestep requires an output), and\n",
    "- $h$ is the hidden state (the network's memory) for a given time step.\n",
    "\n",
    "Recall though, that RNNs are recurrent and the weights $W,~U,~V$ are shared across time, i.e. we do not have separate weights for each time step. Therefore, to compute e.g. the partial derivative $\\frac{\\partial E}{\\partial W}$, we need to 1) sum up across time, and 2) apply the chain rule:\n",
    "\n",
    "$$\\frac{\\partial E}{\\partial W} = \\sum_{t} \\frac{\\partial E}{\\partial o_{t}} \\frac{\\partial o_{t}}{\\partial W}\\,.$$\n",
    "To compute $\\frac{\\partial o_{t}}{\\partial W}$ we use the definition of $o_t$ above.\n",
    "From week 1 (exercise i) we have that\n",
    "$$\\delta_{o,t} \\equiv \\frac{\\partial E}{\\partial o_{t}} = \\frac{\\partial E_t}{\\partial o_{t}} = \\hat{y}_{t} - y_{t}\\,,$$\n",
    "where $\\hat{y}_{t}$ is a softmax distribution over model outputs $o_{t}$ at time $t$, and $y_{t}$ is the target label at time $t$. \n",
    "\n",
    "To compute $\\frac{\\partial E}{\\partial U}$ and $\\frac{\\partial E}{\\partial V}$ we again sum over time and use the chain rule:\n",
    "$$\n",
    "\\frac{\\partial E}{\\partial U} = \\sum_{t} \\frac{\\partial E}{\\partial h_{t}} \\frac{\\partial h_{t}}{\\partial U} \\ . \n",
    "$$\n",
    "This leads us to introduce\n",
    "$$\n",
    "\\delta_{h,t} \\equiv \\frac{\\partial E}{\\partial h_{t}} \\ .\n",
    "$$\n",
    "The backpropagation through time recursion is derived by realising that a variation of $h_t$ affects 1) the loss at time step $t$ through the feed-forward connection to the output and 2) the future losses through the $h_{t+1}$ dependence of $h_t$. Mathematically, we write this through the chain rule:\n",
    "\n",
    "$$\n",
    "\\delta_{h,t} \\equiv \\frac{\\partial E}{\\partial h_{t}} =  \\frac{\\partial E}{\\partial o_{t}} \\frac{\\partial o_t}{\\partial h_{t}} + \\frac{\\partial E}{\\partial h_{t+1}}\n",
    "\\frac{\\partial h_{t+1}}{\\partial h_{t}} = \\delta_{o,t} \\frac{\\partial o_t}{\\partial h_{t}} + \\delta_{h,t+1}\n",
    "\\frac{\\partial h_{t+1}}{\\partial h_{t}} \\ . \n",
    "$$\n",
    "\n",
    "Like above we can compute $\\frac{\\partial h_{t+1}}{\\partial h_{t}}$ using the definition of the network (shifted one time step). In the code the intermediate steps to compute the $\\delta$ recursions have been precomputed for you. \n",
    "\n",
    "For more information on backpropagation through time see the [Deep learning book section 10.2.2](https://www.deeplearningbook.org/contents/rnn.html).\n"
   ]
  },
  {
   "cell_type": "markdown",
   "metadata": {
    "id": "XIy3OZaQSrVL"
   },
   "source": [
    "# Exercise f) Complete the training loop\n",
    "\n",
    "Complete the training loop above and run the training. You can leave the hyper-parameters and network size unchanged.\n",
    "\n",
    "Note that despite the small size of the network and dataset, training still takes quite a while. This is an issue with the recurrent structure of Nanograd. Using PyTorch, we would be able to use much larger datasets and models. We will attempt that in the bottom of the notebook. For now, you should get a feel of the recurrent structure of the RNN under the hood."
   ]
  },
  {
   "cell_type": "code",
   "execution_count": 211,
   "metadata": {
    "id": "MkaqbWmroncY"
   },
   "outputs": [],
   "source": [
    "# Initialize training hyperparameters\n",
    "EPOCHS = 600\n",
    "LR = 1e-2 \n",
    "LR_DECAY = 0.99"
   ]
  },
  {
   "cell_type": "code",
   "execution_count": 212,
   "metadata": {
    "id": "-JtM_IQjonfK"
   },
   "outputs": [
    {
     "name": "stdout",
     "output_type": "stream",
     "text": [
      "   0 ( 0.00%) Train loss: 1.302 \t Validation loss: 1.346\n",
      "   5 ( 0.83%) Train loss: 1.047 \t Validation loss: 1.218\n",
      "  10 ( 1.67%) Train loss: 0.916 \t Validation loss: 1.165\n",
      "  15 ( 2.50%) Train loss: 0.842 \t Validation loss: 1.133\n",
      "  20 ( 3.33%) Train loss: 0.796 \t Validation loss: 1.104\n",
      "  25 ( 4.17%) Train loss: 0.764 \t Validation loss: 1.077\n",
      "  30 ( 5.00%) Train loss: 0.742 \t Validation loss: 1.051\n",
      "  35 ( 5.83%) Train loss: 0.725 \t Validation loss: 1.029\n",
      "  40 ( 6.67%) Train loss: 0.712 \t Validation loss: 1.010\n",
      "  45 ( 7.50%) Train loss: 0.702 \t Validation loss: 0.994\n",
      "  50 ( 8.33%) Train loss: 0.694 \t Validation loss: 0.982\n",
      "  55 ( 9.17%) Train loss: 0.687 \t Validation loss: 0.972\n",
      "  60 (10.00%) Train loss: 0.682 \t Validation loss: 0.964\n",
      "  65 (10.83%) Train loss: 0.677 \t Validation loss: 0.957\n",
      "  70 (11.67%) Train loss: 0.674 \t Validation loss: 0.951\n",
      "  75 (12.50%) Train loss: 0.670 \t Validation loss: 0.947\n",
      "  80 (13.33%) Train loss: 0.668 \t Validation loss: 0.943\n",
      "  85 (14.17%) Train loss: 0.665 \t Validation loss: 0.939\n",
      "  90 (15.00%) Train loss: 0.663 \t Validation loss: 0.936\n",
      "  95 (15.83%) Train loss: 0.661 \t Validation loss: 0.933\n",
      " 100 (16.67%) Train loss: 0.660 \t Validation loss: 0.931\n",
      " 105 (17.50%) Train loss: 0.658 \t Validation loss: 0.929\n",
      " 110 (18.33%) Train loss: 0.657 \t Validation loss: 0.927\n",
      " 115 (19.17%) Train loss: 0.656 \t Validation loss: 0.926\n",
      " 120 (20.00%) Train loss: 0.654 \t Validation loss: 0.924\n",
      " 125 (20.83%) Train loss: 0.653 \t Validation loss: 0.923\n",
      " 130 (21.67%) Train loss: 0.653 \t Validation loss: 0.922\n",
      " 135 (22.50%) Train loss: 0.652 \t Validation loss: 0.920\n",
      " 140 (23.33%) Train loss: 0.651 \t Validation loss: 0.919\n",
      " 145 (24.17%) Train loss: 0.650 \t Validation loss: 0.918\n",
      " 150 (25.00%) Train loss: 0.650 \t Validation loss: 0.918\n",
      " 155 (25.83%) Train loss: 0.649 \t Validation loss: 0.917\n",
      " 160 (26.67%) Train loss: 0.649 \t Validation loss: 0.916\n",
      " 165 (27.50%) Train loss: 0.648 \t Validation loss: 0.915\n",
      " 170 (28.33%) Train loss: 0.648 \t Validation loss: 0.915\n",
      " 175 (29.17%) Train loss: 0.647 \t Validation loss: 0.914\n",
      " 180 (30.00%) Train loss: 0.647 \t Validation loss: 0.914\n",
      " 185 (30.83%) Train loss: 0.646 \t Validation loss: 0.913\n",
      " 190 (31.67%) Train loss: 0.646 \t Validation loss: 0.913\n",
      " 195 (32.50%) Train loss: 0.646 \t Validation loss: 0.912\n",
      " 200 (33.33%) Train loss: 0.645 \t Validation loss: 0.912\n",
      " 205 (34.17%) Train loss: 0.645 \t Validation loss: 0.911\n",
      " 210 (35.00%) Train loss: 0.645 \t Validation loss: 0.911\n",
      " 215 (35.83%) Train loss: 0.644 \t Validation loss: 0.910\n",
      " 220 (36.67%) Train loss: 0.644 \t Validation loss: 0.910\n",
      " 225 (37.50%) Train loss: 0.644 \t Validation loss: 0.910\n",
      " 230 (38.33%) Train loss: 0.644 \t Validation loss: 0.909\n",
      " 235 (39.17%) Train loss: 0.643 \t Validation loss: 0.909\n",
      " 240 (40.00%) Train loss: 0.643 \t Validation loss: 0.909\n",
      " 245 (40.83%) Train loss: 0.643 \t Validation loss: 0.909\n",
      " 250 (41.67%) Train loss: 0.643 \t Validation loss: 0.908\n",
      " 255 (42.50%) Train loss: 0.642 \t Validation loss: 0.908\n",
      " 260 (43.33%) Train loss: 0.642 \t Validation loss: 0.908\n",
      " 265 (44.17%) Train loss: 0.642 \t Validation loss: 0.908\n",
      " 270 (45.00%) Train loss: 0.642 \t Validation loss: 0.907\n",
      " 275 (45.83%) Train loss: 0.642 \t Validation loss: 0.907\n",
      " 280 (46.67%) Train loss: 0.642 \t Validation loss: 0.907\n",
      " 285 (47.50%) Train loss: 0.642 \t Validation loss: 0.907\n",
      " 290 (48.33%) Train loss: 0.641 \t Validation loss: 0.907\n",
      " 295 (49.17%) Train loss: 0.641 \t Validation loss: 0.906\n",
      " 300 (50.00%) Train loss: 0.641 \t Validation loss: 0.906\n",
      " 305 (50.83%) Train loss: 0.641 \t Validation loss: 0.906\n",
      " 310 (51.67%) Train loss: 0.641 \t Validation loss: 0.906\n",
      " 315 (52.50%) Train loss: 0.641 \t Validation loss: 0.906\n",
      " 320 (53.33%) Train loss: 0.641 \t Validation loss: 0.906\n",
      " 325 (54.17%) Train loss: 0.641 \t Validation loss: 0.906\n",
      " 330 (55.00%) Train loss: 0.640 \t Validation loss: 0.905\n",
      " 335 (55.83%) Train loss: 0.640 \t Validation loss: 0.905\n",
      " 340 (56.67%) Train loss: 0.640 \t Validation loss: 0.905\n",
      " 345 (57.50%) Train loss: 0.640 \t Validation loss: 0.905\n",
      " 350 (58.33%) Train loss: 0.640 \t Validation loss: 0.905\n",
      " 355 (59.17%) Train loss: 0.640 \t Validation loss: 0.905\n",
      " 360 (60.00%) Train loss: 0.640 \t Validation loss: 0.905\n",
      " 365 (60.83%) Train loss: 0.640 \t Validation loss: 0.905\n",
      " 370 (61.67%) Train loss: 0.640 \t Validation loss: 0.904\n",
      " 375 (62.50%) Train loss: 0.640 \t Validation loss: 0.904\n",
      " 380 (63.33%) Train loss: 0.640 \t Validation loss: 0.904\n",
      " 385 (64.17%) Train loss: 0.640 \t Validation loss: 0.904\n",
      " 390 (65.00%) Train loss: 0.640 \t Validation loss: 0.904\n",
      " 395 (65.83%) Train loss: 0.639 \t Validation loss: 0.904\n",
      " 400 (66.67%) Train loss: 0.639 \t Validation loss: 0.904\n",
      " 405 (67.50%) Train loss: 0.639 \t Validation loss: 0.904\n",
      " 410 (68.33%) Train loss: 0.639 \t Validation loss: 0.904\n",
      " 415 (69.17%) Train loss: 0.639 \t Validation loss: 0.904\n",
      " 420 (70.00%) Train loss: 0.639 \t Validation loss: 0.904\n",
      " 425 (70.83%) Train loss: 0.639 \t Validation loss: 0.904\n",
      " 430 (71.67%) Train loss: 0.639 \t Validation loss: 0.904\n",
      " 435 (72.50%) Train loss: 0.639 \t Validation loss: 0.903\n",
      " 440 (73.33%) Train loss: 0.639 \t Validation loss: 0.903\n",
      " 445 (74.17%) Train loss: 0.639 \t Validation loss: 0.903\n",
      " 450 (75.00%) Train loss: 0.639 \t Validation loss: 0.903\n",
      " 455 (75.83%) Train loss: 0.639 \t Validation loss: 0.903\n",
      " 460 (76.67%) Train loss: 0.639 \t Validation loss: 0.903\n",
      " 465 (77.50%) Train loss: 0.639 \t Validation loss: 0.903\n",
      " 470 (78.33%) Train loss: 0.639 \t Validation loss: 0.903\n",
      " 475 (79.17%) Train loss: 0.639 \t Validation loss: 0.903\n",
      " 480 (80.00%) Train loss: 0.639 \t Validation loss: 0.903\n",
      " 485 (80.83%) Train loss: 0.639 \t Validation loss: 0.903\n",
      " 490 (81.67%) Train loss: 0.639 \t Validation loss: 0.903\n",
      " 495 (82.50%) Train loss: 0.639 \t Validation loss: 0.903\n",
      " 500 (83.33%) Train loss: 0.639 \t Validation loss: 0.903\n",
      " 505 (84.17%) Train loss: 0.639 \t Validation loss: 0.903\n",
      " 510 (85.00%) Train loss: 0.639 \t Validation loss: 0.903\n",
      " 515 (85.83%) Train loss: 0.638 \t Validation loss: 0.903\n",
      " 520 (86.67%) Train loss: 0.638 \t Validation loss: 0.903\n",
      " 525 (87.50%) Train loss: 0.638 \t Validation loss: 0.903\n",
      " 530 (88.33%) Train loss: 0.638 \t Validation loss: 0.903\n",
      " 535 (89.17%) Train loss: 0.638 \t Validation loss: 0.903\n",
      " 540 (90.00%) Train loss: 0.638 \t Validation loss: 0.903\n",
      " 545 (90.83%) Train loss: 0.638 \t Validation loss: 0.902\n",
      " 550 (91.67%) Train loss: 0.638 \t Validation loss: 0.902\n",
      " 555 (92.50%) Train loss: 0.638 \t Validation loss: 0.902\n",
      " 560 (93.33%) Train loss: 0.638 \t Validation loss: 0.902\n",
      " 565 (94.17%) Train loss: 0.638 \t Validation loss: 0.902\n",
      " 570 (95.00%) Train loss: 0.638 \t Validation loss: 0.902\n",
      " 575 (95.83%) Train loss: 0.638 \t Validation loss: 0.902\n",
      " 580 (96.67%) Train loss: 0.638 \t Validation loss: 0.902\n",
      " 585 (97.50%) Train loss: 0.638 \t Validation loss: 0.902\n",
      " 590 (98.33%) Train loss: 0.638 \t Validation loss: 0.902\n",
      " 595 (99.17%) Train loss: 0.638 \t Validation loss: 0.902\n"
     ]
    },
    {
     "data": {
      "image/png": "[encoded data removed]",
      "text/plain": [
       "<Figure size 640x480 with 1 Axes>"
      ]
     },
     "metadata": {},
     "output_type": "display_data"
    }
   ],
   "source": [
    "train_loss = []\n",
    "val_loss = []\n",
    "\n",
    "batch_size = 8\n",
    "\n",
    "for e in range(EPOCHS):\n",
    "    for b in range(int(np.ceil(len(encoded_training_set_x)/batch_size))):\n",
    "        # Extract batch data\n",
    "        batch_x = encoded_training_set_x[b * batch_size:(b+1) * batch_size]\n",
    "        batch_y = encoded_training_set_y[b * batch_size:(b+1) * batch_size]\n",
    "        \n",
    "        # Forward pass\n",
    "        output_sequence = forward_batch(batch_x, NN) \n",
    "        \n",
    "        # Loss computation\n",
    "        Loss = sequence_loss(batch_y, output_sequence, cross_entropy_loss_sequence)\n",
    "\n",
    "        # Backward pass\n",
    "        Loss.backward()\n",
    "        \n",
    "        # gradient descent update\n",
    "        update_parameters(parameters(NN), LR)\n",
    "        zero_gradients(parameters(NN))\n",
    "      \n",
    "    # Apply learning rate decay\n",
    "    LR = LR * LR_DECAY\n",
    "\n",
    "    # Training loss\n",
    "    output_sequence_train = forward_batch(encoded_training_set_x, NN)\n",
    "    Loss = sequence_loss(encoded_training_set_y, output_sequence_train, cross_entropy_loss_sequence)\n",
    "    train_loss.append(Loss.v/len(encoded_training_set_y))\n",
    "        \n",
    "    # Validation loss\n",
    "    output_sequence_valid = forward_batch(encoded_validation_set_x, NN)\n",
    "    Loss_validation = sequence_loss(encoded_validation_set_y, output_sequence_valid, cross_entropy_loss_sequence)\n",
    "    val_loss.append(Loss_validation.v/len(encoded_validation_set_y))\n",
    "    \n",
    "    if e % 5 == 0:\n",
    "        print(\"{:4d}\".format(e),\n",
    "              \"({:5.2f}%)\".format(e/EPOCHS*100), \n",
    "              \"Train loss: {:4.3f} \\t Validation loss: {:4.3f}\".format(train_loss[-1], val_loss[-1]))\n",
    "        \n",
    "# Plot training and validation loss\n",
    "import matplotlib.pyplot as plt\n",
    "%matplotlib inline\n",
    "epoch = np.arange(len(train_loss))\n",
    "plt.figure()\n",
    "plt.plot(epoch, train_loss, 'r', label='Training loss',)\n",
    "plt.plot(epoch, val_loss, 'b', label='Validation loss')\n",
    "plt.legend()\n",
    "plt.xlabel('Epoch'), plt.ylabel('NLL')\n",
    "plt.show()"
   ]
  },
  {
   "cell_type": "code",
   "execution_count": 213,
   "metadata": {
    "id": "nAI_D6g25pTQ"
   },
   "outputs": [
    {
     "name": "stdout",
     "output_type": "stream",
     "text": [
      "Input sentence:\n",
      "['a', 'a', 'a', 'b', 'b', 'b']\n",
      "\n",
      "Target sequence:\n",
      "['a', 'a', 'b', 'b', 'b', 'EOS']\n",
      "\n",
      "Predicted sequence:\n",
      "['a', 'a', 'a', 'a', 'a', 'a']\n"
     ]
    },
    {
     "name": "stderr",
     "output_type": "stream",
     "text": [
      "/var/folders/qs/5nthhxwd0mvfmc02zfmpp2380000gn/T/ipykernel_56415/170811074.py:6: DeprecationWarning: Conversion of an array with ndim > 0 to a scalar is deprecated, and will error in future. Ensure you extract a single element from your array before performing this operation. (Deprecated NumPy 1.25.)\n",
      "  y = [[Var(float(x[i,j])) for j in range(x.shape[1])] for i in range(x.shape[0])]\n"
     ]
    }
   ],
   "source": [
    "# Get first sentence in test set\n",
    "inputs, targets = test_set[0]\n",
    "\n",
    "# One-hot encode input and target sequence\n",
    "inputs_one_hot = one_hot_encode_sequence(inputs, vocab_size)\n",
    "targets_one_hot = one_hot_encode_sequence(targets, vocab_size)\n",
    "\n",
    "# Forward pass\n",
    "outputs = forward_batch(encoded_test_set_x[:1], NN)\n",
    "\n",
    "output_sentence = [idx_to_word[np.argmax(output)] for output in Var_to_nparray(outputs[0])]\n",
    "\n",
    "print('Input sentence:')\n",
    "print(inputs)\n",
    "\n",
    "print('\\nTarget sequence:')\n",
    "print(targets)\n",
    "\n",
    "print('\\nPredicted sequence:')\n",
    "print([idx_to_word[np.argmax(output)] for output in Var_to_nparray(outputs[0])])"
   ]
  },
  {
   "cell_type": "markdown",
   "metadata": {
    "id": "Nn7QpUZXk2iH"
   },
   "source": [
    "## Exercise g) Extrapolation\n",
    "\n",
    "Now that we have trained an RNN, it's time to put it to test. We will provide the network with a starting sentence and let it `freestyle` from there!\n",
    "\n",
    "How well does your RNN extrapolate -- does it work as expected? Are there any imperfections? If yes, why could that be?"
   ]
  },
  {
   "cell_type": "code",
   "execution_count": 308,
   "metadata": {
    "id": "4GNsD6HEJ-Gn"
   },
   "outputs": [
    {
     "name": "stdout",
     "output_type": "stream",
     "text": [
      "Example 0: a a b\n",
      "Predicted sequence: ['a', 'a', 'b', 'a', 'a', 'a', 'a', 'a', 'a', 'a', 'a', 'a', 'a']\n",
      "\n",
      "Example 1: a a a a b\n",
      "Predicted sequence: ['a', 'a', 'a', 'a', 'b', 'a', 'a', 'a', 'a', 'a', 'a', 'a', 'a', 'a', 'a']\n",
      "\n",
      "Example 2: a a a a a a b\n",
      "Predicted sequence: ['a', 'a', 'a', 'a', 'a', 'a', 'b', 'a', 'a', 'a', 'a', 'a', 'a', 'a', 'a', 'a', 'a']\n",
      "\n",
      "Example 3: a\n",
      "Predicted sequence: ['a', 'a', 'a', 'a', 'a', 'a', 'a', 'a', 'a', 'a', 'a']\n",
      "\n",
      "Example 4: r n n\n",
      "Predicted sequence: ['r', 'n', 'n', 'a', 'a', 'a', 'a', 'a', 'a', 'a', 'a', 'a', 'a']\n",
      "\n"
     ]
    },
    {
     "name": "stderr",
     "output_type": "stream",
     "text": [
      "/var/folders/qs/5nthhxwd0mvfmc02zfmpp2380000gn/T/ipykernel_56415/170811074.py:6: DeprecationWarning: Conversion of an array with ndim > 0 to a scalar is deprecated, and will error in future. Ensure you extract a single element from your array before performing this operation. (Deprecated NumPy 1.25.)\n",
      "  y = [[Var(float(x[i,j])) for j in range(x.shape[1])] for i in range(x.shape[0])]\n"
     ]
    }
   ],
   "source": [
    "def freestyle(NN, sentence='', num_generate=10):\n",
    "    \"\"\"\n",
    "    Takes in a sentence as a string and outputs a sequence\n",
    "    based on the predictions of the RNN.\n",
    "    \n",
    "    Args:\n",
    "     `params`: the parameters of the network\n",
    "     `sentence`: string with whitespace-separated tokens\n",
    "     `num_generate`: the number of tokens to generate\n",
    "    \"\"\"\n",
    "    sentence = sentence.split(' ')\n",
    "    output_sentence = sentence\n",
    "    sentence_one_hot = one_hot_encode_sequence(sentence, vocab_size)\n",
    "\n",
    "    # Begin predicting\n",
    "    outputs = forward_batch([sentence_one_hot], NN, use_stored_hid=False)\n",
    "    output_words = [idx_to_word[np.argmax(output)] for output in Var_to_nparray(outputs[0])]\n",
    "    word = output_words[-1]\n",
    "\n",
    "    # Append first prediction\n",
    "    output_sentence.append(word)\n",
    "\n",
    "    # Forward pass - Insert code here!\n",
    "    if word != 'EOS':\n",
    "      for i in range(num_generate-1):\n",
    "          sentence_one_hot = one_hot_encode_sequence(output_sentence, vocab_size)\n",
    "          outputs = forward_batch([sentence_one_hot], NN, use_stored_hid=False)\n",
    "          output_words = [idx_to_word[np.argmax(output)] for output in Var_to_nparray(outputs[0])]\n",
    "          word = output_words[-1]\n",
    "          output_sentence.append(word)\n",
    "          if word == 'EOS':\n",
    "              break\n",
    "          \n",
    "    return output_sentence\n",
    "\n",
    "\n",
    "# Perform freestyle (extrapolation)\n",
    "test_examples = ['a a b', 'a a a a b', 'a a a a a a b', 'a', 'r n n']\n",
    "for i, test_example in enumerate(test_examples):\n",
    "    print(f'Example {i}:', test_example)\n",
    "    print('Predicted sequence:', freestyle(NN, sentence=test_example), end='\\n\\n')"
   ]
  },
  {
   "cell_type": "markdown",
   "metadata": {
    "id": "X44hQ653vNCj"
   },
   "source": [
    "# Introduction to the Long Short-Term Memory (LSTM) Cell\n",
    "\n",
    "Reading material: [Christopher Olah's walk-through](http://colah.github.io/posts/2015-08-Understanding-LSTMs/).\n",
    "\n",
    "___\n",
    "\n",
    "\n",
    "A vanilla RNN suffers from [the vanishing gradients problem](http://neuralnetworksanddeeplearning.com/chap5.html#the_vanishing_gradient_problem) which gives challenges in saving memory over longer sequences. To combat these issues the gated hidden units were created. The two most prominent gated hidden units are the Long Short-Term Memory (LSTM) cell and the Gated Recurrent Unit (GRU), both of which have shown increased performance in saving and reusing memory in later timesteps. In this exercise, we will focus on LSTM but you would easily be able to go ahead and implement the GRU as well based on the principles that you learn here.\n",
    "\n",
    "Below is a figure of the LSTM cell:"
   ]
  },
  {
   "cell_type": "markdown",
   "metadata": {
    "id": "5Rgc-g3zwV9f"
   },
   "source": [
    "![lstm](https://i.imgur.com/3VkmUCe.png)\n",
    "Source: https://arxiv.org/abs/1412.7828"
   ]
  },
  {
   "cell_type": "markdown",
   "metadata": {
    "id": "ytasZ5cqw4W1"
   },
   "source": [
    "\n",
    "The LSTM cell contains three gates, input, forget, output gates and a memory cell.\n",
    "The output of the LSTM unit is computed with the following functions, where $\\sigma = \\mathrm{sigmoid}$.\n",
    "We have input gate $i$, forget gate $f$, and output gate $o$ defines as\n",
    "\n",
    "- $i = \\sigma ( W^i [h_{t-1}, x_t])$\n",
    "\n",
    "- $f = \\sigma ( W^f [h_{t-1},x_t])$\n",
    "\n",
    "- $o = \\sigma ( W^o [h_{t-1},x_t])$\n",
    "\n",
    "where $W^i, W^f, W^o$ are weight matrices applied to a concatenated $h_{t-1}$ (hidden state vector) and $x_t$ (input vector)  for each respective gate.\n",
    "\n",
    "$h_{t-1}$, from the previous time step along with the current input $x_t$ are used to compute the a candidate $g$\n",
    "\n",
    "- $g = \\mathrm{tanh}( W^g [h_{t-1}, x_t])$\n",
    "\n",
    "The value of the cell's memory, $c_t$, is updated as\n",
    "\n",
    "- $c_t = c_{t-1} \\circ f + g \\circ i$\n",
    "\n",
    "where $c_{t-1}$ is the previous memory, and $\\circ$ refers to element-wise multiplication (hint: element-wise multiplication is computed with the `*` operator in numpy).\n",
    "\n",
    "The output, $h_t$, is computed as\n",
    "\n",
    "- $h_t = \\mathrm{tanh}(c_t) \\circ o$\n",
    "\n",
    "and it is used for both the timestep's output and the next timestep, whereas $c_t$ is exclusively sent to the next timestep.\n",
    "This makes $c_t$ a memory feature, and is not used directly to compute the output of the timestep."
   ]
  },
  {
   "cell_type": "markdown",
   "metadata": {
    "id": "m8_4RWp3k2iQ"
   },
   "source": [
    "## Exercise h) Make the LSTMLayer class\n",
    "\n",
    "Make the LSTM class."
   ]
  },
  {
   "cell_type": "code",
   "execution_count": 302,
   "metadata": {
    "id": "qdU0yMXQU7d0"
   },
   "outputs": [],
   "source": [
    "class LSTMLayer:\n",
    "    def __init__(self, n_in: int, n_hid: int, act_fn, initializer = NormalInitializer(), initializer_hid = NormalInitializer()):\n",
    "        self.n_in = n_in\n",
    "        self.n_hid = n_hid\n",
    "        self.in_hid_layer = DenseLayer(n_in, n_hid, lambda x: x, initializer)\n",
    "        # Candidate layer g\n",
    "        self.g_layer = DenseLayer(n_in + n_hid, n_hid, act_fn, initializer)\n",
    "        # Input gate \n",
    "        self.i_layer = DenseLayer(n_in + n_hid, n_hid, lambda x: x.sigmoid(), initializer)\n",
    "        # Forget gate\n",
    "        self.f_layer = DenseLayer(n_in + n_hid, n_hid, lambda x: x.sigmoid(), initializer)\n",
    "        # Output gate\n",
    "        self.o_layer = DenseLayer(n_in + n_hid, n_hid, lambda x: x.sigmoid(), initializer)\n",
    "        self.initial_hid = [Var(0.0) for _ in range(n_hid)]\n",
    "        self.stored_hid = [Var(0.0) for _ in range(n_hid)]\n",
    "        self.initial_c = [Var(0.0) for _ in range(n_hid)]\n",
    "        self.stored_c = [Var(0.0) for _ in range(n_hid)]\n",
    "        self.act_fn = act_fn\n",
    "    \n",
    "    def __repr__(self):    \n",
    "        return 'Feed-forward: ' + repr(self.in_hid_layer) + ' Candidate: ' + repr(self.g_layer) + ' i gate ' + repr(self.i_layer) + ' f gate ' + repr(self.f_layer) + ' o gate ' + repr(self.o_layer) + ' Initial hidden: ' + repr(self.initial_hid)\n",
    "\n",
    "    def parameters(self) -> Sequence[Var]:      \n",
    "      return self.in_hid_layer.parameters() + self.g_layer.parameters() + self.i_layer.parameters() + self.f_layer.parameters() + self.o_layer.parameters() + self.initial_hid\n",
    "\n",
    "    def forward_step(self, input_x: Sequence[Var], input_hid: Sequence[Var], input_c: Sequence[Var]) -> Sequence[Var]:\n",
    "        hids = []\n",
    "        cs = []\n",
    "        concatenated_input = []\n",
    "        for val in input_hid:\n",
    "          concatenated_input.append(val)\n",
    "        for val in input_x:\n",
    "          concatenated_input.append(val)\n",
    "        \n",
    "        # Compute gate activations and candidate cell value\n",
    "        g = self.g_layer.forward(concatenated_input)\n",
    "        i = self.i_layer.forward(concatenated_input)\n",
    "        f = self.f_layer.forward(concatenated_input)\n",
    "        o = self.o_layer.forward(concatenated_input)\n",
    "\n",
    "        for c in range(len(input_c)):\n",
    "            # Update cell state\n",
    "            cs.append(input_c[c] * f[c] + g[c] * i[c])\n",
    "            # Update hidden state (output)\n",
    "            hids.append(self.act_fn(cs[c]) * o[c])\n",
    "            \n",
    "        return hids, cs\n",
    "    \n",
    "    def forward_sequence(self, input: Sequence[Sequence[Var]], use_stored_hid = False) -> Sequence[Sequence[Var]]:\n",
    "        out = []\n",
    "        if use_stored_hid:\n",
    "            hid = self.stored_hid\n",
    "            c = self.stored_c\n",
    "        else:\n",
    "            hid = self.initial_hid\n",
    "            c = self.initial_c\n",
    "        # Takes a sequence and loops over each character in the sequence. Note that each character has dimension equal to the embedding dimension\n",
    "        for i in range(len(input)):\n",
    "            hid, c = self.forward_step(input[i], hid, c)\n",
    "            out.append(hid)\n",
    "        self.stored_hid = hid\n",
    "        self.stored_c = c\n",
    "        \n",
    "        return out"
   ]
  },
  {
   "cell_type": "markdown",
   "metadata": {
    "id": "gKu-bfhzk2iY"
   },
   "source": [
    "Here is a bit of code to test it out:"
   ]
  },
  {
   "cell_type": "code",
   "execution_count": 303,
   "metadata": {
    "id": "u4AYroqSVRSv"
   },
   "outputs": [
    {
     "name": "stdout",
     "output_type": "stream",
     "text": [
      "Feed-forward: Weights: [[Var(v=0.0133, grad=0.0000), Var(v=-0.0313, grad=0.0000), Var(v=-0.0330, grad=0.0000), Var(v=0.0341, grad=0.0000), Var(v=-0.0720, grad=0.0000)]] Biases: [Var(v=0.0000, grad=0.0000), Var(v=0.0000, grad=0.0000), Var(v=0.0000, grad=0.0000), Var(v=0.0000, grad=0.0000), Var(v=0.0000, grad=0.0000)] Candidate: Weights: [[Var(v=-0.0362, grad=0.0000), Var(v=-0.1093, grad=0.0000), Var(v=0.0442, grad=0.0000), Var(v=0.0026, grad=0.0000), Var(v=-0.0126, grad=0.0000)], [Var(v=-0.0810, grad=0.0000), Var(v=0.0140, grad=0.0000), Var(v=0.0274, grad=0.0000), Var(v=0.0407, grad=0.0000), Var(v=0.0720, grad=0.0000)], [Var(v=0.0021, grad=0.0000), Var(v=-0.1863, grad=0.0000), Var(v=-0.0812, grad=0.0000), Var(v=-0.0914, grad=0.0000), Var(v=-0.0118, grad=0.0000)], [Var(v=-0.0178, grad=0.0000), Var(v=-0.0666, grad=0.0000), Var(v=0.1446, grad=0.0000), Var(v=0.0485, grad=0.0000), Var(v=0.0128, grad=0.0000)], [Var(v=0.0394, grad=0.0000), Var(v=-0.1653, grad=0.0000), Var(v=0.0638, grad=0.0000), Var(v=0.0225, grad=0.0000), Var(v=-0.0277, grad=0.0000)], [Var(v=0.1473, grad=0.0000), Var(v=0.0514, grad=0.0000), Var(v=0.0054, grad=0.0000), Var(v=-0.1608, grad=0.0000), Var(v=-0.0317, grad=0.0000)]] Biases: [Var(v=0.0000, grad=0.0000), Var(v=0.0000, grad=0.0000), Var(v=0.0000, grad=0.0000), Var(v=0.0000, grad=0.0000), Var(v=0.0000, grad=0.0000)] i gate Weights: [[Var(v=-0.0718, grad=0.0000), Var(v=-0.1667, grad=0.0000), Var(v=-0.2768, grad=0.0000), Var(v=0.0371, grad=0.0000), Var(v=-0.1103, grad=0.0000)], [Var(v=0.0366, grad=0.0000), Var(v=-0.0903, grad=0.0000), Var(v=0.1120, grad=0.0000), Var(v=-0.1014, grad=0.0000), Var(v=-0.0722, grad=0.0000)], [Var(v=0.0077, grad=0.0000), Var(v=-0.0642, grad=0.0000), Var(v=-0.0297, grad=0.0000), Var(v=-0.0427, grad=0.0000), Var(v=0.0351, grad=0.0000)], [Var(v=-0.0112, grad=0.0000), Var(v=0.1389, grad=0.0000), Var(v=-0.0831, grad=0.0000), Var(v=0.0487, grad=0.0000), Var(v=-0.0336, grad=0.0000)], [Var(v=-0.1699, grad=0.0000), Var(v=-0.1626, grad=0.0000), Var(v=0.0106, grad=0.0000), Var(v=-0.0096, grad=0.0000), Var(v=-0.0720, grad=0.0000)], [Var(v=-0.0066, grad=0.0000), Var(v=-0.0325, grad=0.0000), Var(v=0.0991, grad=0.0000), Var(v=-0.0066, grad=0.0000), Var(v=0.0224, grad=0.0000)]] Biases: [Var(v=0.0000, grad=0.0000), Var(v=0.0000, grad=0.0000), Var(v=0.0000, grad=0.0000), Var(v=0.0000, grad=0.0000), Var(v=0.0000, grad=0.0000)] f gate Weights: [[Var(v=0.1854, grad=0.0000), Var(v=0.1582, grad=0.0000), Var(v=0.1051, grad=0.0000), Var(v=0.0360, grad=0.0000), Var(v=-0.0129, grad=0.0000)], [Var(v=0.0751, grad=0.0000), Var(v=0.1176, grad=0.0000), Var(v=-0.0145, grad=0.0000), Var(v=0.1501, grad=0.0000), Var(v=0.0043, grad=0.0000)], [Var(v=0.1788, grad=0.0000), Var(v=-0.0087, grad=0.0000), Var(v=0.2038, grad=0.0000), Var(v=-0.0129, grad=0.0000), Var(v=0.0673, grad=0.0000)], [Var(v=-0.0304, grad=0.0000), Var(v=0.0924, grad=0.0000), Var(v=-0.0610, grad=0.0000), Var(v=0.0870, grad=0.0000), Var(v=-0.0323, grad=0.0000)], [Var(v=-0.0833, grad=0.0000), Var(v=-0.0625, grad=0.0000), Var(v=-0.0003, grad=0.0000), Var(v=-0.0216, grad=0.0000), Var(v=-0.0366, grad=0.0000)], [Var(v=0.0797, grad=0.0000), Var(v=-0.1016, grad=0.0000), Var(v=-0.0797, grad=0.0000), Var(v=0.0379, grad=0.0000), Var(v=0.0056, grad=0.0000)]] Biases: [Var(v=0.0000, grad=0.0000), Var(v=0.0000, grad=0.0000), Var(v=0.0000, grad=0.0000), Var(v=0.0000, grad=0.0000), Var(v=0.0000, grad=0.0000)] o gate Weights: [[Var(v=-0.0098, grad=0.0000), Var(v=-0.0545, grad=0.0000), Var(v=-0.0306, grad=0.0000), Var(v=-0.1018, grad=0.0000), Var(v=-0.0205, grad=0.0000)], [Var(v=-0.1480, grad=0.0000), Var(v=-0.0447, grad=0.0000), Var(v=0.0968, grad=0.0000), Var(v=0.0506, grad=0.0000), Var(v=0.0600, grad=0.0000)], [Var(v=-0.1350, grad=0.0000), Var(v=-0.1446, grad=0.0000), Var(v=-0.0744, grad=0.0000), Var(v=-0.0394, grad=0.0000), Var(v=-0.0429, grad=0.0000)], [Var(v=0.1099, grad=0.0000), Var(v=0.0738, grad=0.0000), Var(v=0.0252, grad=0.0000), Var(v=0.0630, grad=0.0000), Var(v=-0.0984, grad=0.0000)], [Var(v=0.0681, grad=0.0000), Var(v=-0.0826, grad=0.0000), Var(v=-0.0748, grad=0.0000), Var(v=-0.0479, grad=0.0000), Var(v=-0.0127, grad=0.0000)], [Var(v=-0.1250, grad=0.0000), Var(v=0.1433, grad=0.0000), Var(v=-0.1727, grad=0.0000), Var(v=0.0023, grad=0.0000), Var(v=0.0694, grad=0.0000)]] Biases: [Var(v=0.0000, grad=0.0000), Var(v=0.0000, grad=0.0000), Var(v=0.0000, grad=0.0000), Var(v=0.0000, grad=0.0000), Var(v=0.0000, grad=0.0000)] Initial hidden: [Var(v=0.0000, grad=0.0000), Var(v=0.0000, grad=0.0000), Var(v=0.0000, grad=0.0000), Var(v=0.0000, grad=0.0000), Var(v=0.0000, grad=0.0000)]\n",
      "[[[Var(v=-0.0024, grad=1.0000)], [Var(v=-0.0072, grad=0.0000)], [Var(v=-0.0137, grad=0.0000)]], [[Var(v=-0.0024, grad=0.0000)], [Var(v=-0.0072, grad=0.0000)], [Var(v=-0.0137, grad=0.0000)]]]\n"
     ]
    }
   ],
   "source": [
    "NN = [\n",
    "    LSTMLayer(1, 5, lambda x: x.tanh()),\n",
    "    DenseLayer(5, 1, lambda x: x.identity())\n",
    "]\n",
    "\n",
    "print(NN[0])\n",
    "x_train =[[[Var(1.0)], [Var(2.0)], [Var(3.0)]],\n",
    "          [[Var(1.0)], [Var(2.0)], [Var(3.0)]]]\n",
    "\n",
    "output_train = forward_batch(x_train, NN)          \n",
    "output_train[0][0][0].backward()\n",
    "\n",
    "print(output_train)"
   ]
  },
  {
   "cell_type": "markdown",
   "metadata": {
    "id": "z4r4mgFsk2ik"
   },
   "source": [
    "## Exercise i) LSTM training\n",
    "\n",
    "Complete the LSTM training loop\n",
    "\n",
    "Run the training loop. Training time in Nanograd will likely be long, but see if you can find settings to compare your LSTM learning curve (NLL and number of epochs) to the vanilla RNN from earlier. Do you observe any improvements? Motivate your answer.\n",
    "\n",
    "Finally, below we will implement LSTM in PyTorch. You will notice it is much, much faster!"
   ]
  },
  {
   "cell_type": "code",
   "execution_count": 306,
   "metadata": {
    "id": "MOAmppJD66tJ"
   },
   "outputs": [],
   "source": [
    "# Initialize training hyperparameters\n",
    "EPOCHS = 300\n",
    "LR = 1e-2\n",
    "LR_DECAY = 0.995 "
   ]
  },
  {
   "cell_type": "code",
   "execution_count": 307,
   "metadata": {
    "id": "tiotu2ab66w-"
   },
   "outputs": [
    {
     "name": "stdout",
     "output_type": "stream",
     "text": [
      "   0 ( 0.00%) Train loss: 1.312 \t Validation loss: 1.341\n",
      "   5 ( 1.67%) Train loss: 1.059 \t Validation loss: 1.209\n",
      "  10 ( 3.33%) Train loss: 0.931 \t Validation loss: 1.154\n",
      "  15 ( 5.00%) Train loss: 0.861 \t Validation loss: 1.125\n",
      "  20 ( 6.67%) Train loss: 0.817 \t Validation loss: 1.103\n",
      "  25 ( 8.33%) Train loss: 0.788 \t Validation loss: 1.084\n",
      "  30 (10.00%) Train loss: 0.767 \t Validation loss: 1.067\n",
      "  35 (11.67%) Train loss: 0.751 \t Validation loss: 1.052\n",
      "  40 (13.33%) Train loss: 0.739 \t Validation loss: 1.038\n",
      "  45 (15.00%) Train loss: 0.728 \t Validation loss: 1.026\n",
      "  50 (16.67%) Train loss: 0.720 \t Validation loss: 1.016\n",
      "  55 (18.33%) Train loss: 0.713 \t Validation loss: 1.007\n",
      "  60 (20.00%) Train loss: 0.707 \t Validation loss: 0.999\n",
      "  65 (21.67%) Train loss: 0.702 \t Validation loss: 0.992\n",
      "  70 (23.33%) Train loss: 0.698 \t Validation loss: 0.985\n",
      "  75 (25.00%) Train loss: 0.694 \t Validation loss: 0.980\n",
      "  80 (26.67%) Train loss: 0.691 \t Validation loss: 0.975\n",
      "  85 (28.33%) Train loss: 0.688 \t Validation loss: 0.971\n",
      "  90 (30.00%) Train loss: 0.685 \t Validation loss: 0.967\n",
      "  95 (31.67%) Train loss: 0.683 \t Validation loss: 0.964\n",
      " 100 (33.33%) Train loss: 0.680 \t Validation loss: 0.961\n",
      " 105 (35.00%) Train loss: 0.678 \t Validation loss: 0.958\n",
      " 110 (36.67%) Train loss: 0.677 \t Validation loss: 0.955\n",
      " 115 (38.33%) Train loss: 0.675 \t Validation loss: 0.953\n",
      " 120 (40.00%) Train loss: 0.674 \t Validation loss: 0.951\n",
      " 125 (41.67%) Train loss: 0.672 \t Validation loss: 0.949\n",
      " 130 (43.33%) Train loss: 0.671 \t Validation loss: 0.947\n",
      " 135 (45.00%) Train loss: 0.670 \t Validation loss: 0.946\n",
      " 140 (46.67%) Train loss: 0.669 \t Validation loss: 0.944\n",
      " 145 (48.33%) Train loss: 0.668 \t Validation loss: 0.943\n",
      " 150 (50.00%) Train loss: 0.667 \t Validation loss: 0.941\n",
      " 155 (51.67%) Train loss: 0.666 \t Validation loss: 0.940\n",
      " 160 (53.33%) Train loss: 0.665 \t Validation loss: 0.939\n",
      " 165 (55.00%) Train loss: 0.664 \t Validation loss: 0.938\n",
      " 170 (56.67%) Train loss: 0.664 \t Validation loss: 0.937\n",
      " 175 (58.33%) Train loss: 0.663 \t Validation loss: 0.936\n",
      " 180 (60.00%) Train loss: 0.662 \t Validation loss: 0.935\n",
      " 185 (61.67%) Train loss: 0.662 \t Validation loss: 0.934\n",
      " 190 (63.33%) Train loss: 0.661 \t Validation loss: 0.934\n",
      " 195 (65.00%) Train loss: 0.661 \t Validation loss: 0.933\n",
      " 200 (66.67%) Train loss: 0.660 \t Validation loss: 0.932\n",
      " 205 (68.33%) Train loss: 0.660 \t Validation loss: 0.932\n",
      " 210 (70.00%) Train loss: 0.659 \t Validation loss: 0.931\n",
      " 215 (71.67%) Train loss: 0.659 \t Validation loss: 0.930\n",
      " 220 (73.33%) Train loss: 0.658 \t Validation loss: 0.930\n",
      " 225 (75.00%) Train loss: 0.658 \t Validation loss: 0.929\n",
      " 230 (76.67%) Train loss: 0.658 \t Validation loss: 0.929\n",
      " 235 (78.33%) Train loss: 0.657 \t Validation loss: 0.928\n",
      " 240 (80.00%) Train loss: 0.657 \t Validation loss: 0.928\n",
      " 245 (81.67%) Train loss: 0.657 \t Validation loss: 0.927\n",
      " 250 (83.33%) Train loss: 0.656 \t Validation loss: 0.927\n",
      " 255 (85.00%) Train loss: 0.656 \t Validation loss: 0.927\n",
      " 260 (86.67%) Train loss: 0.656 \t Validation loss: 0.926\n",
      " 265 (88.33%) Train loss: 0.655 \t Validation loss: 0.926\n",
      " 270 (90.00%) Train loss: 0.655 \t Validation loss: 0.925\n",
      " 275 (91.67%) Train loss: 0.655 \t Validation loss: 0.925\n",
      " 280 (93.33%) Train loss: 0.655 \t Validation loss: 0.925\n",
      " 285 (95.00%) Train loss: 0.654 \t Validation loss: 0.924\n",
      " 290 (96.67%) Train loss: 0.654 \t Validation loss: 0.924\n",
      " 295 (98.33%) Train loss: 0.654 \t Validation loss: 0.924\n"
     ]
    },
    {
     "data": {
      "image/png": "[encoded data removed]",
      "text/plain": [
       "<Figure size 640x480 with 1 Axes>"
      ]
     },
     "metadata": {},
     "output_type": "display_data"
    }
   ],
   "source": [
    "NN = [\n",
    "    LSTMLayer(4, 1, lambda x: x.tanh()),\n",
    "    DenseLayer(1, 4, lambda x: x.identity())\n",
    "]\n",
    "\n",
    "train_loss = []\n",
    "val_loss = []\n",
    "\n",
    "batch_size = 8\n",
    "\n",
    "for e in range(EPOCHS):\n",
    "    for b in range(int(np.ceil(len(encoded_training_set_x)/batch_size))):\n",
    "        # Extract batch data\n",
    "        batch_x = encoded_training_set_x[b * batch_size:(b+1) * batch_size]\n",
    "        batch_y = encoded_training_set_y[b * batch_size:(b+1) * batch_size]\n",
    "        \n",
    "        # Forward pass \n",
    "        output_sequence = forward_batch(batch_x, NN)\n",
    "        \n",
    "        # Loss computation\n",
    "        Loss = sequence_loss(batch_y, output_sequence, cross_entropy_loss_sequence)\n",
    "        \n",
    "        # Backward pass\n",
    "        Loss.backward()\n",
    "        \n",
    "        # gradient descent update\n",
    "        update_parameters(parameters(NN), LR)\n",
    "        zero_gradients(parameters(NN))\n",
    "      \n",
    "    LR = LR * LR_DECAY\n",
    "\n",
    "    # Training loss\n",
    "    output_sequence_train = forward_batch(encoded_training_set_x, NN)\n",
    "    Loss = sequence_loss(encoded_training_set_y, output_sequence_train, cross_entropy_loss_sequence)\n",
    "    train_loss.append(Loss.v/len(encoded_training_set_y))\n",
    "        \n",
    "    # Validation loss\n",
    "    output_sequence_valid = forward_batch(encoded_validation_set_x, NN)\n",
    "    Loss_validation = sequence_loss(encoded_validation_set_y, output_sequence_valid, cross_entropy_loss_sequence)\n",
    "    val_loss.append(Loss_validation.v/len(encoded_validation_set_y))\n",
    "    \n",
    "    if e%5==0:\n",
    "        print(\"{:4d}\".format(e),\n",
    "              \"({:5.2f}%)\".format(e/EPOCHS*100), \n",
    "              \"Train loss: {:4.3f} \\t Validation loss: {:4.3f}\".format(train_loss[-1], val_loss[-1]))\n",
    "        \n",
    "# Plot training and validation loss\n",
    "import matplotlib.pyplot as plt\n",
    "%matplotlib inline\n",
    "epoch = np.arange(len(train_loss))\n",
    "plt.figure()\n",
    "plt.plot(epoch, train_loss, 'r', label='Training loss',)\n",
    "plt.plot(epoch, val_loss, 'b', label='Validation loss')\n",
    "plt.legend()\n",
    "plt.xlabel('Epoch'), plt.ylabel('NLL')\n",
    "plt.show()"
   ]
  },
  {
   "cell_type": "markdown",
   "metadata": {
    "id": "gi51eWgKxyOk"
   },
   "source": [
    "## PyTorch implementation of the LSTM\n",
    "\n",
    "Now that we know how the LSTM cell works, let's see how easy it is to use in PyTorch!"
   ]
  },
  {
   "cell_type": "markdown",
   "metadata": {
    "id": "O6HDdJLuk2ip"
   },
   "source": [
    "Definition of our LSTM network. We define a LSTM layer using the [nn.LSTM](https://pytorch.org/docs/stable/nn.html#lstm) class. The LSTM layer takes as argument the size of the input and the size of the hidden state like in our Nanograd implementation."
   ]
  },
  {
   "cell_type": "code",
   "execution_count": 332,
   "metadata": {
    "id": "8UGrvknfk2ip"
   },
   "outputs": [
    {
     "name": "stdout",
     "output_type": "stream",
     "text": [
      "MyRecurrentNet(\n",
      "  (lstm): LSTM(4, 50)\n",
      "  (l_out): Linear(in_features=50, out_features=4, bias=False)\n",
      ")\n"
     ]
    }
   ],
   "source": [
    "import torch.optim\n",
    "import torch.nn as nn\n",
    "import torch.nn.functional as F\n",
    "\n",
    "class MyRecurrentNet(nn.Module):\n",
    "    def __init__(self):\n",
    "        super(MyRecurrentNet, self).__init__()\n",
    "        \n",
    "        # Recurrent layer\n",
    "        self.lstm = nn.LSTM(vocab_size, 50)\n",
    "        \n",
    "        # Output layer\n",
    "        self.l_out = nn.Linear(in_features=50,\n",
    "                            out_features=vocab_size,\n",
    "                            bias=False)\n",
    "        \n",
    "    def forward(self, x):\n",
    "        # RNN returns output and last hidden state\n",
    "        x, (h, c) = self.lstm(x)\n",
    "        \n",
    "        # Flatten output for feed-forward layer\n",
    "        x = x.view(-1, self.lstm.hidden_size)\n",
    "        \n",
    "        # Output layer\n",
    "        x = self.l_out(x)\n",
    "        \n",
    "        return x\n",
    "\n",
    "net = MyRecurrentNet()\n",
    "print(net)"
   ]
  },
  {
   "cell_type": "markdown",
   "metadata": {
    "id": "J6r3bPwYk2is"
   },
   "source": [
    "## Exercise j) Train in PyTorch\n",
    "\n",
    "Define an LSTM for our recurrent neural network `MyRecurrentNet` above. A single LSTM layer is sufficient. What should the input size and hidden size be? Hint: use the PyTorch documentation.\n",
    "\n",
    "It's time for us to train our network. In the section below, you will get to put your deep learning skills to use and create your own training loop. You may want to consult previous exercises if you cannot recall how to define the training loop."
   ]
  },
  {
   "cell_type": "code",
   "execution_count": 333,
   "metadata": {},
   "outputs": [
    {
     "name": "stdout",
     "output_type": "stream",
     "text": [
      "Our one-hot encoding of 'a' has shape (1, 4).\n",
      "Our one-hot encoding of 'a b' has shape torch.Size([2, 4, 1]).\n",
      "[[1. 0. 0. 0.]]\n",
      "tensor([[[1.],\n",
      "         [0.],\n",
      "         [0.],\n",
      "         [0.]],\n",
      "\n",
      "        [[0.],\n",
      "         [1.],\n",
      "         [0.],\n",
      "         [0.]]])\n"
     ]
    }
   ],
   "source": [
    "# lets redefine the one_hot_encode() and one_hot_encode_sequence() functions\n",
    "# to work now with torch.Tensor variables instead of Var.\n",
    "def one_hot_encode(idx, vocab_size):\n",
    "    \"\"\"\n",
    "    One-hot encodes a single word given its index and the size of the vocabulary.\n",
    "    \n",
    "    Args:\n",
    "     `idx`: the index of the given word\n",
    "     `vocab_size`: the size of the vocabulary\n",
    "    \n",
    "    Returns a 1-D numpy array of length `vocab_size`.\n",
    "    \"\"\"\n",
    "    # Initialize the encoded array\n",
    "    one_hot = np.array([np.zeros(vocab_size)])\n",
    "    \n",
    "    # Set the appropriate element to one\n",
    "    one_hot[0][idx] = 1.0\n",
    "    return one_hot\n",
    "\n",
    "\n",
    "def one_hot_encode_sequence(sequence, vocab_size):\n",
    "    \"\"\"\n",
    "    One-hot encodes a sequence of words given a fixed vocabulary size.\n",
    "    \n",
    "    Args:\n",
    "     `sentence`: a list of words to encode\n",
    "     `vocab_size`: the size of the vocabulary\n",
    "     \n",
    "    Returns a 3-D torch.Tensor of shape (num words, vocab size, 1).\n",
    "    \"\"\"\n",
    "    # Encode each word in the sentence\n",
    "    encoding = np.array([one_hot_encode(word_to_idx[word], vocab_size) for word in sequence])\n",
    "\n",
    "    # Reshape encoding s.t. it has shape (num words, vocab size, 1)\n",
    "    encoding = encoding.reshape(encoding.shape[0], encoding.shape[2], 1)\n",
    "    return torch.Tensor(encoding)\n",
    "\n",
    "# lets test it\n",
    "test_word = one_hot_encode(word_to_idx['a'], vocab_size)\n",
    "print(f'Our one-hot encoding of \\'a\\' has shape {test_word.shape}.')\n",
    "\n",
    "test_sentence = one_hot_encode_sequence(['a', 'b'], vocab_size)\n",
    "print(f'Our one-hot encoding of \\'a b\\' has shape {test_sentence.shape}.')\n",
    "\n",
    "print(test_word)\n",
    "print(test_sentence)"
   ]
  },
  {
   "cell_type": "code",
   "execution_count": 334,
   "metadata": {
    "id": "2URKsyFDx8xG"
   },
   "outputs": [
    {
     "name": "stdout",
     "output_type": "stream",
     "text": [
      "Epoch 0, training loss: 1.3478747606277466, validation loss: 1.3707257509231567\n",
      "Epoch 10, training loss: 0.8538786172866821, validation loss: 0.9440793991088867\n",
      "Epoch 20, training loss: 0.6089301705360413, validation loss: 0.7232959866523743\n",
      "Epoch 30, training loss: 0.4610483944416046, validation loss: 0.5406067371368408\n",
      "Epoch 40, training loss: 0.3916665017604828, validation loss: 0.4516327679157257\n",
      "Epoch 50, training loss: 0.3596309721469879, validation loss: 0.4108424186706543\n",
      "Epoch 60, training loss: 0.3417567312717438, validation loss: 0.38385358452796936\n",
      "Epoch 70, training loss: 0.330683171749115, validation loss: 0.3632306158542633\n",
      "\n",
      "Input sequence:\n",
      "['a', 'a', 'b', 'b']\n",
      "\n",
      "Target sequence:\n",
      "['a', 'b', 'b', 'EOS']\n",
      "\n",
      "Predicted sequence:\n",
      "['a', 'b', 'b', 'EOS']\n"
     ]
    },
    {
     "data": {
      "image/png": "[encoded data removed]",
      "text/plain": [
       "<Figure size 640x480 with 1 Axes>"
      ]
     },
     "metadata": {},
     "output_type": "display_data"
    }
   ],
   "source": [
    "# Hyper-parameters\n",
    "num_epochs = 80\n",
    "\n",
    "# Initialize a new network\n",
    "net = MyRecurrentNet()\n",
    "\n",
    "# Define a loss function and optimizer for this problem\n",
    "criterion = nn.CrossEntropyLoss()\n",
    "optimizer = torch.optim.AdamW(net.parameters(), lr=5e-4)\n",
    "\n",
    "# Track loss\n",
    "training_loss, validation_loss = [], []\n",
    "\n",
    "# For each epoch\n",
    "for i in range(num_epochs):\n",
    "    \n",
    "    # Track loss\n",
    "    epoch_training_loss = 0\n",
    "    epoch_validation_loss = 0\n",
    "    \n",
    "    net.eval()\n",
    "        \n",
    "    # For each sentence in validation set\n",
    "    for inputs, targets in validation_set:\n",
    "        \n",
    "        # One-hot encode input and target sequence\n",
    "        inputs_one_hot = one_hot_encode_sequence(inputs, vocab_size)\n",
    "        targets_idx = [word_to_idx[word] for word in targets]\n",
    "        \n",
    "        # Convert input to tensor\n",
    "        inputs_one_hot = torch.Tensor(inputs_one_hot)\n",
    "        inputs_one_hot = inputs_one_hot.permute(0, 2, 1)\n",
    "        \n",
    "        # Convert target to tensor\n",
    "        targets_idx = torch.LongTensor(targets_idx)\n",
    "        \n",
    "        # Forward pass\n",
    "        outputs = net(inputs_one_hot)\n",
    "        \n",
    "        # Compute loss - cross-entropy\n",
    "        loss = criterion(outputs, targets_idx)\n",
    "        \n",
    "        # Update loss\n",
    "        epoch_validation_loss += loss.detach().numpy()\n",
    "    \n",
    "    net.train()\n",
    "    \n",
    "    # For each sentence in training set\n",
    "    for inputs, targets in training_set:\n",
    "        \n",
    "        # One-hot encode input and target sequence\n",
    "        inputs_one_hot = one_hot_encode_sequence(inputs, vocab_size)\n",
    "        targets_idx = [word_to_idx[word] for word in targets]\n",
    "        \n",
    "        # Convert input to tensor\n",
    "        inputs_one_hot = torch.Tensor(inputs_one_hot)\n",
    "        inputs_one_hot = inputs_one_hot.permute(0, 2, 1)\n",
    "        \n",
    "        # Convert target to tensor\n",
    "        targets_idx = torch.LongTensor(targets_idx)\n",
    "        \n",
    "        # Forward pass\n",
    "        outputs = net(inputs_one_hot)\n",
    "        \n",
    "        # Compute loss\n",
    "        loss = criterion(outputs, targets_idx)\n",
    "        \n",
    "        # Backward pass, zero gradient and step\n",
    "        \n",
    "        # Compute the gradients based on loss from batch\n",
    "        optimizer.zero_grad() # Clean up gradients\n",
    "        loss.backward() # Back-propagation of loss\n",
    "        \n",
    "        # Perform one training step in optimization.\n",
    "        optimizer.step()\n",
    "        \n",
    "        # Update loss\n",
    "        epoch_training_loss += loss.detach().numpy()\n",
    "        \n",
    "    # Save loss for plot\n",
    "    training_loss.append(epoch_training_loss/len(training_set))\n",
    "    validation_loss.append(epoch_validation_loss/len(validation_set))\n",
    "\n",
    "    # Print loss every 10 epochs\n",
    "    if i % 10 == 0:\n",
    "        print(f'Epoch {i}, training loss: {training_loss[-1]}, validation loss: {validation_loss[-1]}')\n",
    "\n",
    "        \n",
    "# Get first sentence in test set\n",
    "inputs, targets = test_set[1]\n",
    "\n",
    "# One-hot encode input and target sequence\n",
    "inputs_one_hot = one_hot_encode_sequence(inputs, vocab_size)\n",
    "targets_idx = [word_to_idx[word] for word in targets]\n",
    "\n",
    "# Convert input to tensor\n",
    "inputs_one_hot = torch.Tensor(inputs_one_hot)\n",
    "inputs_one_hot = inputs_one_hot.permute(0, 2, 1)\n",
    "\n",
    "# Convert target to tensor\n",
    "targets_idx = torch.LongTensor(targets_idx)\n",
    "\n",
    "# Forward pass\n",
    "outputs = net.forward(inputs_one_hot).data.numpy()\n",
    "\n",
    "print('\\nInput sequence:')\n",
    "print(inputs)\n",
    "\n",
    "print('\\nTarget sequence:')\n",
    "print(targets)\n",
    "\n",
    "print('\\nPredicted sequence:')\n",
    "print([idx_to_word[np.argmax(output)] for output in outputs])\n",
    "\n",
    "# Plot training and validation loss\n",
    "epoch = np.arange(len(training_loss))\n",
    "plt.figure()\n",
    "plt.plot(epoch, training_loss, 'r', label='Training loss',)\n",
    "plt.plot(epoch, validation_loss, 'b', label='Validation loss')\n",
    "plt.legend()\n",
    "plt.xlabel('Epoch'), plt.ylabel('NLL')\n",
    "plt.show()"
   ]
  },
  {
   "cell_type": "markdown",
   "metadata": {
    "id": "ydr7Czg_k2iw"
   },
   "source": [
    "# Exercise k) Compare PyTorch and Nanograd implementations\n",
    "\n",
    "Compare the two implementations (in terms of predictive performance, training speed, etc.). Are they similar? How do they differ?\n",
    "\n",
    "\n",
    "Try to play around with the choice of hyper-parameters, optimizer, and hidden dimensions. How much can you improve the negative log-likelihood by these simple changes?"
   ]
  },
  {
   "cell_type": "markdown",
   "metadata": {
    "id": "M93ORx95k2ix"
   },
   "source": [
    "## Exercise l) Other RNN cells (optional)\n",
    "\n",
    "Aside from the LSTM cell, various other RNN cells exist. The gated recurrent unit (GRU) is a variation of the LSTM cell that uses less gating mechanisms. Try to look it up in the [PyTorch documentation](https://pytorch.org/docs/stable/nn.html#gru) and switch out the LSTM cell in the code above. What do you notice in terms of performance and convergence speed?"
   ]
  },
  {
   "cell_type": "markdown",
   "metadata": {
    "id": "juN400Ekk2iz"
   },
   "source": [
    "## Exercise m) More complex tasks (optional)\n",
    "\n",
    "Go back and generate a more complex patterned dataset to learn from. Do you see any significant differences between a vanilla RNN and LSTM (implemented in e.g. PyTorch) when you increase the difficulty of the task?"
   ]
  },
  {
   "cell_type": "markdown",
   "metadata": {
    "id": "v68YEkEBk2iz"
   },
   "source": [
    "# It works, now what?"
   ]
  },
  {
   "cell_type": "markdown",
   "metadata": {
    "id": "NjpqSrSuk2i0"
   },
   "source": [
    "In this notebook you have learned how to use embeddings, recurrent neural networks, and the LSTM cell in particular.\n",
    "\n",
    "As we have already seen, RNNs are excellent for sequential data such as language. But what do we do if we're modelling data with strong dependency in both directions? Like in many things deep learning, we can build powerful models by stacking layers on top of each other; *bi-directional* RNNs consist of two LSTM cells, one for each direction. A sequence is first fed into the forward LSTM cell and the reversed sequence is then used as input to the backward LSTM cell together with the last hidden state from the forward LSTM cell. Follow [this link](https://pdfs.semanticscholar.org/4b80/89bc9b49f84de43acc2eb8900035f7d492b2.pdf) for the original paper from 1997(!).\n",
    "\n",
    "For even deeper representations, multiple layers of both uni-directional and bi-directional RNNs can be stacked ontop of each other, just like feed-forward and convolutional layers. For more information on this, check out the [LSTM PyTorch documentation](https://pytorch.org/docs/stable/nn.html#lstm). Next week we will also explore ways to combine RNNs with other types of layers for even more expressive function approximators."
   ]
  }
 ],
 "metadata": {
  "colab": {
   "collapsed_sections": [
    "bdA4LPsFiACe",
    "cGSoDRgHk2g1",
    "Dzmryk72k2g-",
    "M93ORx95k2ix"
   ],
   "name": "5_2_Recurrent_Neural_Networks_Nanograd.ipynb",
   "provenance": []
  },
  "kernelspec": {
   "display_name": "deep-learn",
   "language": "python",
   "name": "python3"
  },
  "language_info": {
   "codemirror_mode": {
    "name": "ipython",
    "version": 3
   },
   "file_extension": ".py",
   "mimetype": "text/x-python",
   "name": "python",
   "nbconvert_exporter": "python",
   "pygments_lexer": "ipython3",
   "version": "3.12.3"
  }
 },
 "nbformat": 4,
 "nbformat_minor": 1
}
